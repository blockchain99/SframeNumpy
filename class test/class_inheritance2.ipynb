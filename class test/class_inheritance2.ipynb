{
 "cells": [
  {
   "cell_type": "code",
   "execution_count": 1,
   "metadata": {
    "collapsed": true
   },
   "outputs": [],
   "source": [
    "from abc import ABCMeta, abstractmethod\n",
    "class Vehicle(object):\n",
    "    \"\"\"A vehicle for sale by Jeffco Car Dealership.\n",
    "\n",
    "\n",
    "    Attributes:\n",
    "        wheels: An integer representing the number of wheels the vehicle has.\n",
    "        miles: The integral number of miles driven on the vehicle.\n",
    "        make: The make of the vehicle as a string.\n",
    "        model: The model of the vehicle as a string.\n",
    "        year: The integral year the vehicle was built.\n",
    "        sold_on: The date the vehicle was sold.\n",
    "    \"\"\"\n",
    "\n",
    "    __metaclass__ = ABCMeta\n",
    "\n",
    "    base_sale_price = 0\n",
    "    wheels = 0\n",
    "\n",
    "    def __init__(self, miles, make, model, year, sold_on):\n",
    "        self.miles = miles\n",
    "        self.make = make\n",
    "        self.model = model\n",
    "        self.year = year\n",
    "        self.sold_on = sold_on\n",
    "\n",
    "    def sale_price(self):\n",
    "        \"\"\"Return the sale price for this vehicle as a float amount.\"\"\"\n",
    "        if self.sold_on is not None:\n",
    "            return 0.0  # Already sold\n",
    "        return 5000.0 * self.wheels\n",
    "\n",
    "    def purchase_price(self):\n",
    "        \"\"\"Return the price for which we would pay to purchase the vehicle.\"\"\"\n",
    "        if self.sold_on is None:\n",
    "            return 0.0  # Not yet sold\n",
    "        return self.base_sale_price - (.10 * self.miles)\n",
    "\n",
    "    @abstractmethod\n",
    "    def vehicle_type(self):\n",
    "        \"\"\"\"Return a string representing the type of vehicle this is.\"\"\"\n",
    "        pass"
   ]
  },
  {
   "cell_type": "code",
   "execution_count": 2,
   "metadata": {
    "collapsed": true
   },
   "outputs": [],
   "source": [
    "class Car(Vehicle):\n",
    "    \"\"\"A car for sale by Jeffco Car Dealership.\"\"\"\n",
    "\n",
    "    base_sale_price = 8000\n",
    "    wheels = 4\n",
    "\n",
    "    def vehicle_type(self):\n",
    "        \"\"\"\"Return a string representing the type of vehicle this is.\"\"\"\n",
    "        return 'car'\n"
   ]
  },
  {
   "cell_type": "code",
   "execution_count": 3,
   "metadata": {
    "collapsed": true
   },
   "outputs": [],
   "source": [
    "class Truck(Vehicle):\n",
    "    \"\"\"A truck for sale by Jeffco Car Dealership.\"\"\"\n",
    "\n",
    "    base_sale_price = 10000\n",
    "    wheels = 4\n",
    "\n",
    "    def vehicle_type(self):\n",
    "        \"\"\"\"Return a string representing the type of vehicle this is.\"\"\"\n",
    "        return 'truck'"
   ]
  },
  {
   "cell_type": "code",
   "execution_count": 4,
   "metadata": {
    "collapsed": true
   },
   "outputs": [],
   "source": [
    "class Motorcycle(Vehicle):\n",
    "    \"\"\"A motorcycle for sale by Jeffco Car Dealership.\"\"\"\n",
    "\n",
    "    base_sale_price = 4000\n",
    "    wheels = 2\n",
    "\n",
    "    def vehicle_type(self):\n",
    "        \"\"\"\"Return a string representing the type of vehicle this is.\"\"\"\n",
    "        return 'motorcycle'"
   ]
  },
  {
   "cell_type": "code",
   "execution_count": null,
   "metadata": {
    "collapsed": true
   },
   "outputs": [],
   "source": []
  }
 ],
 "metadata": {
  "kernelspec": {
   "display_name": "Python 2",
   "language": "python",
   "name": "python2"
  },
  "language_info": {
   "codemirror_mode": {
    "name": "ipython",
    "version": 2
   },
   "file_extension": ".py",
   "mimetype": "text/x-python",
   "name": "python",
   "nbconvert_exporter": "python",
   "pygments_lexer": "ipython2",
   "version": "2.7.10"
  }
 },
 "nbformat": 4,
 "nbformat_minor": 0
}
