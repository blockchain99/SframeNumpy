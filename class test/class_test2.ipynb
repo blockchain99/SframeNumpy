{
 "cells": [
  {
   "cell_type": "code",
   "execution_count": 1,
   "metadata": {
    "collapsed": true
   },
   "outputs": [],
   "source": [
    "class Customer(object):\n",
    "    \"\"\"A customer of ABC Bank with a checking account. Customers have the\n",
    "    following properties:\n",
    "\n",
    "    Attributes:\n",
    "        name: A string representing the customer's name.\n",
    "        balance: A float tracking the current balance of the customer's account.\n",
    "    \"\"\"\n",
    "\n",
    "    def __init__(self, name):\n",
    "        \"\"\"Return a Customer object whose name is *name*.\"\"\" \n",
    "        self.name = name\n",
    "\n",
    "    def set_balance(self, balance=0.0):\n",
    "        \"\"\"Set the customer's starting balance.\"\"\"\n",
    "        self.balance = balance\n",
    "\n",
    "    def withdraw(self, amount):\n",
    "        \"\"\"Return the balance remaining after withdrawing *amount*\n",
    "        dollars.\"\"\"\n",
    "        if amount > self.balance:\n",
    "            raise RuntimeError('Amount greater than available balance.')\n",
    "        self.balance -= amount\n",
    "        return self.balance\n",
    "\n",
    "    def deposit(self, amount):\n",
    "        \"\"\"Return the balance remaining after depositing *amount*\n",
    "        dollars.\"\"\"\n",
    "        self.balance += amount\n",
    "        return self.balance"
   ]
  },
  {
   "cell_type": "code",
   "execution_count": 2,
   "metadata": {
    "collapsed": true
   },
   "outputs": [],
   "source": [
    "cu2 = Customer(\"YS\")"
   ]
  },
  {
   "cell_type": "code",
   "execution_count": 3,
   "metadata": {
    "collapsed": true
   },
   "outputs": [],
   "source": [
    "cu2.set_balance(1000)"
   ]
  },
  {
   "cell_type": "code",
   "execution_count": 5,
   "metadata": {
    "collapsed": false
   },
   "outputs": [],
   "source": [
    "cu2.name= \"James\""
   ]
  },
  {
   "cell_type": "code",
   "execution_count": 6,
   "metadata": {
    "collapsed": false
   },
   "outputs": [
    {
     "name": "stdout",
     "output_type": "stream",
     "text": [
      "James\n"
     ]
    }
   ],
   "source": [
    "print cu2.name"
   ]
  },
  {
   "cell_type": "code",
   "execution_count": 7,
   "metadata": {
    "collapsed": true
   },
   "outputs": [],
   "source": [
    "#static method\n",
    "#self is the instance of the Customer\n",
    "class Car(object):\n",
    "\n",
    "    wheels = 4\n",
    "## Instance methods\n",
    "#they can access and modify anything previously set on self. Because they use self, \n",
    "#they require an instance of the class in order to be used. So called instance method.\n",
    "    def __init__(self, make, model):  #(with self)\n",
    "        self.make = make\n",
    "        self.model = model\n",
    "##static method\n",
    "## Just like class attributes, they are methods that work without requiring an instance to be present.\n",
    "    @staticmethod\n",
    "    def make_car_sound():             #(w/o self)          \n",
    "        print 'VRooooommmm!'\n",
    "##classmethod\n",
    "#Instead of receiving the instance as the first parameter(self), it is passed the class. (with inheritance).\n",
    "    @classmethod\n",
    "    def is_motorcycle(cls):\n",
    "        return cls.wheels == 2"
   ]
  },
  {
   "cell_type": "code",
   "execution_count": 9,
   "metadata": {
    "collapsed": false
   },
   "outputs": [
    {
     "name": "stdout",
     "output_type": "stream",
     "text": [
      "4\n",
      "Ford\n",
      "Mustang\n"
     ]
    }
   ],
   "source": [
    "#Instance methods can access these attributes in the same way they access regular attributes: through self (i.e. self.wheels).\n",
    "mustang = Car('Ford', 'Mustang')  #instance\n",
    "print mustang.wheels\n",
    "print mustang.make\n",
    "print mustang.model"
   ]
  },
  {
   "cell_type": "code",
   "execution_count": 10,
   "metadata": {
    "collapsed": false
   },
   "outputs": [
    {
     "name": "stdout",
     "output_type": "stream",
     "text": [
      "4\n"
     ]
    }
   ],
   "source": [
    "#Instance methods can access these attributes in the same way they access regular attributes: through self (i.e. self.wheels)\n",
    "print Car.wheels "
   ]
  },
  {
   "cell_type": "code",
   "execution_count": null,
   "metadata": {
    "collapsed": true
   },
   "outputs": [],
   "source": []
  }
 ],
 "metadata": {
  "kernelspec": {
   "display_name": "Python 2",
   "language": "python",
   "name": "python2"
  },
  "language_info": {
   "codemirror_mode": {
    "name": "ipython",
    "version": 2
   },
   "file_extension": ".py",
   "mimetype": "text/x-python",
   "name": "python",
   "nbconvert_exporter": "python",
   "pygments_lexer": "ipython2",
   "version": "2.7.10"
  }
 },
 "nbformat": 4,
 "nbformat_minor": 0
}
