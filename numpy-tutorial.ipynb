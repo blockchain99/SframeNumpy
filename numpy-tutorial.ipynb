{
 "cells": [
  {
   "cell_type": "markdown",
   "metadata": {},
   "source": [
    "#Numpy Tutorial"
   ]
  },
  {
   "cell_type": "markdown",
   "metadata": {},
   "source": [
    "Numpy is a computational library for Python that is optimized for operations on multi-dimensional arrays. In this notebook we will use numpy to work with 1-d arrays (often called vectors) and 2-d arrays (often called matrices).\n",
    "\n",
    "For a the full user guide and reference for numpy see: http://docs.scipy.org/doc/numpy/"
   ]
  },
  {
   "cell_type": "code",
   "execution_count": 1,
   "metadata": {
    "collapsed": true
   },
   "outputs": [],
   "source": [
    "import numpy as np # importing this way allows us to refer to numpy as np"
   ]
  },
  {
   "cell_type": "markdown",
   "metadata": {},
   "source": [
    "# Creating Numpy Arrays"
   ]
  },
  {
   "cell_type": "markdown",
   "metadata": {},
   "source": [
    "New arrays can be made in several ways. We can take an existing list and convert it to a numpy array:"
   ]
  },
  {
   "cell_type": "code",
   "execution_count": 2,
   "metadata": {
    "collapsed": false
   },
   "outputs": [
    {
     "data": {
      "text/plain": [
       "array([ 1.,  2.,  3.,  4.])"
      ]
     },
     "execution_count": 2,
     "metadata": {},
     "output_type": "execute_result"
    }
   ],
   "source": [
    "mylist = [1., 2., 3., 4.]\n",
    "mynparray = np.array(mylist)\n",
    "mynparray"
   ]
  },
  {
   "cell_type": "markdown",
   "metadata": {},
   "source": [
    "You can initialize an array (of any dimension) of all ones or all zeroes with the ones() and zeros() functions:"
   ]
  },
  {
   "cell_type": "code",
   "execution_count": 3,
   "metadata": {
    "collapsed": false
   },
   "outputs": [
    {
     "name": "stdout",
     "output_type": "stream",
     "text": [
      "[ 1.  1.  1.  1.]\n"
     ]
    }
   ],
   "source": [
    "one_vector = np.ones(4)\n",
    "print one_vector # using print removes the array() portion"
   ]
  },
  {
   "cell_type": "code",
   "execution_count": 4,
   "metadata": {
    "collapsed": false
   },
   "outputs": [
    {
     "name": "stdout",
     "output_type": "stream",
     "text": [
      "[[ 0.  0.  0.  0.]\n",
      " [ 0.  0.  0.  0.]]\n"
     ]
    }
   ],
   "source": [
    "one2Darray = np.zeros((2, 4)) # an 2D array with 2 \"rows\" and 4 \"columns\"\n",
    "print one2Darray"
   ]
  },
  {
   "cell_type": "code",
   "execution_count": 5,
   "metadata": {
    "collapsed": false
   },
   "outputs": [
    {
     "name": "stdout",
     "output_type": "stream",
     "text": [
      "[ 0.  0.  0.  0.]\n"
     ]
    }
   ],
   "source": [
    "zero_vector = np.zeros(4)\n",
    "print zero_vector"
   ]
  },
  {
   "cell_type": "markdown",
   "metadata": {},
   "source": [
    "You can also initialize an empty array which will be filled with values. This is the fastest way to initialize a fixed-size numpy array however you must ensure that you replace all of the values."
   ]
  },
  {
   "cell_type": "code",
   "execution_count": 6,
   "metadata": {
    "collapsed": false
   },
   "outputs": [
    {
     "name": "stdout",
     "output_type": "stream",
     "text": [
      "[  3.54214792e-316   2.59023599e-316   3.54216689e-316   1.88923509e-316\n",
      "   3.53121523e-316]\n"
     ]
    }
   ],
   "source": [
    "empty_vector = np.empty(5)\n",
    "print empty_vector"
   ]
  },
  {
   "cell_type": "markdown",
   "metadata": {},
   "source": [
    "#Accessing array elements"
   ]
  },
  {
   "cell_type": "markdown",
   "metadata": {},
   "source": [
    "Accessing an array is straight forward. For vectors you access the index by referring to it inside square brackets. Recall that indices in Python start with 0."
   ]
  },
  {
   "cell_type": "code",
   "execution_count": 7,
   "metadata": {
    "collapsed": false
   },
   "outputs": [
    {
     "data": {
      "text/plain": [
       "3.0"
      ]
     },
     "execution_count": 7,
     "metadata": {},
     "output_type": "execute_result"
    }
   ],
   "source": [
    "mynparray[2]"
   ]
  },
  {
   "cell_type": "markdown",
   "metadata": {},
   "source": [
    "2D arrays are accessed similarly by referring to the row and column index separated by a comma:"
   ]
  },
  {
   "cell_type": "code",
   "execution_count": 8,
   "metadata": {
    "collapsed": false
   },
   "outputs": [
    {
     "name": "stdout",
     "output_type": "stream",
     "text": [
      "[[1 2 3]\n",
      " [4 5 6]]\n"
     ]
    }
   ],
   "source": [
    "my_matrix = np.array([[1, 2, 3], [4, 5, 6]])\n",
    "print my_matrix"
   ]
  },
  {
   "cell_type": "code",
   "execution_count": 9,
   "metadata": {
    "collapsed": false
   },
   "outputs": [
    {
     "name": "stdout",
     "output_type": "stream",
     "text": [
      "6\n"
     ]
    }
   ],
   "source": [
    "print my_matrix[1, 2]"
   ]
  },
  {
   "cell_type": "code",
   "execution_count": 10,
   "metadata": {
    "collapsed": false
   },
   "outputs": [
    {
     "name": "stdout",
     "output_type": "stream",
     "text": [
      "6\n"
     ]
    }
   ],
   "source": [
    "print my_matrix[1][2]"
   ]
  },
  {
   "cell_type": "markdown",
   "metadata": {},
   "source": [
    "Sequences of indices can be accessed using ':' for example"
   ]
  },
  {
   "cell_type": "code",
   "execution_count": 11,
   "metadata": {
    "collapsed": false
   },
   "outputs": [
    {
     "name": "stdout",
     "output_type": "stream",
     "text": [
      "[3 6]\n"
     ]
    }
   ],
   "source": [
    "print my_matrix[0:2, 2] # recall 0:2 = [0, 1]"
   ]
  },
  {
   "cell_type": "code",
   "execution_count": 12,
   "metadata": {
    "collapsed": false
   },
   "outputs": [
    {
     "name": "stdout",
     "output_type": "stream",
     "text": [
      "[1 2 3]\n"
     ]
    }
   ],
   "source": [
    "print my_matrix[0, 0:3]"
   ]
  },
  {
   "cell_type": "markdown",
   "metadata": {},
   "source": [
    "You can also pass a list of indices. "
   ]
  },
  {
   "cell_type": "code",
   "execution_count": 13,
   "metadata": {
    "collapsed": false
   },
   "outputs": [
    {
     "name": "stdout",
     "output_type": "stream",
     "text": [
      "[ 0.26778729  0.77828832  0.29455702  0.59060385  0.50441565  0.41784199\n",
      "  0.88387887  0.13884825  0.973098    0.92844813]\n",
      "random_vector2 :\n",
      "3\n",
      "random_vectir3:\n",
      "[[  9.91505106e+01   3.23322195e+01]\n",
      " [  6.60773690e-02   4.25871734e+01]\n",
      " [  8.02325986e+01   4.98862607e+01]]\n"
     ]
    }
   ],
   "source": [
    "import numpy as np\n",
    "fib_indices = np.array([1, 1, 2, 3])\n",
    "random_vector = np.random.random(10) # 10 random numbers between 0 and 1\n",
    "print random_vector\n",
    "random_vector2 = np.random.randint(1, 6) \n",
    "print \"random_vector2 :\\n\",random_vector2\n",
    "random_vector3= np.random.rand(3,2)*100\n",
    "print \"random_vectir3:\\n\",random_vector3"
   ]
  },
  {
   "cell_type": "code",
   "execution_count": 14,
   "metadata": {
    "collapsed": false
   },
   "outputs": [
    {
     "name": "stdout",
     "output_type": "stream",
     "text": [
      "[ 0.77828832  0.77828832  0.29455702  0.59060385]\n"
     ]
    }
   ],
   "source": [
    "print random_vector[fib_indices]"
   ]
  },
  {
   "cell_type": "markdown",
   "metadata": {},
   "source": [
    "You can also use true/false values to select values"
   ]
  },
  {
   "cell_type": "code",
   "execution_count": 15,
   "metadata": {
    "collapsed": false
   },
   "outputs": [
    {
     "name": "stdout",
     "output_type": "stream",
     "text": [
      "[1 3]\n"
     ]
    }
   ],
   "source": [
    "my_vector = np.array([1, 2, 3, 4])\n",
    "select_index = np.array([True, False, True, False])\n",
    "print my_vector[select_index]"
   ]
  },
  {
   "cell_type": "markdown",
   "metadata": {},
   "source": [
    "For 2D arrays you can select specific columns and specific rows. Passing ':' selects all rows/columns"
   ]
  },
  {
   "cell_type": "code",
   "execution_count": 16,
   "metadata": {
    "collapsed": false
   },
   "outputs": [],
   "source": [
    "select_cols = np.array([True, False, True]) # 1st and 3rd column\n",
    "select_rows = np.array([False, True]) # 2nd row"
   ]
  },
  {
   "cell_type": "code",
   "execution_count": 17,
   "metadata": {
    "collapsed": false
   },
   "outputs": [
    {
     "name": "stdout",
     "output_type": "stream",
     "text": [
      "[[4 5 6]]\n"
     ]
    }
   ],
   "source": [
    "print my_matrix[select_rows, :] # just 2nd row but all columns"
   ]
  },
  {
   "cell_type": "code",
   "execution_count": 18,
   "metadata": {
    "collapsed": false
   },
   "outputs": [
    {
     "name": "stdout",
     "output_type": "stream",
     "text": [
      "[[1 3]\n",
      " [4 6]]\n"
     ]
    }
   ],
   "source": [
    "print my_matrix[:, select_cols] # all rows and just the 1st and 3rd column"
   ]
  },
  {
   "cell_type": "markdown",
   "metadata": {},
   "source": [
    "#Operations on Arrays"
   ]
  },
  {
   "cell_type": "markdown",
   "metadata": {},
   "source": [
    "You can use the operations '\\*', '\\*\\*', '\\\\', '+' and '-' on numpy arrays and they operate elementwise."
   ]
  },
  {
   "cell_type": "code",
   "execution_count": 19,
   "metadata": {
    "collapsed": false
   },
   "outputs": [
    {
     "ename": "ValueError",
     "evalue": "setting an array element with a sequence.",
     "output_type": "error",
     "traceback": [
      "\u001b[1;31m---------------------------------------------------------------------------\u001b[0m",
      "\u001b[1;31mValueError\u001b[0m                                Traceback (most recent call last)",
      "\u001b[1;32m<ipython-input-19-3f3f041b1625>\u001b[0m in \u001b[0;36m<module>\u001b[1;34m()\u001b[0m\n\u001b[0;32m      4\u001b[0m \u001b[1;32mimport\u001b[0m \u001b[0mnumpy\u001b[0m \u001b[1;32mas\u001b[0m \u001b[0mnp\u001b[0m\u001b[1;33m\u001b[0m\u001b[0m\n\u001b[0;32m      5\u001b[0m \u001b[0mA\u001b[0m \u001b[1;33m=\u001b[0m \u001b[0mnp\u001b[0m\u001b[1;33m.\u001b[0m\u001b[0mzeros\u001b[0m\u001b[1;33m(\u001b[0m\u001b[1;33m(\u001b[0m\u001b[1;36m3\u001b[0m\u001b[1;33m,\u001b[0m\u001b[1;36m3\u001b[0m\u001b[1;33m)\u001b[0m\u001b[1;33m)\u001b[0m\u001b[1;33m\u001b[0m\u001b[0m\n\u001b[1;32m----> 6\u001b[1;33m \u001b[0mA\u001b[0m\u001b[1;33m[\u001b[0m\u001b[1;36m1\u001b[0m\u001b[1;33m,\u001b[0m\u001b[1;36m1\u001b[0m\u001b[1;33m]\u001b[0m \u001b[1;33m=\u001b[0m \u001b[0mnp\u001b[0m\u001b[1;33m.\u001b[0m\u001b[0marray\u001b[0m\u001b[1;33m(\u001b[0m\u001b[1;33m[\u001b[0m\u001b[1;36m1\u001b[0m\u001b[1;33m,\u001b[0m\u001b[1;36m2\u001b[0m\u001b[1;33m]\u001b[0m\u001b[1;33m)\u001b[0m\u001b[1;33m\u001b[0m\u001b[0m\n\u001b[0m",
      "\u001b[1;31mValueError\u001b[0m: setting an array element with a sequence."
     ]
    }
   ],
   "source": [
    "#setting an array element with a sequence. exmaple\n",
    "# happens if we try to write something into a single place (array cell, matrix entry) \n",
    "# of an array and this something is not a scalar value but vector(ex 2 by 3 array, or list)\n",
    "import numpy as np\n",
    "A = np.zeros((3,3))\n",
    "A[1,1] = np.array([1,2])\n"
   ]
  },
  {
   "cell_type": "code",
   "execution_count": 20,
   "metadata": {
    "collapsed": false
   },
   "outputs": [
    {
     "name": "stdout",
     "output_type": "stream",
     "text": [
      "([[1,2,3]]): (1L, 3L)\n",
      "traspose v: \n",
      "(3L, 1L)\n",
      "[[1]\n",
      " [2]\n",
      " [3]]\n",
      "[[1 2 3]\n",
      " [2 4 6]\n",
      " [3 6 9]]\n"
     ]
    },
    {
     "ename": "ValueError",
     "evalue": "setting an array element with a sequence.",
     "output_type": "error",
     "traceback": [
      "\u001b[1;31m---------------------------------------------------------------------------\u001b[0m",
      "\u001b[1;31mValueError\u001b[0m                                Traceback (most recent call last)",
      "\u001b[1;32m<ipython-input-20-37bf605c3ff5>\u001b[0m in \u001b[0;36m<module>\u001b[1;34m()\u001b[0m\n\u001b[0;32m      5\u001b[0m \u001b[1;32mprint\u001b[0m \u001b[0mnp\u001b[0m\u001b[1;33m.\u001b[0m\u001b[0mtranspose\u001b[0m\u001b[1;33m(\u001b[0m\u001b[0mv\u001b[0m\u001b[1;33m)\u001b[0m\u001b[1;33m\u001b[0m\u001b[0m\n\u001b[0;32m      6\u001b[0m \u001b[1;32mprint\u001b[0m  \u001b[0mnp\u001b[0m\u001b[1;33m.\u001b[0m\u001b[0mdot\u001b[0m\u001b[1;33m(\u001b[0m\u001b[0mnp\u001b[0m\u001b[1;33m.\u001b[0m\u001b[0mtranspose\u001b[0m\u001b[1;33m(\u001b[0m\u001b[0mv\u001b[0m\u001b[1;33m)\u001b[0m\u001b[1;33m,\u001b[0m \u001b[0mv\u001b[0m\u001b[1;33m)\u001b[0m\u001b[1;33m\u001b[0m\u001b[0m\n\u001b[1;32m----> 7\u001b[1;33m \u001b[0mA\u001b[0m\u001b[1;33m[\u001b[0m\u001b[1;36m1\u001b[0m\u001b[1;33m,\u001b[0m\u001b[1;36m1\u001b[0m\u001b[1;33m]\u001b[0m \u001b[1;33m=\u001b[0m \u001b[0mnp\u001b[0m\u001b[1;33m.\u001b[0m\u001b[0mdot\u001b[0m\u001b[1;33m(\u001b[0m\u001b[0mnp\u001b[0m\u001b[1;33m.\u001b[0m\u001b[0mtranspose\u001b[0m\u001b[1;33m(\u001b[0m\u001b[0mv\u001b[0m\u001b[1;33m)\u001b[0m\u001b[1;33m,\u001b[0m \u001b[0mv\u001b[0m\u001b[1;33m)\u001b[0m\u001b[1;33m\u001b[0m\u001b[0m\n\u001b[0m",
      "\u001b[1;31mValueError\u001b[0m: setting an array element with a sequence."
     ]
    }
   ],
   "source": [
    "#setting an array element with a sequence. exmaple\n",
    "v = np.array([[1,2,3]])\n",
    "print \"([[1,2,3]]):\",v.shape\n",
    "print \"traspose v: \\n\",(np.transpose(v)).shape\n",
    "print np.transpose(v)\n",
    "print  np.dot(np.transpose(v), v)\n",
    "A[1,1] = np.dot(np.transpose(v), v)"
   ]
  },
  {
   "cell_type": "code",
   "execution_count": 21,
   "metadata": {
    "collapsed": false
   },
   "outputs": [
    {
     "name": "stdout",
     "output_type": "stream",
     "text": [
      "derivative1 []\n",
      "np_der []\n"
     ]
    },
    {
     "ename": "ValueError",
     "evalue": "setting an array element with a sequence.",
     "output_type": "error",
     "traceback": [
      "\u001b[1;31m---------------------------------------------------------------------------\u001b[0m",
      "\u001b[1;31mValueError\u001b[0m                                Traceback (most recent call last)",
      "\u001b[1;32m<ipython-input-21-c6bd1eda5cab>\u001b[0m in \u001b[0;36m<module>\u001b[1;34m()\u001b[0m\n\u001b[0;32m     25\u001b[0m     \u001b[0mnp_der\u001b[0m \u001b[1;33m=\u001b[0m \u001b[0mnp\u001b[0m\u001b[1;33m.\u001b[0m\u001b[0mdot\u001b[0m\u001b[1;33m(\u001b[0m\u001b[1;36m1e-12\u001b[0m\u001b[1;33m,\u001b[0m \u001b[0mderivative\u001b[0m\u001b[1;33m)\u001b[0m\u001b[1;33m\u001b[0m\u001b[0m\n\u001b[0;32m     26\u001b[0m     \u001b[1;32mprint\u001b[0m \u001b[1;34m\"np_der\"\u001b[0m\u001b[1;33m,\u001b[0m\u001b[0mnp_der\u001b[0m\u001b[1;33m\u001b[0m\u001b[0m\n\u001b[1;32m---> 27\u001b[1;33m     \u001b[0mmy2_np\u001b[0m\u001b[1;33m[\u001b[0m\u001b[0mi\u001b[0m\u001b[1;33m]\u001b[0m \u001b[1;33m=\u001b[0m \u001b[0mmy2_np\u001b[0m\u001b[1;33m[\u001b[0m\u001b[0mi\u001b[0m\u001b[1;33m]\u001b[0m \u001b[1;33m+\u001b[0m \u001b[0mnp_der\u001b[0m\u001b[1;33m\u001b[0m\u001b[0m\n\u001b[0m\u001b[0;32m     28\u001b[0m \u001b[1;32mprint\u001b[0m \u001b[0mmy2_np\u001b[0m\u001b[1;33m\u001b[0m\u001b[0m\n",
      "\u001b[1;31mValueError\u001b[0m: setting an array element with a sequence."
     ]
    }
   ],
   "source": [
    "import numpy as np\n",
    "my2_np = np.array([0.,0.])\n",
    "l2_penalty = 1.0\n",
    "weights = my2_np\n",
    "features =np.array([[1.00000000e+00,  1.18000000e+03],\n",
    "                    [1.00000000e+00 ,  2.57000000e+03]])\n",
    "errors= [-221900., -538000.]\n",
    "np_err = np.array(errors)\n",
    "def feature_derivative_ridge(feature_is_constant):\n",
    "    # If feature_is_constant is True, derivative is twice the dot product of errors and feature\n",
    "    if feature_is_constant ==True:   #constant \n",
    "        derivative = np.array(-18752698930.0)\n",
    "    else:   # list\n",
    "        derivative =np.array([ -1.87526989e+10 , -1.87526989e+10])\n",
    "    return derivative\n",
    "\n",
    "for i in range(len(my2_np)):\n",
    "    if i == 0:\n",
    "        derivative = 2 * np.dot(features[:i], np_err )      #shapes (2,2) and (1,) not aligned: 2 (dim 1) != 1 (dim 0) error !\n",
    "        #derivative = 2 * np.dot(errors,features[:i] )     \n",
    "        print \"derivative1\", derivative     #same\n",
    "    else :\n",
    "        derivative = 2 * np.dot(features[:i],np_err ) + 2 * l2_penalty*weight \n",
    "        print derivative\n",
    "    np_der = np.dot(1e-12, derivative)\n",
    "    print \"np_der\",np_der\n",
    "    my2_np[i] = my2_np[i] + np_der\n",
    "print my2_np    "
   ]
  },
  {
   "cell_type": "code",
   "execution_count": 22,
   "metadata": {
    "collapsed": false
   },
   "outputs": [
    {
     "name": "stdout",
     "output_type": "stream",
     "text": [
      "[  1.   4.   9.  16.]\n"
     ]
    }
   ],
   "source": [
    "my_array = np.array([1., 2., 3., 4.])\n",
    "print my_array*my_array"
   ]
  },
  {
   "cell_type": "code",
   "execution_count": 23,
   "metadata": {
    "collapsed": false
   },
   "outputs": [
    {
     "name": "stdout",
     "output_type": "stream",
     "text": [
      "[  1.   4.   9.  16.]\n"
     ]
    }
   ],
   "source": [
    "print my_array**2"
   ]
  },
  {
   "cell_type": "code",
   "execution_count": 24,
   "metadata": {
    "collapsed": false
   },
   "outputs": [
    {
     "name": "stdout",
     "output_type": "stream",
     "text": [
      "[ 0.  1.  2.  3.]\n"
     ]
    }
   ],
   "source": [
    "print my_array - np.ones(4)"
   ]
  },
  {
   "cell_type": "code",
   "execution_count": 25,
   "metadata": {
    "collapsed": false
   },
   "outputs": [
    {
     "name": "stdout",
     "output_type": "stream",
     "text": [
      "[ 2.  3.  4.  5.]\n"
     ]
    }
   ],
   "source": [
    "print my_array + np.ones(4)"
   ]
  },
  {
   "cell_type": "code",
   "execution_count": 26,
   "metadata": {
    "collapsed": false
   },
   "outputs": [
    {
     "name": "stdout",
     "output_type": "stream",
     "text": [
      "[ 0.33333333  0.66666667  1.          1.33333333]\n"
     ]
    }
   ],
   "source": [
    "print my_array / 3"
   ]
  },
  {
   "cell_type": "code",
   "execution_count": 27,
   "metadata": {
    "collapsed": false
   },
   "outputs": [
    {
     "name": "stdout",
     "output_type": "stream",
     "text": [
      "[ 0.5         0.66666667  0.75        0.8       ]\n"
     ]
    }
   ],
   "source": [
    "print my_array / np.array([2., 3., 4., 5.]) # = [1.0/2.0, 2.0/3.0, 3.0/4.0, 4.0/5.0]"
   ]
  },
  {
   "cell_type": "markdown",
   "metadata": {},
   "source": [
    "You can compute the sum with np.sum() and the average with np.average()"
   ]
  },
  {
   "cell_type": "code",
   "execution_count": 28,
   "metadata": {
    "collapsed": false
   },
   "outputs": [
    {
     "name": "stdout",
     "output_type": "stream",
     "text": [
      "10.0\n"
     ]
    }
   ],
   "source": [
    "print np.sum(my_array)"
   ]
  },
  {
   "cell_type": "code",
   "execution_count": 29,
   "metadata": {
    "collapsed": false
   },
   "outputs": [
    {
     "name": "stdout",
     "output_type": "stream",
     "text": [
      "2.5\n"
     ]
    }
   ],
   "source": [
    "print np.average(my_array)"
   ]
  },
  {
   "cell_type": "code",
   "execution_count": 30,
   "metadata": {
    "collapsed": false
   },
   "outputs": [
    {
     "name": "stdout",
     "output_type": "stream",
     "text": [
      "2.5\n"
     ]
    }
   ],
   "source": [
    "print np.sum(my_array)/len(my_array)"
   ]
  },
  {
   "cell_type": "markdown",
   "metadata": {},
   "source": [
    "#The dot product"
   ]
  },
  {
   "cell_type": "markdown",
   "metadata": {},
   "source": [
    "An important mathematical operation in linear algebra is the dot product. \n",
    "\n",
    "When we compute the dot product between two vectors we are simply multiplying them elementwise and adding them up. In numpy you can do this with np.dot()"
   ]
  },
  {
   "cell_type": "code",
   "execution_count": 31,
   "metadata": {
    "collapsed": false
   },
   "outputs": [
    {
     "name": "stdout",
     "output_type": "stream",
     "text": [
      "40.0\n"
     ]
    }
   ],
   "source": [
    "array1 = np.array([1., 2., 3., 4.])\n",
    "array2 = np.array([2., 3., 4., 5.])\n",
    "print np.dot(array1, array2)"
   ]
  },
  {
   "cell_type": "code",
   "execution_count": 32,
   "metadata": {
    "collapsed": false
   },
   "outputs": [
    {
     "name": "stdout",
     "output_type": "stream",
     "text": [
      "20\n"
     ]
    }
   ],
   "source": [
    "ar1 = np.array([1,2,3])   # 1d array -> check only lengh is same?\n",
    "ar2 = np.array([2,3,4])\n",
    "ar3 = np.dot(ar1, ar2)\n",
    "print ar3"
   ]
  },
  {
   "cell_type": "code",
   "execution_count": 33,
   "metadata": {
    "collapsed": false
   },
   "outputs": [
    {
     "name": "stdout",
     "output_type": "stream",
     "text": [
      "40.0\n"
     ]
    }
   ],
   "source": [
    "print np.sum(array1*array2)"
   ]
  },
  {
   "cell_type": "markdown",
   "metadata": {},
   "source": [
    "Recall that the Euclidean length (or magnitude) of a vector is the squareroot of the sum of the squares of the components. This is just the squareroot of the dot product of the vector with itself:"
   ]
  },
  {
   "cell_type": "code",
   "execution_count": 34,
   "metadata": {
    "collapsed": false
   },
   "outputs": [
    {
     "name": "stdout",
     "output_type": "stream",
     "text": [
      "5.47722557505\n"
     ]
    }
   ],
   "source": [
    "array1_mag = np.sqrt(np.dot(array1, array1))\n",
    "print array1_mag"
   ]
  },
  {
   "cell_type": "code",
   "execution_count": 35,
   "metadata": {
    "collapsed": false
   },
   "outputs": [
    {
     "name": "stdout",
     "output_type": "stream",
     "text": [
      "5.47722557505\n"
     ]
    }
   ],
   "source": [
    "print np.sqrt(np.sum(array1*array1))"
   ]
  },
  {
   "cell_type": "markdown",
   "metadata": {},
   "source": [
    "We can also use the dot product when we have a 2D array (or matrix). When you have an vector with the same number of elements as the matrix (2D array) has columns you can right-multiply the matrix by the vector to get another vector with the same number of elements as the matrix has rows. For example this is how you compute the predicted values given a matrix of features and an array of weights."
   ]
  },
  {
   "cell_type": "code",
   "execution_count": 36,
   "metadata": {
    "collapsed": false
   },
   "outputs": [
    {
     "name": "stdout",
     "output_type": "stream",
     "text": [
      "[[ 1.  2.]\n",
      " [ 3.  4.]\n",
      " [ 5.  6.]\n",
      " [ 7.  8.]]\n"
     ]
    },
    {
     "data": {
      "text/plain": [
       "(4L, 2L)"
      ]
     },
     "execution_count": 36,
     "metadata": {},
     "output_type": "execute_result"
    }
   ],
   "source": [
    "my_features = np.array([[1., 2.], [3., 4.], [5., 6.], [7., 8.]])\n",
    "print my_features\n",
    "my_features.shape"
   ]
  },
  {
   "cell_type": "code",
   "execution_count": 37,
   "metadata": {
    "collapsed": false
   },
   "outputs": [
    {
     "name": "stdout",
     "output_type": "stream",
     "text": [
      "[ 0.4  0.5]\n"
     ]
    },
    {
     "data": {
      "text/plain": [
       "(2L,)"
      ]
     },
     "execution_count": 37,
     "metadata": {},
     "output_type": "execute_result"
    }
   ],
   "source": [
    "my_weights = np.array([0.4, 0.5])\n",
    "print my_weights\n",
    "my_weights.shape"
   ]
  },
  {
   "cell_type": "code",
   "execution_count": 38,
   "metadata": {
    "collapsed": false
   },
   "outputs": [
    {
     "name": "stdout",
     "output_type": "stream",
     "text": [
      "[3 4 5]\n",
      "[3 4 5]\n",
      "(3L,)\n",
      "[3 4 5]\n",
      "(3L,)\n",
      "[3, 4, 5]\n",
      "[[3 4 5]]\n"
     ]
    }
   ],
   "source": [
    "array_test1 = [3,4,5]\n",
    "np_ar1 = np.array(array_test1)\n",
    "print np_ar1\n",
    "ar2 = [3,4,5]\n",
    "np_ar2 = np.array([3,4,5])\n",
    "np_ar3 = np.array([3,\n",
    "                   4,\n",
    "                   5])\n",
    "print np_ar2\n",
    "print np_ar2.shape\n",
    "print np_ar3\n",
    "print np_ar3.shape          #3by1 array\n",
    "print ar2\n",
    "print np_ar3.reshape(1,3)   #1by3 array"
   ]
  },
  {
   "cell_type": "code",
   "execution_count": 39,
   "metadata": {
    "collapsed": false
   },
   "outputs": [
    {
     "name": "stdout",
     "output_type": "stream",
     "text": [
      "[ 1.4  3.2  5.   6.8]\n"
     ]
    }
   ],
   "source": [
    "my_predictions = np.dot(my_features, my_weights) # note that the weights are on the right\n",
    "my_predictions2 = np.array(my_features*my_weights)\n",
    "print my_predictions # which has 4 elements since my_features has 4 rows"
   ]
  },
  {
   "cell_type": "code",
   "execution_count": 40,
   "metadata": {
    "collapsed": false
   },
   "outputs": [
    {
     "name": "stdout",
     "output_type": "stream",
     "text": [
      "np.dot(x,y) :\n",
      "[ 5 14 23]\n",
      "np.arange(9).reshape((3,3)):\n",
      "[[0 1 2]\n",
      " [3 4 5]\n",
      " [6 7 8]]\n",
      "(2L, 3L)\n",
      "(3L, 2L)\n",
      "np.dot(np_ar1, np_ar2) :\n",
      "[[13 28]\n",
      " [34 67]]\n",
      "[[ 2  6 12]\n",
      " [20  5 30]]\n"
     ]
    }
   ],
   "source": [
    "ar1 = [[1,2,3],[4,5,6]]\n",
    "ar2 = [[2,3],[4,5],[1,5]]\n",
    "np_ar1=np.array(ar1)\n",
    "np_ar2=np.array(ar2)\n",
    "x = np.arange(9).reshape((3,3))\n",
    "y = np.arange(3)\n",
    "print \"np.dot(x,y) :\\n\",np.dot(x,y)\n",
    "print \"np.arange(9).reshape((3,3)):\\n\",np.arange(9).reshape((3,3))\n",
    "print np_ar1.shape\n",
    "print np_ar2.shape\n",
    "np_res = np.dot(np_ar1, np_ar2) # np.dot(np_array(m,n) , np_array(n,k))\n",
    "np_res2 = np.array(np_ar1*np_ar2.reshape((2,3)))   # array(m by n) * array(m by n) :'*' is possible only tow arrays are same (m by n)\n",
    "print \"np.dot(np_ar1, np_ar2) :\\n\",np_res\n",
    "print np_res2"
   ]
  },
  {
   "cell_type": "code",
   "execution_count": 41,
   "metadata": {
    "collapsed": false
   },
   "outputs": [
    {
     "name": "stdout",
     "output_type": "stream",
     "text": [
      "[0 1 2 3 4 5]\n",
      "[[0 1]\n",
      " [2 3]\n",
      " [4 5]]\n",
      "np.arange(2,14,2): [ 2  4  6  8 10 12]\n",
      "np.arange(1,15): [ 1  2  3  4  5  6  7  8  9 10 11 12 13 14]\n",
      "[[ 2  4  6]\n",
      " [ 8 10 12]]\n",
      "[[ 8 10 12]\n",
      " [28 38 48]\n",
      " [48 66 84]]\n"
     ]
    }
   ],
   "source": [
    "arr_t1 = np.arange(6)\n",
    "print arr_t1\n",
    "re_arr_t1= arr_t1.reshape((3,2))\n",
    "print re_arr_t1\n",
    "arr_t2 = np.arange(2,14,2)\n",
    "print \"np.arange(2,14,2):\",arr_t2\n",
    "print \"np.arange(1,15):\",np.arange(1,15)\n",
    "my_arr_t2 = arr_t2.reshape((2,3))\n",
    "print my_arr_t2\n",
    "my_np_arr = np.dot(re_arr_t1,my_arr_t2)\n",
    "print my_np_arr\n"
   ]
  },
  {
   "cell_type": "markdown",
   "metadata": {},
   "source": [
    "Similarly if you have a vector with the same number of elements as the matrix has *rows* you can left multiply them."
   ]
  },
  {
   "cell_type": "code",
   "execution_count": 42,
   "metadata": {
    "collapsed": false
   },
   "outputs": [
    {
     "data": {
      "text/plain": [
       "(4L,)"
      ]
     },
     "execution_count": 42,
     "metadata": {},
     "output_type": "execute_result"
    }
   ],
   "source": [
    "my_matrix = my_features\n",
    "my_array = np.array([0.3, 0.4, 0.5, 0.6])\n",
    "my_array.shape"
   ]
  },
  {
   "cell_type": "code",
   "execution_count": 43,
   "metadata": {
    "collapsed": false
   },
   "outputs": [
    {
     "name": "stdout",
     "output_type": "stream",
     "text": [
      "[  8.2  10. ]\n"
     ]
    }
   ],
   "source": [
    "print np.dot(my_array, my_matrix) # which has 2 elements because my_matrix has 2 columns"
   ]
  },
  {
   "cell_type": "markdown",
   "metadata": {},
   "source": [
    "#Multiplying Matrices"
   ]
  },
  {
   "cell_type": "markdown",
   "metadata": {},
   "source": [
    "If we have two 2D arrays (matrices) matrix_1 and matrix_2 where the number of columns of matrix_1 is the same as the number of rows of matrix_2 then we can use np.dot() to perform matrix multiplication."
   ]
  },
  {
   "cell_type": "code",
   "execution_count": 44,
   "metadata": {
    "collapsed": false
   },
   "outputs": [
    {
     "name": "stdout",
     "output_type": "stream",
     "text": [
      "[[ 1.  2.  3.]\n",
      " [ 4.  5.  6.]]\n"
     ]
    }
   ],
   "source": [
    "matrix_1 = np.array([[1., 2., 3.],[4., 5., 6.]])\n",
    "print matrix_1"
   ]
  },
  {
   "cell_type": "code",
   "execution_count": 45,
   "metadata": {
    "collapsed": false
   },
   "outputs": [
    {
     "name": "stdout",
     "output_type": "stream",
     "text": [
      "[[ 1.  2.]\n",
      " [ 3.  4.]\n",
      " [ 5.  6.]]\n"
     ]
    }
   ],
   "source": [
    "matrix_2 = np.array([[1., 2.], [3., 4.], [5., 6.]])\n",
    "print matrix_2"
   ]
  },
  {
   "cell_type": "code",
   "execution_count": 46,
   "metadata": {
    "collapsed": false
   },
   "outputs": [
    {
     "name": "stdout",
     "output_type": "stream",
     "text": [
      "[[ 22.  28.]\n",
      " [ 49.  64.]]\n"
     ]
    }
   ],
   "source": [
    "print np.dot(matrix_1, matrix_2)"
   ]
  },
  {
   "cell_type": "code",
   "execution_count": 47,
   "metadata": {
    "collapsed": false
   },
   "outputs": [
    {
     "name": "stdout",
     "output_type": "stream",
     "text": [
      "[3 6 9]\n",
      "[[3]\n",
      " [6]\n",
      " [9]]\n"
     ]
    }
   ],
   "source": [
    "import numpy as np\n",
    "a = [3,6,9]\n",
    "x = np.array(a)  #1-d\n",
    "print x.T\n",
    "y = np.array([a])  #2-d\n",
    "print y.T\n"
   ]
  },
  {
   "cell_type": "code",
   "execution_count": 102,
   "metadata": {
    "collapsed": false
   },
   "outputs": [
    {
     "name": "stdout",
     "output_type": "stream",
     "text": [
      "input num list seperated by ,:quit\n"
     ]
    },
    {
     "ename": "NameError",
     "evalue": "name 'quit' is not defined",
     "output_type": "error",
     "traceback": [
      "\u001b[1;31m---------------------------------------------------------------------------\u001b[0m",
      "\u001b[1;31mNameError\u001b[0m                                 Traceback (most recent call last)",
      "\u001b[1;32m<ipython-input-102-88aa720552ef>\u001b[0m in \u001b[0;36m<module>\u001b[1;34m()\u001b[0m\n\u001b[1;32m----> 1\u001b[1;33m \u001b[0minput1\u001b[0m \u001b[1;33m=\u001b[0m \u001b[0minput\u001b[0m\u001b[1;33m(\u001b[0m\u001b[1;34m\"input num list seperated by ,:\"\u001b[0m\u001b[1;33m)\u001b[0m\u001b[1;33m\u001b[0m\u001b[0m\n\u001b[0m\u001b[0;32m      2\u001b[0m \u001b[0mf\u001b[0m \u001b[1;33m=\u001b[0m \u001b[0mmap\u001b[0m\u001b[1;33m(\u001b[0m\u001b[1;32mlambda\u001b[0m \u001b[0minput1\u001b[0m \u001b[1;33m:\u001b[0m \u001b[0minput1\u001b[0m \u001b[1;33m**\u001b[0m\u001b[1;36m2\u001b[0m \u001b[1;33m,\u001b[0m \u001b[0minput1\u001b[0m\u001b[1;33m)\u001b[0m\u001b[1;33m\u001b[0m\u001b[0m\n\u001b[0;32m      3\u001b[0m \u001b[1;33m\u001b[0m\u001b[0m\n\u001b[0;32m      4\u001b[0m \u001b[1;32mprint\u001b[0m \u001b[0mf\u001b[0m\u001b[1;33m\u001b[0m\u001b[0m\n",
      "\u001b[1;32mC:\\Anaconda2\\envs\\dato-env\\lib\\site-packages\\IPython\\kernel\\zmq\\ipkernel.pyc\u001b[0m in \u001b[0;36m<lambda>\u001b[1;34m(prompt)\u001b[0m\n\u001b[0;32m    145\u001b[0m             \u001b[0mself\u001b[0m\u001b[1;33m.\u001b[0m\u001b[0m_sys_eval_input\u001b[0m \u001b[1;33m=\u001b[0m \u001b[0mbuiltin_mod\u001b[0m\u001b[1;33m.\u001b[0m\u001b[0minput\u001b[0m\u001b[1;33m\u001b[0m\u001b[0m\n\u001b[0;32m    146\u001b[0m             \u001b[0mbuiltin_mod\u001b[0m\u001b[1;33m.\u001b[0m\u001b[0mraw_input\u001b[0m \u001b[1;33m=\u001b[0m \u001b[0mself\u001b[0m\u001b[1;33m.\u001b[0m\u001b[0mraw_input\u001b[0m\u001b[1;33m\u001b[0m\u001b[0m\n\u001b[1;32m--> 147\u001b[1;33m             \u001b[0mbuiltin_mod\u001b[0m\u001b[1;33m.\u001b[0m\u001b[0minput\u001b[0m \u001b[1;33m=\u001b[0m \u001b[1;32mlambda\u001b[0m \u001b[0mprompt\u001b[0m\u001b[1;33m=\u001b[0m\u001b[1;34m''\u001b[0m\u001b[1;33m:\u001b[0m \u001b[0meval\u001b[0m\u001b[1;33m(\u001b[0m\u001b[0mself\u001b[0m\u001b[1;33m.\u001b[0m\u001b[0mraw_input\u001b[0m\u001b[1;33m(\u001b[0m\u001b[0mprompt\u001b[0m\u001b[1;33m)\u001b[0m\u001b[1;33m)\u001b[0m\u001b[1;33m\u001b[0m\u001b[0m\n\u001b[0m\u001b[0;32m    148\u001b[0m         \u001b[0mself\u001b[0m\u001b[1;33m.\u001b[0m\u001b[0m_save_getpass\u001b[0m \u001b[1;33m=\u001b[0m \u001b[0mgetpass\u001b[0m\u001b[1;33m.\u001b[0m\u001b[0mgetpass\u001b[0m\u001b[1;33m\u001b[0m\u001b[0m\n\u001b[0;32m    149\u001b[0m         \u001b[0mgetpass\u001b[0m\u001b[1;33m.\u001b[0m\u001b[0mgetpass\u001b[0m \u001b[1;33m=\u001b[0m \u001b[0mself\u001b[0m\u001b[1;33m.\u001b[0m\u001b[0mgetpass\u001b[0m\u001b[1;33m\u001b[0m\u001b[0m\n",
      "\u001b[1;32mC:\\Anaconda2\\envs\\dato-env\\lib\\site-packages\\IPython\\kernel\\zmq\\ipkernel.pyc\u001b[0m in \u001b[0;36m<module>\u001b[1;34m()\u001b[0m\n",
      "\u001b[1;31mNameError\u001b[0m: name 'quit' is not defined"
     ]
    }
   ],
   "source": [
    "input1 = input(\"input num list seperated by ,:\")\n",
    "f = map(lambda input1 : input1 **2 , input1)\n",
    "\n",
    "print f"
   ]
  },
  {
   "cell_type": "code",
   "execution_count": 103,
   "metadata": {
    "collapsed": false
   },
   "outputs": [
    {
     "name": "stdout",
     "output_type": "stream",
     "text": [
      "2\n",
      "2\n",
      "[(1, 2), (3, 4), (5, 6), (7, 8)]\n",
      "[(0.1, 0.1, 0.1, 0.1, 0.1), (1.0, 2.0, 3.0, 4.0, 5.0)]\n"
     ]
    }
   ],
   "source": [
    "# compare two numpy array and print number of same elements\n",
    "import numpy as np\n",
    "a = np.array([1, 2, 3, 4])\n",
    "b = np.array([1, 2, 4, 3])\n",
    "print np.sum(a == b)\n",
    "print (a == b).sum()\n",
    "\n",
    "A = np.array([1, 3, 5, 7])\n",
    "B = np.array([2, 4, 6, 8])\n",
    "ablist = zip(A,B)   # make tuple outof two np array in ordered way.\n",
    "print ablist\n",
    "x = [(0.1, 1.), (0.1, 2.), (0.1, 3.), (0.1, 4.), (0.1, 5.)]\n",
    "normal_result = zip(*x)\n",
    "print normal_result"
   ]
  },
  {
   "cell_type": "code",
   "execution_count": 104,
   "metadata": {
    "collapsed": false
   },
   "outputs": [
    {
     "name": "stdout",
     "output_type": "stream",
     "text": [
      "[  1.  10.]\n",
      "[2 3]\n"
     ]
    }
   ],
   "source": [
    "import numpy as np\n",
    "my_weights = np.array([1., 10.])\n",
    "print my_weights\n",
    "print np.arange(2,4)"
   ]
  },
  {
   "cell_type": "code",
   "execution_count": 105,
   "metadata": {
    "collapsed": false
   },
   "outputs": [
    {
     "name": "stdout",
     "output_type": "stream",
     "text": [
      "7\n"
     ]
    }
   ],
   "source": [
    "maxN = 0\n",
    "count = 0\n",
    "end =5\n",
    "my_list = [1,3,5,3,6,7,8,3]\n",
    "for i in range(0,6):\n",
    "    if maxN < my_list[i]:\n",
    "        maxN = my_list[i]\n",
    "print maxN\n",
    "    "
   ]
  },
  {
   "cell_type": "code",
   "execution_count": 106,
   "metadata": {
    "collapsed": false
   },
   "outputs": [
    {
     "name": "stdout",
     "output_type": "stream",
     "text": [
      "one_np [ 1.  1.  1.  1.  1.]\n",
      "5\n",
      "(one_np == +1) [ True  True  True  True  True]\n",
      "[ True False  True False  True  True]\n",
      "15\n"
     ]
    }
   ],
   "source": [
    "import numpy as np\n",
    "one_np = np.ones(5)\n",
    "two_np = np.array([1,-1,1,-1,1,1])\n",
    "print \"one_np\",one_np\n",
    "count = 0\n",
    "for i in one_np:\n",
    "    if( i == +1):\n",
    "    #if( i ==  1):  # same above\n",
    "        count += 1  \n",
    "print count\n",
    "indicator = (one_np == +1)\n",
    "print \"(one_np == +1)\",indicator\n",
    "indicator2 = (two_np == +1)\n",
    "print indicator2   #True is 1 False is 0\n",
    "my_99np= np.array([1,2,3,4,5,6])\n",
    "print np.dot(indicator2,my_99np)  #correct"
   ]
  },
  {
   "cell_type": "code",
   "execution_count": 107,
   "metadata": {
    "collapsed": false
   },
   "outputs": [
    {
     "ename": "SyntaxError",
     "evalue": "invalid syntax (<ipython-input-107-3fdd646af5f4>, line 29)",
     "output_type": "error",
     "traceback": [
      "\u001b[1;36m  File \u001b[1;32m\"<ipython-input-107-3fdd646af5f4>\"\u001b[1;36m, line \u001b[1;32m29\u001b[0m\n\u001b[1;33m    (/, if, y, val,, i.e, sentiment, is, -1, (in, this, example,, second, element))\u001b[0m\n\u001b[1;37m     ^\u001b[0m\n\u001b[1;31mSyntaxError\u001b[0m\u001b[1;31m:\u001b[0m invalid syntax\n"
     ]
    }
   ],
   "source": [
    "#classification wke2 2 quiz num4,5\n",
    "from __future__ import division\n",
    "import graphlab\n",
    "import math\n",
    "import string\n",
    "import numpy as np\n",
    "# y val=   +1  -1     +1   +1\n",
    "scores = [2.5, 0.3 , 2.8, 0.5]\n",
    "exp_f = map(lambda x :1.0 +  math.exp(-1 * x),scores)\n",
    "print exp_f\n",
    "my_list6=[]\n",
    "my_ans6 = 1\n",
    "count = 1\n",
    "for x in exp_f:\n",
    "    ans6 = 1.0/float(x)\n",
    "    if count == 2:\n",
    "        ans6 = 1 - ans6\n",
    "    print ans6    \n",
    "    my_ans6 = my_ans6 * ans6\n",
    "    count += 1\n",
    "print \"answer :\",my_ans6    \n",
    "\n",
    "#derivative calculate\n",
    "num = 0\n",
    "count_re = 1\n",
    "my_ans_result = 0\n",
    "for x1 in exp_f:\n",
    "    ans_re = 1.0/float(x1)\n",
    "    // if y val, i.e sentiment is -1 (in this example, second element)\n",
    "    if count_re == 2:\n",
    "        result_re = scores[num]*(-1 * ans_re) \n",
    "        print result_re    \n",
    "    else :\n",
    "        result_re = scores[num]* (1 - ans_re)\n",
    "        print result_re\n",
    "    my_ans_result = my_ans_result + result_re\n",
    "    count_re += 1\n",
    "    num += 1\n",
    "print \"deritive answer :\",my_ans_result    \n",
    "    "
   ]
  },
  {
   "cell_type": "code",
   "execution_count": 108,
   "metadata": {
    "collapsed": false
   },
   "outputs": [
    {
     "name": "stdout",
     "output_type": "stream",
     "text": [
      "7\n",
      "3\n",
      "0\n",
      "1\n"
     ]
    },
    {
     "ename": "NameError",
     "evalue": "name 'c' is not defined",
     "output_type": "error",
     "traceback": [
      "\u001b[1;31m---------------------------------------------------------------------------\u001b[0m",
      "\u001b[1;31mNameError\u001b[0m                                 Traceback (most recent call last)",
      "\u001b[1;32m<ipython-input-108-c2ecaa910a60>\u001b[0m in \u001b[0;36m<module>\u001b[1;34m()\u001b[0m\n\u001b[0;32m     21\u001b[0m \u001b[1;33m\u001b[0m\u001b[0m\n\u001b[0;32m     22\u001b[0m \u001b[1;31m# c and d don't exist anymore -- these statements will give us name errors!\u001b[0m\u001b[1;33m\u001b[0m\u001b[1;33m\u001b[0m\u001b[0m\n\u001b[1;32m---> 23\u001b[1;33m \u001b[1;32mprint\u001b[0m\u001b[1;33m(\u001b[0m\u001b[0mc\u001b[0m\u001b[1;33m)\u001b[0m\u001b[1;33m\u001b[0m\u001b[0m\n\u001b[0m\u001b[0;32m     24\u001b[0m \u001b[1;32mprint\u001b[0m\u001b[1;33m(\u001b[0m\u001b[0md\u001b[0m\u001b[1;33m)\u001b[0m\u001b[1;33m\u001b[0m\u001b[0m\n",
      "\u001b[1;31mNameError\u001b[0m: name 'c' is not defined"
     ]
    }
   ],
   "source": [
    "#variable scope test\n",
    "# This is a global variable\n",
    "a = 0\n",
    "\n",
    "if a == 0:\n",
    "    # This is still a global variable\n",
    "    b = 1\n",
    "\n",
    "def my_function(c):\n",
    "    # this is a local variable\n",
    "    d = 3\n",
    "    print(c)\n",
    "    print(d)\n",
    "\n",
    "# Now we call the function, passing the value 7 as the first and only parameter\n",
    "my_function(7)\n",
    "\n",
    "# a and b still exist\n",
    "print(a)\n",
    "print(b)\n",
    "\n",
    "# c and d don't exist anymore -- these statements will give us name errors!\n",
    "print(c)\n",
    "print(d)"
   ]
  },
  {
   "cell_type": "code",
   "execution_count": 109,
   "metadata": {
    "collapsed": false
   },
   "outputs": [
    {
     "name": "stdout",
     "output_type": "stream",
     "text": [
      "Max value element :  zara\n",
      "Max value element :  700\n"
     ]
    }
   ],
   "source": [
    "#max value return in list\n",
    "list1, list2 = [123, 'xyz', 'zara', 'abc'], [456, 700, 200]\n",
    "\n",
    "print \"Max value element : \", max(list1)\n",
    "print \"Max value element : \", max(list2)"
   ]
  },
  {
   "cell_type": "code",
   "execution_count": 110,
   "metadata": {
    "collapsed": false
   },
   "outputs": [
    {
     "name": "stdout",
     "output_type": "stream",
     "text": [
      "min value element :  123\n",
      "min value element :  200\n"
     ]
    }
   ],
   "source": [
    "list1, list2 = [123, 'xyz', 'zara', 'abc'], [456, 700, 200]\n",
    "print \"min value element : \", min(list1)\n",
    "print \"min value element : \", min(list2)\n"
   ]
  },
  {
   "cell_type": "code",
   "execution_count": 111,
   "metadata": {
    "collapsed": false
   },
   "outputs": [
    {
     "name": "stdout",
     "output_type": "stream",
     "text": [
      "22.7926\n",
      "50.7997\n",
      "7.8764\n",
      "3.29\n"
     ]
    }
   ],
   "source": [
    "import numpy as np\n",
    "np1 = np.array([0.03, 4.41, 2.05])\n",
    "n1=np.array([3.29, 3.44, 3.67])\n",
    "n2=np.array([0.82, 9.71, 3.88])\n",
    "n3=np.array([8.34, 1.72, 0.02])\n",
    "print np.dot(np1,n1)\n",
    "print np.dot(np1,n2)\n",
    "print np.dot(np1,n3)\n",
    "print min(n1)"
   ]
  },
  {
   "cell_type": "code",
   "execution_count": 112,
   "metadata": {
    "collapsed": false
   },
   "outputs": [
    {
     "name": "stdout",
     "output_type": "stream",
     "text": [
      "[[0 1 2]\n",
      " [3 4 5]]\n",
      "np.argmin(a): 0\n",
      "x : [3 1 2]\n",
      "np.argsort(x) : [1 2 0]\n"
     ]
    }
   ],
   "source": [
    "#numpy.argmin(a, axis=None, out=None)[source]\n",
    "#Returns the indices of the minimum values along an axis.\n",
    "a = np.arange(6).reshape(2,3)\n",
    "print a\n",
    "print \"np.argmin(a):\",np.argmin(a)\n",
    "#.argsort(a, axis=-1, kind='quicksort', order=None)\n",
    "#Returns the indices that would sort an array.\n",
    "# axis : int or None, optional\n",
    "# Axis along which to sort. The default is -1 (the last axis). If None, the flattened array is used.\n",
    "# kind : {‘quicksort’, ‘mergesort’, ‘heapsort’}, optional\n",
    "# Sorting algorithm.\n",
    "# order : str or list of str, optional\n",
    "x = np.array([3, 1, 2])\n",
    "print \"x :\",x\n",
    "print \"np.argsort(x) :\",np.argsort(x)"
   ]
  },
  {
   "cell_type": "code",
   "execution_count": 113,
   "metadata": {
    "collapsed": false
   },
   "outputs": [
    {
     "name": "stdout",
     "output_type": "stream",
     "text": [
      "xx1 : \n",
      "[[0 3 1]\n",
      " [4 2 3]\n",
      " [5 2 9]]\n",
      "np.argsort(xx1,axis=0) \n",
      "[[0 1 0]\n",
      " [1 2 1]\n",
      " [2 0 2]]\n",
      "np.argsort(xx1,axis=1) \n",
      "[[0 2 1]\n",
      " [1 2 0]\n",
      " [1 0 2]]\n"
     ]
    }
   ],
   "source": [
    "xx1 = np.array([[0, 3, 1], [4, 2, 3],[5,2,9]])\n",
    "print \"xx1 : \\n\",xx1\n",
    "print \"np.argsort(xx1,axis=0) \\n\", np.argsort(xx1,axis=0)\n",
    "print \"np.argsort(xx1,axis=1) \\n\",np.argsort(xx1,axis=1)\n",
    "#print \"np.argsort(xx1,axis=2) \\n\",np.argsort(xx1,axis=2)  #error: axis(=2) out of bounds\n",
    "# print \"np.argsort(xx1) \\n\",np.argsort(xx1)\n",
    "\n"
   ]
  },
  {
   "cell_type": "code",
   "execution_count": 114,
   "metadata": {
    "collapsed": false
   },
   "outputs": [
    {
     "name": "stdout",
     "output_type": "stream",
     "text": [
      "<type 'tuple'>\n",
      "(3L,)\n",
      "0\n",
      "1\n",
      "2\n",
      "****************\n",
      "1.0\n",
      "2.0\n",
      "2.5\n",
      "x33.astype(int): [1 2 2]\n",
      "[3 3 4 0 1 7 1 0 9 7]\n",
      "return indice of max number element 8   it's number : 9\n",
      "[3 7 4 6 0 1 2 5 9 8]\n",
      "[3 7 4 6]\n"
     ]
    }
   ],
   "source": [
    "#convert to integer  \n",
    "x33 = np.array([1, 2, 2.5])\n",
    "print type(x33.shape)\n",
    "x_t = x33.shape\n",
    "print x_t\n",
    "for xxx in range(len(x33)):\n",
    "    print xxx\n",
    "print \"****************\"\n",
    "for xxx in x33 :\n",
    "    print xxx\n",
    "print \"x33.astype(int):\", x33.astype(int)\n",
    "\n",
    "random_vector = (np.random.random(10)*10).astype(int)\n",
    "print random_vector\n",
    "#find indice of max number element\n",
    "print \"return indice of max number element\",np.argmax(random_vector),\"  it's number :\",random_vector[np.argmax(random_vector)]\n",
    "print np.argsort(random_vector.astype(int)) # return sorted indices.\n",
    "k=4\n",
    "print np.argsort(random_vector.astype(int))[0:k]"
   ]
  },
  {
   "cell_type": "code",
   "execution_count": 115,
   "metadata": {
    "collapsed": false
   },
   "outputs": [
    {
     "name": "stdout",
     "output_type": "stream",
     "text": [
      "np.arange(1,15): [ 1  2  3  4  5  6  7  8  9 10 11 12 13 14]\n",
      "1\n",
      "2\n",
      "3\n",
      "4\n",
      "5\n",
      "6\n",
      "7\n",
      "8\n",
      "9\n",
      "10\n",
      "11\n",
      "12\n",
      "13\n",
      "14\n"
     ]
    }
   ],
   "source": [
    "print \"np.arange(1,15):\",np.arange(1,15)\n",
    "for k in  np.arange(1,15):\n",
    "    print k"
   ]
  },
  {
   "cell_type": "code",
   "execution_count": 116,
   "metadata": {
    "collapsed": false
   },
   "outputs": [
    {
     "name": "stdout",
     "output_type": "stream",
     "text": [
      "[5 7 0 6 7 3 5 9 9 9 6 4 8 0 5]\n",
      "[3 1 9 0 5 3 7 2 5 0 7 1 6 0 5]\n",
      "325\n",
      "325\n",
      "325\n",
      "325\n",
      "325\n",
      "325\n",
      "325\n",
      "325\n",
      "325\n",
      "325\n",
      "325\n",
      "325\n",
      "325\n",
      "325\n",
      "325\n"
     ]
    }
   ],
   "source": [
    "predict2 = (np.random.random(15)*10).astype(int)   \n",
    "output2 = (np.random.random(15)*10).astype(int)\n",
    "print predict2\n",
    "print output2\n",
    "for k in range(15):\n",
    "    residual = predict2 - output2\n",
    "    RSS = np.sum(residual**2)\n",
    "    print RSS\n",
    "    "
   ]
  },
  {
   "cell_type": "code",
   "execution_count": 117,
   "metadata": {
    "collapsed": false
   },
   "outputs": [
    {
     "name": "stdout",
     "output_type": "stream",
     "text": [
      "1\n",
      "2\n",
      "3\n",
      "4\n",
      "5\n",
      "6\n",
      "7\n",
      "8\n",
      "9\n",
      "10\n",
      "11\n",
      "12\n",
      "13\n",
      "14\n"
     ]
    }
   ],
   "source": [
    "import numpy as np\n",
    "for k in np.arange(1,15):\n",
    "    print k"
   ]
  },
  {
   "cell_type": "code",
   "execution_count": 118,
   "metadata": {
    "collapsed": false
   },
   "outputs": [
    {
     "name": "stdout",
     "output_type": "stream",
     "text": [
      " np.arange(12).reshape((3,4)):\n",
      "[[ 0  1  2  3]\n",
      " [ 4  5  6  7]\n",
      " [ 8  9 10 11]]\n",
      "x.sum(axis=0): [12 15 18 21]\n",
      "x.sum(axis=1): [ 6 22 38]\n",
      "np.argmax(x): 11\n",
      "np.argmax(x, axis=0) : [2 2 2 2]\n",
      "np.argmax(x, axis=1) : [3 3 3]\n"
     ]
    }
   ],
   "source": [
    "#the first running vertically downwards across rows (axis 0),    ###very imiportant !!!\n",
    "#and the second running horizontally across columns (axis 1).\n",
    "import numpy as np\n",
    "x = np.arange(12).reshape((3,4))\n",
    "print \" np.arange(12).reshape((3,4)):\\n\",x\n",
    "print \"x.sum(axis=0):\",x.sum(axis=0)\n",
    "print \"x.sum(axis=1):\",x.sum(axis=1)\n",
    "\n",
    "print \"np.argmax(x):\",np.argmax(x)   #return max element's indice\n",
    "print \"np.argmax(x, axis=0) :\",np.argmax(x, axis=0)  #vertically downwards across rows (axis 0)\n",
    "print \"np.argmax(x, axis=1) :\",np.argmax(x, axis=1)  #horizontally across columns (axis 1)"
   ]
  },
  {
   "cell_type": "code",
   "execution_count": 119,
   "metadata": {
    "collapsed": false
   },
   "outputs": [
    {
     "name": "stdout",
     "output_type": "stream",
     "text": [
      "[ 0.12186325  0.33199008  0.13753099  0.71034249  0.56684318  0.47958142\n",
      "  0.75588201  0.65505938  0.4714285   0.14392029  0.14959111  0.66104908\n",
      "  0.74493346  0.08730134  0.3110809 ]\n"
     ]
    }
   ],
   "source": [
    "print np.random.random(15)"
   ]
  },
  {
   "cell_type": "code",
   "execution_count": 120,
   "metadata": {
    "collapsed": false
   },
   "outputs": [
    {
     "name": "stdout",
     "output_type": "stream",
     "text": [
      "[4 7 9 9 8 5 8 9 1]\n"
     ]
    }
   ],
   "source": [
    "print (np.random.random(9)*10).astype(int)   #from 1 to 9 random number.   #random(9): from 0.0.. to 9.9.."
   ]
  },
  {
   "cell_type": "code",
   "execution_count": null,
   "metadata": {
    "collapsed": true
   },
   "outputs": [],
   "source": []
  },
  {
   "cell_type": "code",
   "execution_count": null,
   "metadata": {
    "collapsed": true
   },
   "outputs": [],
   "source": []
  }
 ],
 "metadata": {
  "kernelspec": {
   "display_name": "Python 2",
   "language": "python",
   "name": "python2"
  },
  "language_info": {
   "codemirror_mode": {
    "name": "ipython",
    "version": 2
   },
   "file_extension": ".py",
   "mimetype": "text/x-python",
   "name": "python",
   "nbconvert_exporter": "python",
   "pygments_lexer": "ipython2",
   "version": "2.7.12"
  }
 },
 "nbformat": 4,
 "nbformat_minor": 0
}
