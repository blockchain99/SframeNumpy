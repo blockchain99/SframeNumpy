{
 "cells": [
  {
   "cell_type": "code",
   "execution_count": 1,
   "metadata": {
    "collapsed": false
   },
   "outputs": [
    {
     "name": "stdout",
     "output_type": "stream",
     "text": [
      "N\n"
     ]
    }
   ],
   "source": [
    "a= 3\n",
    "b=4\n",
    "c=9\n",
    "if a>c and b<c:\n",
    "    print \"Y\"\n",
    "else :\n",
    "    print \"N\""
   ]
  },
  {
   "cell_type": "code",
   "execution_count": 6,
   "metadata": {
    "collapsed": false
   },
   "outputs": [
    {
     "name": "stdout",
     "output_type": "stream",
     "text": [
      " 2\n",
      "3\n",
      "4\n",
      "5\n",
      "6\n",
      "7\n",
      "8\n",
      "9\n",
      "10\n",
      "len(list_test[1:10]) : 9\n"
     ]
    }
   ],
   "source": [
    "list_test=[1,2,3,4,5,6,7,8,9,10]\n",
    "for ele in list_test[1:10]:\n",
    "    print ele\n",
    "print \"len(list_test[1:10]) :\",len(list_test[1:10])  #from indice 1(value 2) to indice 9(value 10)\n",
    "#print \"list_test[10]\",list_test[10]   #error : list index out of range"
   ]
  },
  {
   "cell_type": "code",
   "execution_count": 5,
   "metadata": {
    "collapsed": false
   },
   "outputs": [
    {
     "name": "stdout",
     "output_type": "stream",
     "text": [
      "-1.11751906874\n",
      "2.71828182846\n",
      "3.14159265359\n",
      "0.894839316814\n"
     ]
    }
   ],
   "source": [
    "import math\n",
    "print -1*(math.e)**(0.1/0.9)  #wrong with -score\n",
    "print math.e   #2.7xxx\n",
    "print math.pi\n",
    "\n",
    "print (1/math.e)**(1.0/9.0)"
   ]
  },
  {
   "cell_type": "code",
   "execution_count": 7,
   "metadata": {
    "collapsed": false
   },
   "outputs": [
    {
     "name": "stdout",
     "output_type": "stream",
     "text": [
      "[0 1 2]\n"
     ]
    }
   ],
   "source": [
    "print np.arange(3)"
   ]
  },
  {
   "cell_type": "code",
   "execution_count": 8,
   "metadata": {
    "collapsed": false
   },
   "outputs": [
    {
     "name": "stdout",
     "output_type": "stream",
     "text": [
      "np.logspace(-4, 2, num=7): [  1.00000000e-04   1.00000000e-03   1.00000000e-02   1.00000000e-01\n",
      "   1.00000000e+00   1.00000000e+01   1.00000000e+02]\n",
      "np.arange(len(np_logspace_number)): [0 1 2 3 4 5 6]\n",
      "1) step_size 0.0001 2) coefficients[step_size] [ 0.      0.0001  0.0002  0.0003  0.0004  0.0005  0.0006] 3) log[step_size]: [ 0.0002  0.0003  0.0004  0.0005  0.0006  0.0007  0.0008]\n",
      "1) step_size 0.001 2) coefficients[step_size] [ 0.     0.001  0.002  0.003  0.004  0.005  0.006] 3) log[step_size]: [ 0.002  0.003  0.004  0.005  0.006  0.007  0.008]\n",
      "1) step_size 0.01 2) coefficients[step_size] [ 0.    0.01  0.02  0.03  0.04  0.05  0.06] 3) log[step_size]: [ 0.02  0.03  0.04  0.05  0.06  0.07  0.08]\n",
      "1) step_size 0.1 2) coefficients[step_size] [ 0.   0.1  0.2  0.3  0.4  0.5  0.6] 3) log[step_size]: [ 0.2  0.3  0.4  0.5  0.6  0.7  0.8]\n",
      "1) step_size 1.0 2) coefficients[step_size] [ 0.  1.  2.  3.  4.  5.  6.] 3) log[step_size]: [ 2.  3.  4.  5.  6.  7.  8.]\n",
      "1) step_size 10.0 2) coefficients[step_size] [  0.  10.  20.  30.  40.  50.  60.] 3) log[step_size]: [ 20.  30.  40.  50.  60.  70.  80.]\n",
      "1) step_size 100.0 2) coefficients[step_size] [   0.  100.  200.  300.  400.  500.  600.] 3) log[step_size]: [ 200.  300.  400.  500.  600.  700.  800.]\n",
      "## {1.0: array([ 0.,  1.,  2.,  3.,  4.,  5.,  6.]), 100.0: array([   0.,  100.,  200.,  300.,  400.,  500.,  600.]), 0.10000000000000001: array([ 0. ,  0.1,  0.2,  0.3,  0.4,  0.5,  0.6]), 10.0: array([  0.,  10.,  20.,  30.,  40.,  50.,  60.]), 0.001: array([ 0.   ,  0.001,  0.002,  0.003,  0.004,  0.005,  0.006]), 0.0001: array([ 0.    ,  0.0001,  0.0002,  0.0003,  0.0004,  0.0005,  0.0006]), 0.01: array([ 0.  ,  0.01,  0.02,  0.03,  0.04,  0.05,  0.06])}\n",
      "*** {1.0: array([ 2.,  3.,  4.,  5.,  6.,  7.,  8.]), 100.0: array([ 200.,  300.,  400.,  500.,  600.,  700.,  800.]), 0.10000000000000001: array([ 0.2,  0.3,  0.4,  0.5,  0.6,  0.7,  0.8]), 10.0: array([ 20.,  30.,  40.,  50.,  60.,  70.,  80.]), 0.001: array([ 0.002,  0.003,  0.004,  0.005,  0.006,  0.007,  0.008]), 0.0001: array([ 0.0002,  0.0003,  0.0004,  0.0005,  0.0006,  0.0007,  0.0008]), 0.01: array([ 0.02,  0.03,  0.04,  0.05,  0.06,  0.07,  0.08])}\n"
     ]
    }
   ],
   "source": [
    "import numpy as np\n",
    "coefficients_sgd = {}\n",
    "log_likelihood_sgd = {}\n",
    "np_logspace_number = np.logspace(-4, 2, num=7)\n",
    "print \"np.logspace(-4, 2, num=7):\",np_logspace_number\n",
    "number = np.arange(len(np_logspace_number))\n",
    "print \"np.arange(len(np_logspace_number)):\",number\n",
    "for step_size in np.logspace(-4, 2, num=7):  #which means \"for e in [0,1,2,3,4,5,6]\"\n",
    "    coefficients_sgd[step_size], log_likelihood_sgd[step_size] = step_size*number , step_size*(number +2)\n",
    "    print \"1) step_size\",step_size,\"2) coefficients[step_size]\",coefficients_sgd[step_size],\"3) log[step_size]:\",log_likelihood_sgd[step_size]\n",
    "print \"##\",coefficients_sgd\n",
    "print \"***\",log_likelihood_sgd"
   ]
  },
  {
   "cell_type": "code",
   "execution_count": 19,
   "metadata": {
    "collapsed": false
   },
   "outputs": [],
   "source": []
  }
 ],
 "metadata": {
  "kernelspec": {
   "display_name": "Python [Root]",
   "language": "python",
   "name": "Python [Root]"
  },
  "language_info": {
   "codemirror_mode": {
    "name": "ipython",
    "version": 2
   },
   "file_extension": ".py",
   "mimetype": "text/x-python",
   "name": "python",
   "nbconvert_exporter": "python",
   "pygments_lexer": "ipython2",
   "version": "2.7.12"
  }
 },
 "nbformat": 4,
 "nbformat_minor": 0
}
