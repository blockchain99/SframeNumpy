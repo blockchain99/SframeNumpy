{
 "cells": [
  {
   "cell_type": "code",
   "execution_count": 1,
   "metadata": {
    "collapsed": false
   },
   "outputs": [],
   "source": [
    "#Put set_trace() anywhere in your code\n",
    "#that you want to stop and take a look around (for example, right before an exception occurs):"
   ]
  },
  {
   "cell_type": "code",
   "execution_count": 2,
   "metadata": {
    "collapsed": true
   },
   "outputs": [],
   "source": [
    "def set_trace():\n",
    "    from IPython.core.debugger import Pdb\n",
    "    Pdb(color_scheme='Linux').set_trace(sys._getframe().f_back)"
   ]
  },
  {
   "cell_type": "code",
   "execution_count": 3,
   "metadata": {
    "collapsed": true
   },
   "outputs": [],
   "source": [
    "def debug(f, *args, **kwargs):\n",
    "    from IPython.core.debugger import Pdb\n",
    "    pdb = Pdb(color_scheme='Linux')\n",
    "    return pdb.runcall(f, *args, **kwargs)"
   ]
  },
  {
   "cell_type": "code",
   "execution_count": 4,
   "metadata": {
    "collapsed": true
   },
   "outputs": [],
   "source": [
    "## Executing the %pdb command makes it so that IPython automatically invokes the debugger\n",
    "## after any exception,\n",
    "#ipdb> n,s,c,l,p(pp),a,j\n",
    "# n[ext] line\n",
    "# s[tep] :“step into” for tunneling into a function or method\n",
    "# c[ontinue] : execution until another breakpoint is hit\n",
    "# l[ist] [first[, last]]\n",
    "# pp locals(), pp globals() : quick glance at all the objects your program has access to at that moment.  ### important !!!\n",
    "# a[rgment] : prints out all the arguments the current function received\n",
    "# j[ump] line_number : jump to the given line of code, actually skipping the execution of anything between."
   ]
  },
  {
   "cell_type": "code",
   "execution_count": 5,
   "metadata": {
    "collapsed": false
   },
   "outputs": [
    {
     "name": "stdout",
     "output_type": "stream",
     "text": [
      "Automatic pdb calling has been turned ON\n"
     ]
    }
   ],
   "source": [
    "%pdb"
   ]
  },
  {
   "cell_type": "code",
   "execution_count": 8,
   "metadata": {
    "collapsed": false
   },
   "outputs": [
    {
     "ename": "ZeroDivisionError",
     "evalue": "integer division or modulo by zero",
     "output_type": "error",
     "traceback": [
      "\u001b[1;31m---------------------------------------------------------------------------\u001b[0m",
      "\u001b[1;31mZeroDivisionError\u001b[0m                         Traceback (most recent call last)",
      "\u001b[1;32m<ipython-input-8-6a29bf87ba52>\u001b[0m in \u001b[0;36m<module>\u001b[1;34m()\u001b[0m\n\u001b[0;32m      3\u001b[0m \u001b[1;32mdef\u001b[0m \u001b[0mdevide\u001b[0m\u001b[1;33m(\u001b[0m\u001b[0ma\u001b[0m\u001b[1;33m,\u001b[0m\u001b[0mb\u001b[0m\u001b[1;33m)\u001b[0m\u001b[1;33m:\u001b[0m\u001b[1;33m\u001b[0m\u001b[0m\n\u001b[0;32m      4\u001b[0m     \u001b[1;32mreturn\u001b[0m \u001b[0ma\u001b[0m\u001b[1;33m/\u001b[0m\u001b[0mb\u001b[0m\u001b[1;33m\u001b[0m\u001b[0m\n\u001b[1;32m----> 5\u001b[1;33m \u001b[1;32mprint\u001b[0m \u001b[0mdevide\u001b[0m\u001b[1;33m(\u001b[0m\u001b[1;36m4\u001b[0m\u001b[1;33m,\u001b[0m\u001b[1;36m0\u001b[0m\u001b[1;33m)\u001b[0m\u001b[1;33m\u001b[0m\u001b[0m\n\u001b[0m",
      "\u001b[1;32m<ipython-input-8-6a29bf87ba52>\u001b[0m in \u001b[0;36mdevide\u001b[1;34m(a, b)\u001b[0m\n\u001b[0;32m      2\u001b[0m     \u001b[1;32mreturn\u001b[0m \u001b[0ma\u001b[0m\u001b[1;33m+\u001b[0m\u001b[0mb\u001b[0m\u001b[1;33m\u001b[0m\u001b[0m\n\u001b[0;32m      3\u001b[0m \u001b[1;32mdef\u001b[0m \u001b[0mdevide\u001b[0m\u001b[1;33m(\u001b[0m\u001b[0ma\u001b[0m\u001b[1;33m,\u001b[0m\u001b[0mb\u001b[0m\u001b[1;33m)\u001b[0m\u001b[1;33m:\u001b[0m\u001b[1;33m\u001b[0m\u001b[0m\n\u001b[1;32m----> 4\u001b[1;33m     \u001b[1;32mreturn\u001b[0m \u001b[0ma\u001b[0m\u001b[1;33m/\u001b[0m\u001b[0mb\u001b[0m\u001b[1;33m\u001b[0m\u001b[0m\n\u001b[0m\u001b[0;32m      5\u001b[0m \u001b[1;32mprint\u001b[0m \u001b[0mdevide\u001b[0m\u001b[1;33m(\u001b[0m\u001b[1;36m4\u001b[0m\u001b[1;33m,\u001b[0m\u001b[1;36m0\u001b[0m\u001b[1;33m)\u001b[0m\u001b[1;33m\u001b[0m\u001b[0m\n",
      "\u001b[1;31mZeroDivisionError\u001b[0m: integer division or modulo by zero"
     ]
    },
    {
     "name": "stdout",
     "output_type": "stream",
     "text": [
      "> \u001b[1;32m<ipython-input-8-6a29bf87ba52>\u001b[0m(4)\u001b[0;36mdevide\u001b[1;34m()\u001b[0m\n",
      "\u001b[1;32m      3 \u001b[1;33m\u001b[1;32mdef\u001b[0m \u001b[0mdevide\u001b[0m\u001b[1;33m(\u001b[0m\u001b[0ma\u001b[0m\u001b[1;33m,\u001b[0m\u001b[0mb\u001b[0m\u001b[1;33m)\u001b[0m\u001b[1;33m:\u001b[0m\u001b[1;33m\u001b[0m\u001b[0m\n",
      "\u001b[0m\u001b[1;32m----> 4 \u001b[1;33m    \u001b[1;32mreturn\u001b[0m \u001b[0ma\u001b[0m\u001b[1;33m/\u001b[0m\u001b[0mb\u001b[0m\u001b[1;33m\u001b[0m\u001b[0m\n",
      "\u001b[0m\u001b[1;32m      5 \u001b[1;33m\u001b[1;32mprint\u001b[0m \u001b[0mdevide\u001b[0m\u001b[1;33m(\u001b[0m\u001b[1;36m4\u001b[0m\u001b[1;33m,\u001b[0m\u001b[1;36m0\u001b[0m\u001b[1;33m)\u001b[0m\u001b[1;33m\u001b[0m\u001b[0m\n",
      "\u001b[0m\n",
      "ipdb> quit\n"
     ]
    }
   ],
   "source": [
    "def add(a,b):\n",
    "    return a+b\n",
    "def devide(a,b):\n",
    "    return a/b\n",
    "print devide(4,0)"
   ]
  },
  {
   "cell_type": "code",
   "execution_count": 9,
   "metadata": {
    "collapsed": true
   },
   "outputs": [],
   "source": [
    "# history. %hist is capable of printing all or part of the input history, with or without line numbers.\n",
    "# %reset is for clearing the interactive namespace and optionally the input and output\n",
    "# caches. The %xdel magic function is intended for removing all references to a particular\n",
    "# object from the IPython machinery"
   ]
  },
  {
   "cell_type": "code",
   "execution_count": 10,
   "metadata": {
    "collapsed": false
   },
   "outputs": [
    {
     "name": "stdout",
     "output_type": "stream",
     "text": [
      "#Put set_trace() anywhere in your code\n",
      "#that you want to stop and take a look around (for example, right before an exception occurs):\n",
      "def set_trace():\n",
      "    from IPython.core.debugger import Pdb\n",
      "    Pdb(color_scheme='Linux').set_trace(sys._getframe().f_back)\n",
      "def debug(f, *args, **kwargs):\n",
      "    from IPython.core.debugger import Pdb\n",
      "    pdb = Pdb(color_scheme='Linux')\n",
      "    return pdb.runcall(f, *args, **kwargs)\n",
      "## Executing the %pdb command makes it so that IPython automatically invokes the debugger\n",
      "## after any exception,\n",
      "#ipdb> n,s,c,l,p(pp),a,j\n",
      "# n[ext] line\n",
      "# s[tep] :“step into” for tunneling into a function or method\n",
      "# c[ontinue] : execution until another breakpoint is hit\n",
      "# l[ist] [first[, last]]\n",
      "# pp locals(), pp globals() : quick glance at all the objects your program has access to at that moment.  ### important !!!\n",
      "# a[rgment] : prints out all the arguments the current function received\n",
      "# j[ump] line_number : jump to the given line of code, actually skipping the execution of anything between.\n",
      "%pdb\n",
      "def add(a,b):\n",
      "    return a+b\n",
      "def devide(a,b):\n",
      "    return a/b\n",
      "print devide(4,0)\n",
      "def add(a,b):\n",
      "    return a+b\n",
      "def devide(a,b):\n",
      "    return a/b\n",
      "print devide(4,0)\n",
      "def add(a,b):\n",
      "    return a+b\n",
      "def devide(a,b):\n",
      "    return a/b\n",
      "print devide(4,0)\n",
      "# history. %hist is capable of printing all or part of the input history, with or without line numbers.\n",
      "# %reset is for clearing the interactive namespace and optionally the input and output\n",
      "# caches. The %xdel magic function is intended for removing all references to a particular\n",
      "# object from the IPython machinery\n",
      "%hist\n"
     ]
    }
   ],
   "source": [
    "%hist"
   ]
  },
  {
   "cell_type": "code",
   "execution_count": 13,
   "metadata": {
    "collapsed": false
   },
   "outputs": [
    {
     "name": "stdout",
     "output_type": "stream",
     "text": [
      "Once deleted, variables cannot be recovered. Proceed (y/[n])? \n",
      "Nothing done.\n"
     ]
    }
   ],
   "source": [
    "%reset"
   ]
  },
  {
   "cell_type": "code",
   "execution_count": 14,
   "metadata": {
    "collapsed": false
   },
   "outputs": [
    {
     "name": "stdout",
     "output_type": "stream",
     "text": [
      "NameError: name '' is not defined\n"
     ]
    }
   ],
   "source": [
    "%xdel"
   ]
  },
  {
   "cell_type": "code",
   "execution_count": 15,
   "metadata": {
    "collapsed": true
   },
   "outputs": [],
   "source": [
    "#%load filename.py  #load python file:  will be loaded in the next cell\n",
    "#To save the cell content back into a file add the cell-magic %%writefile filename.py at the beginning of the cell and run it. \n",
    "#but same name already exist, just overwrite!(be cautious !!!)  : for append %%writefile -a filename.py\n",
    "# !python file_name.py   #execute python file"
   ]
  },
  {
   "cell_type": "code",
   "execution_count": 16,
   "metadata": {
    "collapsed": false
   },
   "outputs": [
    {
     "name": "stdout",
     "output_type": "stream",
     "text": [
      "4\n"
     ]
    }
   ],
   "source": [
    "# %load test_writefile.py\n",
    "class Calculate(object):\n",
    "    def add(self, x, y):\n",
    "        return x + y\n",
    "if __name__ == '__main__':\n",
    "    calc = Calculate()\n",
    "    result = calc.add(2, 2)\n",
    "    print result"
   ]
  },
  {
   "cell_type": "code",
   "execution_count": 17,
   "metadata": {
    "collapsed": true
   },
   "outputs": [],
   "source": [
    "#Syntax for Unit Testing\n",
    "# •\tassert: base assert allowing you to write your own assertions\n",
    "# •\tassertEqual(a, b): check a and b are equal\n",
    "# •\tassertNotEqual(a, b): check a and b are not equal\n",
    "# •\tassertIn(a, b): check that a is in the item b\n",
    "# •\tassertNotIn(a, b): check that a is not in the item b\n",
    "# •\tassertFalse(a): check that the value of a is False\n",
    "# •\tassertTrue(a): check the value of a is True\n",
    "# •\tassertIsInstance(a, TYPE): check that a is of type \"TYPE\"\n",
    "# •\tassertRaises(ERROR, a, args): check that when a is called with args that it raises ERROR\n"
   ]
  },
  {
   "cell_type": "code",
   "execution_count": 18,
   "metadata": {
    "collapsed": false
   },
   "outputs": [
    {
     "name": "stderr",
     "output_type": "stream",
     "text": [
      "EEEEEE\n",
      "======================================================================\n",
      "ERROR: Failure: OSError (No such file C:\\Users\\Gloria\\ML\\SFrame Numpy Ipython\\#nose)\n",
      "----------------------------------------------------------------------\n",
      "Traceback (most recent call last):\n",
      "  File \"C:\\Anaconda2\\envs\\dato-env\\lib\\site-packages\\nose\\failure.py\", line 42, in runTest\n",
      "    raise self.exc_class(self.exc_val)\n",
      "OSError: No such file C:\\Users\\Gloria\\ML\\SFrame Numpy Ipython\\#nose\n",
      "\n",
      "======================================================================\n",
      "ERROR: Failure: ImportError (No module named was)\n",
      "----------------------------------------------------------------------\n",
      "Traceback (most recent call last):\n",
      "  File \"C:\\Anaconda2\\envs\\dato-env\\lib\\site-packages\\nose\\loader.py\", line 407, in loadTestsFromName\n",
      "    module = resolve_name(addr.module)\n",
      "  File \"C:\\Anaconda2\\envs\\dato-env\\lib\\site-packages\\nose\\util.py\", line 312, in resolve_name\n",
      "    module = __import__('.'.join(parts_copy))\n",
      "ImportError: No module named was\n",
      "\n",
      "======================================================================\n",
      "ERROR: Failure: ImportError (No module named installed)\n",
      "----------------------------------------------------------------------\n",
      "Traceback (most recent call last):\n",
      "  File \"C:\\Anaconda2\\envs\\dato-env\\lib\\site-packages\\nose\\loader.py\", line 407, in loadTestsFromName\n",
      "    module = resolve_name(addr.module)\n",
      "  File \"C:\\Anaconda2\\envs\\dato-env\\lib\\site-packages\\nose\\util.py\", line 312, in resolve_name\n",
      "    module = __import__('.'.join(parts_copy))\n",
      "ImportError: No module named installed\n",
      "\n",
      "======================================================================\n",
      "ERROR: Failure: ImportError (No module named by)\n",
      "----------------------------------------------------------------------\n",
      "Traceback (most recent call last):\n",
      "  File \"C:\\Anaconda2\\envs\\dato-env\\lib\\site-packages\\nose\\loader.py\", line 407, in loadTestsFromName\n",
      "    module = resolve_name(addr.module)\n",
      "  File \"C:\\Anaconda2\\envs\\dato-env\\lib\\site-packages\\nose\\util.py\", line 312, in resolve_name\n",
      "    module = __import__('.'.join(parts_copy))\n",
      "ImportError: No module named by\n",
      "\n",
      "======================================================================\n",
      "ERROR: Failure: OSError (No such file C:\\Users\\Gloria\\ML\\SFrame Numpy Ipython\\!pip)\n",
      "----------------------------------------------------------------------\n",
      "Traceback (most recent call last):\n",
      "  File \"C:\\Anaconda2\\envs\\dato-env\\lib\\site-packages\\nose\\failure.py\", line 42, in runTest\n",
      "    raise self.exc_class(self.exc_val)\n",
      "OSError: No such file C:\\Users\\Gloria\\ML\\SFrame Numpy Ipython\\!pip\n",
      "\n",
      "======================================================================\n",
      "ERROR: Failure: ImportError (No module named install)\n",
      "----------------------------------------------------------------------\n",
      "Traceback (most recent call last):\n",
      "  File \"C:\\Anaconda2\\envs\\dato-env\\lib\\site-packages\\nose\\loader.py\", line 407, in loadTestsFromName\n",
      "    module = resolve_name(addr.module)\n",
      "  File \"C:\\Anaconda2\\envs\\dato-env\\lib\\site-packages\\nose\\util.py\", line 312, in resolve_name\n",
      "    module = __import__('.'.join(parts_copy))\n",
      "ImportError: No module named install\n",
      "\n",
      "----------------------------------------------------------------------\n",
      "Ran 6 tests in 0.005s\n",
      "\n",
      "FAILED (errors=6)\n"
     ]
    }
   ],
   "source": [
    "!nosetests test_writefile.py  #nose was installed by !pip install nose"
   ]
  },
  {
   "cell_type": "code",
   "execution_count": 24,
   "metadata": {
    "collapsed": false
   },
   "outputs": [
    {
     "name": "stdout",
     "output_type": "stream",
     "text": [
      " Volume in drive C is OS\n",
      " Volume Serial Number is 8C58-98CE\n",
      "\n",
      " Directory of C:\\Users\\Gloria\\ML\\SFrame Numpy Ipython\n",
      "\n",
      "[.]                                  [..]\n",
      "[.ipynb_checkpoints]                 calculate.py\n",
      "calculate.pyc                        calculate_test.py\n",
      "cars.csv                             [class test]\n",
      "Getting Started with SFrames.ipynb   Ipython_test-Copy1.ipynb\n",
      "Ipython_test.ipynb                   numpy-tutorial.ipynb\n",
      "numpy_test.ipynb                     [orig_song_data]\n",
      "quiz.csv                             quiz1.csv\n",
      "rating_data_example.csv              SFrame guide.ipynb\n",
      "song_data.csv                        tdd_debug_test.ipynb\n",
      "test.py                              test_writefile.py\n",
      "test_writefile.pyc                   \n",
      "              18 File(s)     82,799,684 bytes\n",
      "               5 Dir(s)  797,465,591,808 bytes free\n"
     ]
    }
   ],
   "source": [
    "!dir/w"
   ]
  },
  {
   "cell_type": "code",
   "execution_count": 25,
   "metadata": {
    "collapsed": true
   },
   "outputs": [],
   "source": [
    "! cd .."
   ]
  },
  {
   "cell_type": "code",
   "execution_count": 26,
   "metadata": {
    "collapsed": false
   },
   "outputs": [
    {
     "name": "stdout",
     "output_type": "stream",
     "text": [
      " Volume in drive C is OS\n",
      " Volume Serial Number is 8C58-98CE\n",
      "\n",
      " Directory of C:\\Users\\Gloria\\ML\\SFrame Numpy Ipython\n",
      "\n",
      "[.]                                  [..]\n",
      "[.ipynb_checkpoints]                 calculate.py\n",
      "calculate.pyc                        calculate_test.py\n",
      "cars.csv                             [class test]\n",
      "Getting Started with SFrames.ipynb   Ipython_test-Copy1.ipynb\n",
      "Ipython_test.ipynb                   numpy-tutorial.ipynb\n",
      "numpy_test.ipynb                     [orig_song_data]\n",
      "quiz.csv                             quiz1.csv\n",
      "rating_data_example.csv              SFrame guide.ipynb\n",
      "song_data.csv                        tdd_debug_test.ipynb\n",
      "test.py                              test_writefile.py\n",
      "test_writefile.pyc                   \n",
      "              18 File(s)     82,799,684 bytes\n",
      "               5 Dir(s)  797,465,587,712 bytes free\n"
     ]
    }
   ],
   "source": [
    "!dir/w"
   ]
  },
  {
   "cell_type": "code",
   "execution_count": 27,
   "metadata": {
    "collapsed": false
   },
   "outputs": [
    {
     "name": "stdout",
     "output_type": "stream",
     "text": [
      "\n",
      "Windows IP Configuration\n",
      "\n",
      "\n",
      "Ethernet adapter Ethernet:\n",
      "\n",
      "   Media State . . . . . . . . . . . : Media disconnected\n",
      "   Connection-specific DNS Suffix  . : \n",
      "\n",
      "Wireless LAN adapter Local Area Connection* 12:\n",
      "\n",
      "   Media State . . . . . . . . . . . : Media disconnected\n",
      "   Connection-specific DNS Suffix  . : \n",
      "\n",
      "Ethernet adapter VirtualBox Host-Only Network:\n",
      "\n",
      "   Connection-specific DNS Suffix  . : \n",
      "   Link-local IPv6 Address . . . . . : fe80::485a:a8c1:c125:2c45%24\n",
      "   IPv4 Address. . . . . . . . . . . : 192.168.56.1\n",
      "   Subnet Mask . . . . . . . . . . . : 255.255.255.0\n",
      "   Default Gateway . . . . . . . . . : \n",
      "\n",
      "Ethernet adapter VirtualBox Host-Only Network #2:\n",
      "\n",
      "   Connection-specific DNS Suffix  . : \n",
      "   Link-local IPv6 Address . . . . . : fe80::d031:6689:63ed:d4b1%32\n",
      "   IPv4 Address. . . . . . . . . . . : 192.168.99.1\n",
      "   Subnet Mask . . . . . . . . . . . : 255.255.255.0\n",
      "   Default Gateway . . . . . . . . . : \n",
      "\n",
      "Wireless LAN adapter Wi-Fi:\n",
      "\n",
      "   Connection-specific DNS Suffix  . : \n",
      "   Link-local IPv6 Address . . . . . : fe80::250b:6efe:8778:db58%7\n",
      "   IPv4 Address. . . . . . . . . . . : 172.16.31.37\n",
      "   Subnet Mask . . . . . . . . . . . : 255.255.224.0\n",
      "   Default Gateway . . . . . . . . . : 172.16.31.1\n",
      "\n",
      "Ethernet adapter Bluetooth Network Connection:\n",
      "\n",
      "   Media State . . . . . . . . . . . : Media disconnected\n",
      "   Connection-specific DNS Suffix  . : \n",
      "\n",
      "Tunnel adapter Teredo Tunneling Pseudo-Interface:\n",
      "\n",
      "   Media State . . . . . . . . . . . : Media disconnected\n",
      "   Connection-specific DNS Suffix  . : \n",
      "\n",
      "Tunnel adapter isatap.{6619DBB0-5C91-4104-BEDA-118FCC53502D}:\n",
      "\n",
      "   Media State . . . . . . . . . . . : Media disconnected\n",
      "   Connection-specific DNS Suffix  . : \n",
      "\n",
      "Tunnel adapter isatap.{8B34AEBC-BBC4-4132-A820-8D6746B41C48}:\n",
      "\n",
      "   Media State . . . . . . . . . . . : Media disconnected\n",
      "   Connection-specific DNS Suffix  . : \n",
      "\n",
      "Tunnel adapter isatap.{A67BC4BA-B152-4989-A075-9ED5B1DA909D}:\n",
      "\n",
      "   Media State . . . . . . . . . . . : Media disconnected\n",
      "   Connection-specific DNS Suffix  . : \n"
     ]
    }
   ],
   "source": [
    "! ipconfig"
   ]
  },
  {
   "cell_type": "code",
   "execution_count": 19,
   "metadata": {
    "collapsed": false
   },
   "outputs": [
    {
     "name": "stdout",
     "output_type": "stream",
     "text": [
      "Overwriting ipython_bug.py\n"
     ]
    }
   ],
   "source": [
    "%%writefile ipython_bug.py\n",
    "def works_fine():\n",
    "    a = 5\n",
    "    b = 6\n",
    "    assert(a+b == 10)\n",
    "#we could set a breakpoint right before calling the works_fine method \n",
    "#and run the script until we reach the breakpoint by pressing c(continue):    \n",
    "def calling_things():\n",
    "#At this point, you can s(step) into works_fine() or execute works_fine() by pressing n(next) to advance to the next line:    \n",
    "    works_fine()       #we set break point in works_fine() #before calling works_fine() , we set break point : line # 9\n",
    "    throws_an_exception()\n",
    "    \n",
    "calling_things()"
   ]
  },
  {
   "cell_type": "code",
   "execution_count": 21,
   "metadata": {
    "collapsed": false
   },
   "outputs": [
    {
     "name": "stdout",
     "output_type": "stream",
     "text": [
      "NOTE: Enter 'c' at the ipdb>  prompt to continue execution.\n",
      "\u001b[1;31m---------------------------------------------------------------------------\u001b[0m\n",
      "\u001b[1;31mSyntaxError\u001b[0m                               Traceback (most recent call last)\n",
      "\u001b[1;31mSyntaxError\u001b[0m: invalid syntax (<string>, line 5)\n",
      "> \u001b[1;32mc:\\anaconda2\\envs\\dato-env\\lib\\bdb.py\u001b[0m(405)\u001b[0;36mrun\u001b[1;34m()\u001b[0m\n",
      "\u001b[1;32m    404 \u001b[1;33m            \u001b[0mself\u001b[0m\u001b[1;33m.\u001b[0m\u001b[0mquitting\u001b[0m \u001b[1;33m=\u001b[0m \u001b[1;36m1\u001b[0m\u001b[1;33m\u001b[0m\u001b[0m\n",
      "\u001b[0m\u001b[1;32m--> 405 \u001b[1;33m            \u001b[0msys\u001b[0m\u001b[1;33m.\u001b[0m\u001b[0msettrace\u001b[0m\u001b[1;33m(\u001b[0m\u001b[0mNone\u001b[0m\u001b[1;33m)\u001b[0m\u001b[1;33m\u001b[0m\u001b[0m\n",
      "\u001b[0m\u001b[1;32m    406 \u001b[1;33m\u001b[1;33m\u001b[0m\u001b[0m\n",
      "\u001b[0m\n",
      "ipdb> quit\n"
     ]
    }
   ],
   "source": [
    "%debug   #inside debug move 'u' : up , 'd':down"
   ]
  },
  {
   "cell_type": "code",
   "execution_count": 22,
   "metadata": {
    "collapsed": false
   },
   "outputs": [],
   "source": [
    "#run -d file_name.py : invoke debugger before execute code in passed script,immediately press 's' to enter the script\n",
    "#b number_line : set up break point in number_line    \n",
    "# option 1 - c : continue  uttil break points\n",
    "#At this point , s : step into works_fine() or n: execulte works_fine()\n",
    "#then s: step into throws_an_exception() and n:execute(advnced) the line in which errors occurred.\n",
    "#!a , !b for variable print"
   ]
  },
  {
   "cell_type": "code",
   "execution_count": null,
   "metadata": {
    "collapsed": false
   },
   "outputs": [
    {
     "name": "stdout",
     "output_type": "stream",
     "text": [
      "Breakpoint 1 at c:\\users\\gloria\\ml\\sframe numpy ipython\\ipython_bug.py:1\n",
      "NOTE: Enter 'c' at the ipdb>  prompt to continue execution.\n",
      "> \u001b[1;32mc:\\users\\gloria\\ml\\sframe numpy ipython\\ipython_bug.py\u001b[0m(1)\u001b[0;36m<module>\u001b[1;34m()\u001b[0m\n",
      "\u001b[1;31m1\u001b[1;32m---> 1 \u001b[1;33m\u001b[1;32mdef\u001b[0m \u001b[0mworks_fine\u001b[0m\u001b[1;33m(\u001b[0m\u001b[1;33m)\u001b[0m\u001b[1;33m:\u001b[0m\u001b[1;33m\u001b[0m\u001b[0m\n",
      "\u001b[0m\u001b[1;32m      2 \u001b[1;33m    \u001b[0ma\u001b[0m \u001b[1;33m=\u001b[0m \u001b[1;36m5\u001b[0m\u001b[1;33m\u001b[0m\u001b[0m\n",
      "\u001b[0m\u001b[1;32m      3 \u001b[1;33m    \u001b[0mb\u001b[0m \u001b[1;33m=\u001b[0m \u001b[1;36m6\u001b[0m\u001b[1;33m\u001b[0m\u001b[0m\n",
      "\u001b[0m\n",
      "ipdb> b 9\n",
      "Breakpoint 2 at c:\\users\\gloria\\ml\\sframe numpy ipython\\ipython_bug.py:9\n",
      "ipdb> c\n",
      "> \u001b[1;32mc:\\users\\gloria\\ml\\sframe numpy ipython\\ipython_bug.py\u001b[0m(9)\u001b[0;36mcalling_things\u001b[1;34m()\u001b[0m\n",
      "\u001b[1;32m      8 \u001b[1;33m\u001b[1;31m#At this point, you can s(step) into works_fine() or execute works_fine() by pressing n(next) to advance to the next line:\u001b[0m\u001b[1;33m\u001b[0m\u001b[1;33m\u001b[0m\u001b[0m\n",
      "\u001b[0m\u001b[1;31m2\u001b[1;32m---> 9 \u001b[1;33m    \u001b[0mworks_fine\u001b[0m\u001b[1;33m(\u001b[0m\u001b[1;33m)\u001b[0m       \u001b[1;31m#we set break point in works_fine() #before calling works_fine() , we set break point : line # 9\u001b[0m\u001b[1;33m\u001b[0m\u001b[0m\n",
      "\u001b[0m\u001b[1;32m     10 \u001b[1;33m    \u001b[0mthrows_an_exception\u001b[0m\u001b[1;33m(\u001b[0m\u001b[1;33m)\u001b[0m\u001b[1;33m\u001b[0m\u001b[0m\n",
      "\u001b[0m\n",
      "ipdb> n\n",
      "AssertionError: AssertionError()\n",
      "> \u001b[1;32mc:\\users\\gloria\\ml\\sframe numpy ipython\\ipython_bug.py\u001b[0m(9)\u001b[0;36mcalling_things\u001b[1;34m()\u001b[0m\n",
      "\u001b[1;32m      8 \u001b[1;33m\u001b[1;31m#At this point, you can s(step) into works_fine() or execute works_fine() by pressing n(next) to advance to the next line:\u001b[0m\u001b[1;33m\u001b[0m\u001b[1;33m\u001b[0m\u001b[0m\n",
      "\u001b[0m\u001b[1;31m2\u001b[1;32m---> 9 \u001b[1;33m    \u001b[0mworks_fine\u001b[0m\u001b[1;33m(\u001b[0m\u001b[1;33m)\u001b[0m       \u001b[1;31m#we set break point in works_fine() #before calling works_fine() , we set break point : line # 9\u001b[0m\u001b[1;33m\u001b[0m\u001b[0m\n",
      "\u001b[0m\u001b[1;32m     10 \u001b[1;33m    \u001b[0mthrows_an_exception\u001b[0m\u001b[1;33m(\u001b[0m\u001b[1;33m)\u001b[0m\u001b[1;33m\u001b[0m\u001b[0m\n",
      "\u001b[0m\n",
      "ipdb> c\n",
      "\u001b[1;31m---------------------------------------------------------------------------\u001b[0m\n",
      "\u001b[1;31mAssertionError\u001b[0m                            Traceback (most recent call last)\n",
      "\u001b[1;32mC:\\Anaconda2\\envs\\dato-env\\lib\\site-packages\\IPython\\core\\interactiveshell.pyc\u001b[0m in \u001b[0;36msafe_execfile\u001b[1;34m(self, fname, *where, **kw)\u001b[0m\n",
      "\u001b[0;32m   2635\u001b[0m                 py3compat.execfile(\n",
      "\u001b[0;32m   2636\u001b[0m                     \u001b[0mfname\u001b[0m\u001b[1;33m,\u001b[0m \u001b[0mglob\u001b[0m\u001b[1;33m,\u001b[0m \u001b[0mloc\u001b[0m\u001b[1;33m,\u001b[0m\u001b[1;33m\u001b[0m\u001b[0m\n",
      "\u001b[1;32m-> 2637\u001b[1;33m                     self.compile if kw['shell_futures'] else None)\n",
      "\u001b[0m\u001b[0;32m   2638\u001b[0m             \u001b[1;32mexcept\u001b[0m \u001b[0mSystemExit\u001b[0m \u001b[1;32mas\u001b[0m \u001b[0mstatus\u001b[0m\u001b[1;33m:\u001b[0m\u001b[1;33m\u001b[0m\u001b[0m\n",
      "\u001b[0;32m   2639\u001b[0m                 \u001b[1;31m# If the call was made with 0 or None exit status (sys.exit(0)\u001b[0m\u001b[1;33m\u001b[0m\u001b[1;33m\u001b[0m\u001b[0m\n",
      "\n",
      "\u001b[1;32mC:\\Anaconda2\\envs\\dato-env\\lib\\site-packages\\IPython\\utils\\py3compat.pyc\u001b[0m in \u001b[0;36mexecfile\u001b[1;34m(fname, glob, loc, compiler)\u001b[0m\n",
      "\u001b[0;32m    205\u001b[0m                 \u001b[0mfilename\u001b[0m \u001b[1;33m=\u001b[0m \u001b[0mfname\u001b[0m\u001b[1;33m\u001b[0m\u001b[0m\n",
      "\u001b[0;32m    206\u001b[0m             \u001b[0mcompiler\u001b[0m \u001b[1;33m=\u001b[0m \u001b[0mcompiler\u001b[0m \u001b[1;32mor\u001b[0m \u001b[0mcompile\u001b[0m\u001b[1;33m\u001b[0m\u001b[0m\n",
      "\u001b[1;32m--> 207\u001b[1;33m             \u001b[1;32mexec\u001b[0m\u001b[1;33m(\u001b[0m\u001b[0mcompiler\u001b[0m\u001b[1;33m(\u001b[0m\u001b[0mscripttext\u001b[0m\u001b[1;33m,\u001b[0m \u001b[0mfilename\u001b[0m\u001b[1;33m,\u001b[0m \u001b[1;34m'exec'\u001b[0m\u001b[1;33m)\u001b[0m\u001b[1;33m,\u001b[0m \u001b[0mglob\u001b[0m\u001b[1;33m,\u001b[0m \u001b[0mloc\u001b[0m\u001b[1;33m)\u001b[0m\u001b[1;33m\u001b[0m\u001b[0m\n",
      "\u001b[0m\u001b[0;32m    208\u001b[0m \u001b[1;33m\u001b[0m\u001b[0m\n",
      "\u001b[0;32m    209\u001b[0m     \u001b[1;32melse\u001b[0m\u001b[1;33m:\u001b[0m\u001b[1;33m\u001b[0m\u001b[0m\n",
      "\n",
      "\u001b[1;32mC:\\Users\\Gloria\\ML\\SFrame Numpy Ipython\\ipython_bug.py\u001b[0m in \u001b[0;36m<module>\u001b[1;34m()\u001b[0m\n",
      "\u001b[0;32m     10\u001b[0m     \u001b[0mthrows_an_exception\u001b[0m\u001b[1;33m(\u001b[0m\u001b[1;33m)\u001b[0m\u001b[1;33m\u001b[0m\u001b[0m\n",
      "\u001b[0;32m     11\u001b[0m \u001b[1;33m\u001b[0m\u001b[0m\n",
      "\u001b[1;32m---> 12\u001b[1;33m \u001b[0mcalling_things\u001b[0m\u001b[1;33m(\u001b[0m\u001b[1;33m)\u001b[0m\u001b[1;33m\u001b[0m\u001b[0m\n",
      "\u001b[0m\n",
      "\u001b[1;32mC:\\Users\\Gloria\\ML\\SFrame Numpy Ipython\\ipython_bug.py\u001b[0m in \u001b[0;36mcalling_things\u001b[1;34m()\u001b[0m\n",
      "\u001b[0;32m      7\u001b[0m \u001b[1;32mdef\u001b[0m \u001b[0mcalling_things\u001b[0m\u001b[1;33m(\u001b[0m\u001b[1;33m)\u001b[0m\u001b[1;33m:\u001b[0m\u001b[1;33m\u001b[0m\u001b[0m\n",
      "\u001b[0;32m      8\u001b[0m \u001b[1;31m#At this point, you can s(step) into works_fine() or execute works_fine() by pressing n(next) to advance to the next line:\u001b[0m\u001b[1;33m\u001b[0m\u001b[1;33m\u001b[0m\u001b[0m\n",
      "\u001b[1;32m----> 9\u001b[1;33m     \u001b[0mworks_fine\u001b[0m\u001b[1;33m(\u001b[0m\u001b[1;33m)\u001b[0m       \u001b[1;31m#we set break point in works_fine() #before calling works_fine() , we set break point : line # 9\u001b[0m\u001b[1;33m\u001b[0m\u001b[0m\n",
      "\u001b[0m\u001b[0;32m     10\u001b[0m     \u001b[0mthrows_an_exception\u001b[0m\u001b[1;33m(\u001b[0m\u001b[1;33m)\u001b[0m\u001b[1;33m\u001b[0m\u001b[0m\n",
      "\u001b[0;32m     11\u001b[0m \u001b[1;33m\u001b[0m\u001b[0m\n",
      "\n",
      "\u001b[1;32mC:\\Users\\Gloria\\ML\\SFrame Numpy Ipython\\ipython_bug.py\u001b[0m in \u001b[0;36mworks_fine\u001b[1;34m()\u001b[0m\n",
      "\u001b[0;32m      2\u001b[0m     \u001b[0ma\u001b[0m \u001b[1;33m=\u001b[0m \u001b[1;36m5\u001b[0m\u001b[1;33m\u001b[0m\u001b[0m\n",
      "\u001b[0;32m      3\u001b[0m     \u001b[0mb\u001b[0m \u001b[1;33m=\u001b[0m \u001b[1;36m6\u001b[0m\u001b[1;33m\u001b[0m\u001b[0m\n",
      "\u001b[1;32m----> 4\u001b[1;33m     \u001b[1;32massert\u001b[0m\u001b[1;33m(\u001b[0m\u001b[0ma\u001b[0m\u001b[1;33m+\u001b[0m\u001b[0mb\u001b[0m \u001b[1;33m==\u001b[0m \u001b[1;36m10\u001b[0m\u001b[1;33m)\u001b[0m\u001b[1;33m\u001b[0m\u001b[0m\n",
      "\u001b[0m\u001b[0;32m      5\u001b[0m \u001b[1;31m#we could set a breakpoint right before calling the works_fine method\u001b[0m\u001b[1;33m\u001b[0m\u001b[1;33m\u001b[0m\u001b[0m\n",
      "\u001b[0;32m      6\u001b[0m \u001b[1;31m#and run the script until we reach the breakpoint by pressing c(continue):\u001b[0m\u001b[1;33m\u001b[0m\u001b[1;33m\u001b[0m\u001b[0m\n",
      "\n",
      "\u001b[1;31mAssertionError\u001b[0m: \n",
      "> \u001b[1;32mc:\\users\\gloria\\ml\\sframe numpy ipython\\ipython_bug.py\u001b[0m(4)\u001b[0;36mworks_fine\u001b[1;34m()\u001b[0m\n",
      "\u001b[1;32m      3 \u001b[1;33m    \u001b[0mb\u001b[0m \u001b[1;33m=\u001b[0m \u001b[1;36m6\u001b[0m\u001b[1;33m\u001b[0m\u001b[0m\n",
      "\u001b[0m\u001b[1;32m----> 4 \u001b[1;33m    \u001b[1;32massert\u001b[0m\u001b[1;33m(\u001b[0m\u001b[0ma\u001b[0m\u001b[1;33m+\u001b[0m\u001b[0mb\u001b[0m \u001b[1;33m==\u001b[0m \u001b[1;36m10\u001b[0m\u001b[1;33m)\u001b[0m\u001b[1;33m\u001b[0m\u001b[0m\n",
      "\u001b[0m\u001b[1;32m      5 \u001b[1;33m\u001b[1;31m#we could set a breakpoint right before calling the works_fine method\u001b[0m\u001b[1;33m\u001b[0m\u001b[1;33m\u001b[0m\u001b[0m\n",
      "\u001b[0m\n",
      "ipdb> !a\n",
      "5\n",
      "ipdb> !b\n",
      "6\n"
     ]
    }
   ],
   "source": [
    "run -d ipython_bug.py"
   ]
  },
  {
   "cell_type": "code",
   "execution_count": null,
   "metadata": {
    "collapsed": true
   },
   "outputs": [],
   "source": [
    "# ctrl + M + L  #toggle number on / off in front of code. : not working!!"
   ]
  }
 ],
 "metadata": {
  "kernelspec": {
   "display_name": "Python 2",
   "language": "python",
   "name": "python2"
  },
  "language_info": {
   "codemirror_mode": {
    "name": "ipython",
    "version": 2
   },
   "file_extension": ".py",
   "mimetype": "text/x-python",
   "name": "python",
   "nbconvert_exporter": "python",
   "pygments_lexer": "ipython2",
   "version": "2.7.10"
  }
 },
 "nbformat": 4,
 "nbformat_minor": 0
}
