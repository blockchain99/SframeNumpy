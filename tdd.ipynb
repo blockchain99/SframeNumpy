{
 "cells": [
  {
   "cell_type": "code",
   "execution_count": 20,
   "metadata": {
    "collapsed": false
   },
   "outputs": [
    {
     "name": "stdout",
     "output_type": "stream",
     "text": [
      "Automatic pdb calling has been turned ON\n"
     ]
    }
   ],
   "source": [
    "%pdb"
   ]
  },
  {
   "cell_type": "code",
   "execution_count": 58,
   "metadata": {
    "collapsed": false
   },
   "outputs": [
    {
     "name": "stdout",
     "output_type": "stream",
     "text": [
      "Overwriting calculate.py\n"
     ]
    }
   ],
   "source": [
    "%%writefile calculate.py\n",
    "class Calculate(object):\n",
    "    def add(self, x, y):\n",
    "        return x + y\n",
    "# if __name__ == '__main__':\n",
    "#     calc = Calculate()\n",
    "#     result = calc.add(2, 2)\n",
    "#     print result"
   ]
  },
  {
   "cell_type": "code",
   "execution_count": 59,
   "metadata": {
    "collapsed": false
   },
   "outputs": [
    {
     "name": "stdout",
     "output_type": "stream",
     "text": [
      "Overwriting calculate_test.py\n"
     ]
    }
   ],
   "source": [
    "%%writefile calculate_test.py\n",
    "import unittest\n",
    "from calculate import Calculate\n",
    "\n",
    "class TestCalculate(unittest.TestCase):\n",
    "    def setUp(self):                  #very important !!! always use def setup(self): according to don't repeat yourself(DRY)  \n",
    "        self.calc = Calculate()\n",
    "    def test_add_method_returns_correct_result(self):\n",
    "        #self.assertEqual(4, self.calc.add(2,2))\n",
    "        self.assertEqual(4, self.calc.add(2,3))\n",
    "if __name__ == '__main__':\n",
    "    unittest.main()   "
   ]
  },
  {
   "cell_type": "code",
   "execution_count": 60,
   "metadata": {
    "collapsed": false
   },
   "outputs": [
    {
     "name": "stderr",
     "output_type": "stream",
     "text": [
      "F\n",
      "======================================================================\n",
      "FAIL: test_add_method_returns_correct_result (__main__.TestCalculate)\n",
      "----------------------------------------------------------------------\n",
      "Traceback (most recent call last):\n",
      "  File \"calculate_test.py\", line 9, in test_add_method_returns_correct_result\n",
      "    self.assertEqual(4, self.calc.add(2,3))\n",
      "AssertionError: 4 != 5\n",
      "\n",
      "----------------------------------------------------------------------\n",
      "Ran 1 test in 0.000s\n",
      "\n",
      "FAILED (failures=1)\n"
     ]
    }
   ],
   "source": [
    "!python calculate_test.py"
   ]
  },
  {
   "cell_type": "code",
   "execution_count": 72,
   "metadata": {
    "collapsed": false
   },
   "outputs": [
    {
     "name": "stdout",
     "output_type": "stream",
     "text": [
      "Overwriting calculate1.py\n"
     ]
    }
   ],
   "source": [
    "%%writefile calculate1.py\n",
    "class Calculate1(object):\n",
    "    def add(self, x, y):\n",
    "        if type(x) == int and type(y) == int:\n",
    "            return x + y\n",
    "        else:\n",
    "            raise TypeError(\"Invalid type: {} and {}\".format(type(x),type(y)))\n",
    "# if __name__ == '__main__':\n",
    "#     calc = Calculate()\n",
    "#     result = calc.add(2, 2)\n",
    "#     print result"
   ]
  },
  {
   "cell_type": "code",
   "execution_count": 77,
   "metadata": {
    "collapsed": false
   },
   "outputs": [
    {
     "name": "stdout",
     "output_type": "stream",
     "text": [
      "Overwriting calculate1_test.py\n"
     ]
    }
   ],
   "source": [
    "%%writefile calculate1_test.py\n",
    "import unittest\n",
    "from calculate1 import Calculate1   #from file_name import class_name\n",
    "class TestCalculate1(unittest.TestCase):\n",
    "    def setUp(self):\n",
    "        self.calc1 = Calculate1()\n",
    "    #def test_add_method_returns_correct_result(self):\n",
    "    def test_add_method_raises_typeerror_if_not_ints(self):\n",
    "        #self.assertEqual(\"HelloWorld\", self.calc1.add(\"Hello\", \"World\"))\n",
    "        self.assertRaises(TypeError, self.calc1.add, \"Hello\",\"World\")\n",
    "if __name__ == '__main__':\n",
    "    unittest.main()   "
   ]
  },
  {
   "cell_type": "code",
   "execution_count": 78,
   "metadata": {
    "collapsed": false
   },
   "outputs": [
    {
     "name": "stderr",
     "output_type": "stream",
     "text": [
      ".\n",
      "----------------------------------------------------------------------\n",
      "Ran 1 test in 0.000s\n",
      "\n",
      "OK\n"
     ]
    }
   ],
   "source": [
    "!python calculate1_test.py"
   ]
  },
  {
   "cell_type": "code",
   "execution_count": 80,
   "metadata": {
    "collapsed": false
   },
   "outputs": [
    {
     "name": "stderr",
     "output_type": "stream",
     "text": [
      ".\n",
      "----------------------------------------------------------------------\n",
      "Ran 1 test in 0.002s\n",
      "\n",
      "OK\n"
     ]
    }
   ],
   "source": [
    "!nosetests calculate1_test.py"
   ]
  },
  {
   "cell_type": "code",
   "execution_count": 81,
   "metadata": {
    "collapsed": false
   },
   "outputs": [
    {
     "name": "stderr",
     "output_type": "stream",
     "text": [
      "F\n",
      "======================================================================\n",
      "FAIL: test_add_method_returns_correct_result (calculate_test.TestCalculate)\n",
      "----------------------------------------------------------------------\n",
      "Traceback (most recent call last):\n",
      "  File \"C:\\Users\\Gloria\\ML\\SFrame Numpy Ipython\\calculate_test.py\", line 9, in test_add_method_returns_correct_result\n",
      "    self.assertEqual(4, self.calc.add(2,3))\n",
      "AssertionError: 4 != 5\n",
      "\n",
      "----------------------------------------------------------------------\n",
      "Ran 1 test in 0.002s\n",
      "\n",
      "FAILED (failures=1)\n"
     ]
    }
   ],
   "source": [
    "!nosetests calculate_test.py"
   ]
  },
  {
   "cell_type": "code",
   "execution_count": 84,
   "metadata": {
    "collapsed": false
   },
   "outputs": [
    {
     "name": "stdout",
     "output_type": "stream",
     "text": [
      "Collecting nose-cov\n",
      "  Downloading nose-cov-1.6.tar.gz\n",
      "Requirement already satisfied (use --upgrade to upgrade): nose>=0.11.4 in c:\\anaconda2\\envs\\dato-env\\lib\\site-packages (from nose-cov)\n",
      "Collecting cov-core>=1.6 (from nose-cov)\n",
      "  Downloading cov-core-1.15.0.tar.gz\n",
      "Collecting coverage>=3.6 (from cov-core>=1.6->nose-cov)\n",
      "  Downloading coverage-4.0.3-cp27-none-win_amd64.whl (159kB)\n",
      "Building wheels for collected packages: nose-cov, cov-core\n",
      "  Running setup.py bdist_wheel for nose-cov: started\n",
      "  Running setup.py bdist_wheel for nose-cov: finished with status 'done'\n",
      "  Stored in directory: C:\\Users\\Gloria\\AppData\\Local\\pip\\Cache\\wheels\\a9\\f4\\bd\\f81a8fe3e6b6282273ead2629d84d527e7fc35e8b442b3627e\n",
      "  Running setup.py bdist_wheel for cov-core: started\n",
      "  Running setup.py bdist_wheel for cov-core: finished with status 'done'\n",
      "  Stored in directory: C:\\Users\\Gloria\\AppData\\Local\\pip\\Cache\\wheels\\86\\e1\\c2\\9ff8cfe9773ce07003f2c2be096e169af4614c2f634671d49b\n",
      "Successfully built nose-cov cov-core\n",
      "Installing collected packages: coverage, cov-core, nose-cov\n",
      "Successfully installed cov-core-1.15.0 coverage-4.0.3 nose-cov-1.6\n"
     ]
    },
    {
     "name": "stderr",
     "output_type": "stream",
     "text": [
      "You are using pip version 8.0.3, however version 8.1.1 is available.\n",
      "You should consider upgrading via the 'python -m pip install --upgrade pip' command.\n"
     ]
    }
   ],
   "source": [
    "!pip install nose-cov"
   ]
  },
  {
   "cell_type": "code",
   "execution_count": 90,
   "metadata": {
    "collapsed": false
   },
   "outputs": [
    {
     "ename": "SyntaxError",
     "evalue": "invalid syntax (<ipython-input-90-e7583411aacd>, line 1)",
     "output_type": "error",
     "traceback": [
      "\u001b[1;36m  File \u001b[1;32m\"<ipython-input-90-e7583411aacd>\"\u001b[1;36m, line \u001b[1;32m1\u001b[0m\n\u001b[1;33m    nosetests --with-coverage\u001b[0m\n\u001b[1;37m                   ^\u001b[0m\n\u001b[1;31mSyntaxError\u001b[0m\u001b[1;31m:\u001b[0m invalid syntax\n"
     ]
    }
   ],
   "source": []
  },
  {
   "cell_type": "code",
   "execution_count": 91,
   "metadata": {
    "collapsed": false
   },
   "outputs": [
    {
     "name": "stdout",
     "output_type": "stream",
     "text": [
      "Collecting rednose\n",
      "  Downloading rednose-1.1.1.tar.gz\n",
      "Requirement already satisfied (use --upgrade to upgrade): setuptools in c:\\anaconda2\\envs\\dato-env\\lib\\site-packages\\setuptools-20.1.1-py2.7.egg (from rednose)\n",
      "Collecting python-termstyle>=0.1.7 (from rednose)\n",
      "  Downloading python-termstyle-0.1.10.tar.gz\n",
      "Requirement already satisfied (use --upgrade to upgrade): colorama in c:\\anaconda2\\envs\\dato-env\\lib\\site-packages (from rednose)\n",
      "Building wheels for collected packages: rednose, python-termstyle\n",
      "  Running setup.py bdist_wheel for rednose: started\n",
      "  Running setup.py bdist_wheel for rednose: finished with status 'done'\n",
      "  Stored in directory: C:\\Users\\Gloria\\AppData\\Local\\pip\\Cache\\wheels\\cb\\d1\\0a\\4097180851284b5fa4a882f1836e02823f192a3c996f9577d0\n",
      "  Running setup.py bdist_wheel for python-termstyle: started\n",
      "  Running setup.py bdist_wheel for python-termstyle: finished with status 'done'\n",
      "  Stored in directory: C:\\Users\\Gloria\\AppData\\Local\\pip\\Cache\\wheels\\1c\\e4\\f2\\9debde18c5d514f1746df68c36a255c2e1d0c21172dc0c8e7d\n",
      "Successfully built rednose python-termstyle\n",
      "Installing collected packages: python-termstyle, rednose\n",
      "Successfully installed python-termstyle-0.1.10 rednose-1.1.1\n"
     ]
    },
    {
     "name": "stderr",
     "output_type": "stream",
     "text": [
      "You are using pip version 8.0.3, however version 8.1.1 is available.\n",
      "You should consider upgrading via the 'python -m pip install --upgrade pip' command.\n"
     ]
    }
   ],
   "source": [
    "!pip install rednose"
   ]
  },
  {
   "cell_type": "code",
   "execution_count": null,
   "metadata": {
    "collapsed": true
   },
   "outputs": [],
   "source": []
  }
 ],
 "metadata": {
  "kernelspec": {
   "display_name": "Python 2",
   "language": "python",
   "name": "python2"
  },
  "language_info": {
   "codemirror_mode": {
    "name": "ipython",
    "version": 2
   },
   "file_extension": ".py",
   "mimetype": "text/x-python",
   "name": "python",
   "nbconvert_exporter": "python",
   "pygments_lexer": "ipython2",
   "version": "2.7.10"
  }
 },
 "nbformat": 4,
 "nbformat_minor": 0
}
