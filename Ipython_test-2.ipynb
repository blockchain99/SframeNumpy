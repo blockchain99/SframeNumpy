{
 "cells": [
  {
   "cell_type": "code",
   "execution_count": 1,
   "metadata": {
    "collapsed": false
   },
   "outputs": [],
   "source": [
    "import pandas as pd\n",
    "import numpy as np\n",
    "data = {i : np.random.randn() for i in range(7)}  \n",
    "data2 = {i : np.random.random()  for i in range(7)}  "
   ]
  },
  {
   "cell_type": "code",
   "execution_count": 1,
   "metadata": {
    "collapsed": false
   },
   "outputs": [],
   "source": [
    "#!pip uninstall ipdb"
   ]
  },
  {
   "cell_type": "code",
   "execution_count": 2,
   "metadata": {
    "collapsed": false
   },
   "outputs": [
    {
     "name": "stdout",
     "output_type": "stream",
     "text": [
      "Collecting pytest-ipynb\n",
      "  Downloading pytest-ipynb-1.1.0.tar.gz\n",
      "Requirement already satisfied (use --upgrade to upgrade): pytest in c:\\anaconda2\\envs\\dato-env\\lib\\site-packages (from pytest-ipynb)\n",
      "Requirement already satisfied (use --upgrade to upgrade): runipy in c:\\anaconda2\\envs\\dato-env\\lib\\site-packages (from pytest-ipynb)\n",
      "Requirement already satisfied (use --upgrade to upgrade): py>=1.4.25 in c:\\anaconda2\\envs\\dato-env\\lib\\site-packages (from pytest->pytest-ipynb)\n",
      "Requirement already satisfied (use --upgrade to upgrade): colorama in c:\\anaconda2\\envs\\dato-env\\lib\\site-packages (from pytest->pytest-ipynb)\n",
      "Requirement already satisfied (use --upgrade to upgrade): Jinja2>=2.7.2 in c:\\anaconda2\\envs\\dato-env\\lib\\site-packages (from runipy->pytest-ipynb)\n",
      "Requirement already satisfied (use --upgrade to upgrade): Pygments>=1.6 in c:\\anaconda2\\envs\\dato-env\\lib\\site-packages (from runipy->pytest-ipynb)\n",
      "Requirement already satisfied (use --upgrade to upgrade): ipython>=2.3.1 in c:\\anaconda2\\envs\\dato-env\\lib\\site-packages (from runipy->pytest-ipynb)\n",
      "Requirement already satisfied (use --upgrade to upgrade): pyzmq>=14.1.0 in c:\\anaconda2\\envs\\dato-env\\lib\\site-packages (from runipy->pytest-ipynb)\n",
      "Building wheels for collected packages: pytest-ipynb\n",
      "  Running setup.py bdist_wheel for pytest-ipynb: started\n",
      "  Running setup.py bdist_wheel for pytest-ipynb: finished with status 'done'\n",
      "  Stored in directory: C:\\Users\\Gloria\\AppData\\Local\\pip\\Cache\\wheels\\ed\\72\\7c\\c738a497f7c69bd3f2cb68b12ddc75e1df77154b3cbe8c7791\n",
      "Successfully built pytest-ipynb\n",
      "Installing collected packages: pytest-ipynb\n",
      "Successfully installed pytest-ipynb-1.1.0\n"
     ]
    },
    {
     "name": "stderr",
     "output_type": "stream",
     "text": [
      "You are using pip version 8.0.3, however version 8.1.1 is available.\n",
      "You should consider upgrading via the 'python -m pip install --upgrade pip' command.\n"
     ]
    }
   ],
   "source": [
    "#!pip install pytest-ipynb   #successfully installed."
   ]
  },
  {
   "cell_type": "code",
   "execution_count": 3,
   "metadata": {
    "collapsed": false
   },
   "outputs": [
    {
     "name": "stdout",
     "output_type": "stream",
     "text": [
      "{0: -0.47142304731685764, 1: 0.8199258230979946, 2: 0.4289060180850126, 3: 1.8635575325377447, 4: -0.3140435305924606, 5: 0.4076096638839814, 6: -0.7968176450564068}\n"
     ]
    }
   ],
   "source": [
    "print data"
   ]
  },
  {
   "cell_type": "code",
   "execution_count": 4,
   "metadata": {
    "collapsed": false
   },
   "outputs": [
    {
     "name": "stdout",
     "output_type": "stream",
     "text": [
      "{0: 0.030832244086180682, 1: 0.5091860817630179, 2: 0.6788181182312101, 3: 0.281415076354798, 4: 0.07148457904561678, 5: 0.1673455350174594, 6: 0.9121778106831748}\n"
     ]
    }
   ],
   "source": [
    "print data2"
   ]
  },
  {
   "cell_type": "code",
   "execution_count": 5,
   "metadata": {
    "collapsed": true
   },
   "outputs": [],
   "source": [
    "b = [1,2,3]"
   ]
  },
  {
   "cell_type": "code",
   "execution_count": 6,
   "metadata": {
    "collapsed": false
   },
   "outputs": [],
   "source": [
    "#b?  #geral information for object"
   ]
  },
  {
   "cell_type": "code",
   "execution_count": 7,
   "metadata": {
    "collapsed": true
   },
   "outputs": [],
   "source": [
    "def add_list_to_new_list(num):\n",
    "    num_list = []\n",
    "    for i in num:\n",
    "        num_list.append(i)+1\n",
    "    return num_list"
   ]
  },
  {
   "cell_type": "code",
   "execution_count": 8,
   "metadata": {
    "collapsed": false
   },
   "outputs": [],
   "source": [
    "#add_list_to_new_list?? #show source code"
   ]
  },
  {
   "cell_type": "code",
   "execution_count": 9,
   "metadata": {
    "collapsed": true
   },
   "outputs": [],
   "source": [
    "%run??"
   ]
  },
  {
   "cell_type": "code",
   "execution_count": 10,
   "metadata": {
    "collapsed": false
   },
   "outputs": [],
   "source": [
    "#%run test_cut_paste.ipynb  #run existing .ipynb code "
   ]
  },
  {
   "cell_type": "code",
   "execution_count": 11,
   "metadata": {
    "collapsed": false
   },
   "outputs": [
    {
     "name": "stdout",
     "output_type": "stream",
     "text": [
      "0     5\n",
      "1     7\n",
      "2     9\n",
      "3    11\n",
      "dtype: int64\n"
     ]
    }
   ],
   "source": [
    "%run test.py   #run exising .py code"
   ]
  },
  {
   "cell_type": "code",
   "execution_count": 12,
   "metadata": {
    "collapsed": false
   },
   "outputs": [
    {
     "data": {
      "text/plain": [
       "[4, 5, 6, 7]"
      ]
     },
     "execution_count": 12,
     "metadata": {},
     "output_type": "execute_result"
    }
   ],
   "source": [
    "a"
   ]
  },
  {
   "cell_type": "code",
   "execution_count": 13,
   "metadata": {
    "collapsed": false
   },
   "outputs": [
    {
     "data": {
      "text/plain": [
       "0     5\n",
       "1     7\n",
       "2     9\n",
       "3    11\n",
       "dtype: int64"
      ]
     },
     "execution_count": 13,
     "metadata": {},
     "output_type": "execute_result"
    }
   ],
   "source": [
    "#after %run xx.py code, can use variables declared in xx.py by calling: such as a, result\n",
    "#test.py is asf\n",
    "\n",
    "# import pandas as pd\n",
    "# import numpy as np\n",
    "\n",
    "# def add_number(num_l):\n",
    "#     num_list = []\n",
    "#     pd_s = pd.Series([1,2,3,4])\n",
    "#     for ele in num_l:\n",
    "#         num_list.append(ele)\n",
    "#     pd_new = pd.Series(num_list)\n",
    "#     result = pd_s + pd_new\n",
    "#     return result\n",
    "\n",
    "# a=[4,5,6,7]\n",
    "#result= add_number(a)\n",
    "#print result\n",
    "\n",
    "result"
   ]
  },
  {
   "cell_type": "code",
   "execution_count": 14,
   "metadata": {
    "collapsed": true
   },
   "outputs": [],
   "source": [
    "np.*load*?"
   ]
  },
  {
   "cell_type": "code",
   "execution_count": 15,
   "metadata": {
    "collapsed": true
   },
   "outputs": [],
   "source": [
    "x=5\n",
    "y=7\n",
    "if x>5:\n",
    "    x+=1\n",
    "    \n",
    "    y=8"
   ]
  },
  {
   "cell_type": "code",
   "execution_count": 32,
   "metadata": {
    "collapsed": false
   },
   "outputs": [
    {
     "name": "stdout",
     "output_type": "stream",
     "text": [
      "> \u001b[1;32m<ipython-input-7-af9796da724f>\u001b[0m(4)\u001b[0;36madd_list_to_new_list\u001b[1;34m()\u001b[0m\n",
      "\u001b[1;32m      3 \u001b[1;33m    \u001b[1;32mfor\u001b[0m \u001b[0mi\u001b[0m \u001b[1;32min\u001b[0m \u001b[0mnum\u001b[0m\u001b[1;33m:\u001b[0m\u001b[1;33m\u001b[0m\u001b[0m\n",
      "\u001b[0m\u001b[1;32m----> 4 \u001b[1;33m        \u001b[0mnum_list\u001b[0m\u001b[1;33m.\u001b[0m\u001b[0mappend\u001b[0m\u001b[1;33m(\u001b[0m\u001b[0mi\u001b[0m\u001b[1;33m)\u001b[0m\u001b[1;33m+\u001b[0m\u001b[1;36m1\u001b[0m\u001b[1;33m\u001b[0m\u001b[0m\n",
      "\u001b[0m\u001b[1;32m      5 \u001b[1;33m    \u001b[1;32mreturn\u001b[0m \u001b[0mnum_list\u001b[0m\u001b[1;33m\u001b[0m\u001b[0m\n",
      "\u001b[0m\n",
      "ipdb> l\n",
      "\u001b[0;32m      1 \u001b[0m\u001b[1;32mdef\u001b[0m \u001b[0madd_list_to_new_list\u001b[0m\u001b[1;33m(\u001b[0m\u001b[0mnum\u001b[0m\u001b[1;33m)\u001b[0m\u001b[1;33m:\u001b[0m\u001b[1;33m\u001b[0m\u001b[0m\n",
      "\u001b[0;32m      2 \u001b[0m    \u001b[0mnum_list\u001b[0m \u001b[1;33m=\u001b[0m \u001b[1;33m[\u001b[0m\u001b[1;33m]\u001b[0m\u001b[1;33m\u001b[0m\u001b[0m\n",
      "\u001b[0;32m      3 \u001b[0m    \u001b[1;32mfor\u001b[0m \u001b[0mi\u001b[0m \u001b[1;32min\u001b[0m \u001b[0mnum\u001b[0m\u001b[1;33m:\u001b[0m\u001b[1;33m\u001b[0m\u001b[0m\n",
      "\u001b[1;32m----> 4 \u001b[1;33m        \u001b[0mnum_list\u001b[0m\u001b[1;33m.\u001b[0m\u001b[0mappend\u001b[0m\u001b[1;33m(\u001b[0m\u001b[0mi\u001b[0m\u001b[1;33m)\u001b[0m\u001b[1;33m+\u001b[0m\u001b[1;36m1\u001b[0m\u001b[1;33m\u001b[0m\u001b[0m\n",
      "\u001b[0m\u001b[0;32m      5 \u001b[0m    \u001b[1;32mreturn\u001b[0m \u001b[0mnum_list\u001b[0m\u001b[1;33m\u001b[0m\u001b[0m\n",
      "\n",
      "ipdb> pp\n",
      "*** SyntaxError: SyntaxError('unexpected EOF while parsing', ('<string>', 0, 0, ''))\n",
      "ipdb> pp locals()\n",
      "{'i': 4, 'num': [4, 5, 6, 7], 'num_list': [4]}\n",
      "ipdb> quit\n"
     ]
    }
   ],
   "source": [
    "%debug"
   ]
  },
  {
   "cell_type": "code",
   "execution_count": 31,
   "metadata": {
    "collapsed": false
   },
   "outputs": [
    {
     "name": "stdout",
     "output_type": "stream",
     "text": [
      "Incorrect argument. Use on/1, off/0, or nothing for a toggle.\n"
     ]
    }
   ],
   "source": [
    "%pdb on  #Automatic pdb calling has been turned ON >>ipdb is shown when error occurrs. "
   ]
  },
  {
   "cell_type": "code",
   "execution_count": 27,
   "metadata": {
    "collapsed": true
   },
   "outputs": [],
   "source": [
    "x=5\n",
    "y=7\n",
    "if x>5:\n",
    "    x+=1\n",
    "    \n",
    "    y=8"
   ]
  },
  {
   "cell_type": "code",
   "execution_count": 28,
   "metadata": {
    "collapsed": false
   },
   "outputs": [
    {
     "ename": "TypeError",
     "evalue": "unsupported operand type(s) for +: 'NoneType' and 'int'",
     "output_type": "error",
     "traceback": [
      "\u001b[1;31m---------------------------------------------------------------------------\u001b[0m",
      "\u001b[1;31mTypeError\u001b[0m                                 Traceback (most recent call last)",
      "\u001b[1;32m<ipython-input-28-924e9b5f64ba>\u001b[0m in \u001b[0;36m<module>\u001b[1;34m()\u001b[0m\n\u001b[1;32m----> 1\u001b[1;33m \u001b[0madd_list_to_new_list\u001b[0m\u001b[1;33m(\u001b[0m\u001b[0ma\u001b[0m\u001b[1;33m)\u001b[0m\u001b[1;33m\u001b[0m\u001b[0m\n\u001b[0m\u001b[0;32m      2\u001b[0m \u001b[1;31m#ipdb> n,s,c,l,p(pp),a,j\u001b[0m\u001b[1;33m\u001b[0m\u001b[1;33m\u001b[0m\u001b[0m\n\u001b[0;32m      3\u001b[0m \u001b[1;31m# n[ext] line\u001b[0m\u001b[1;33m\u001b[0m\u001b[1;33m\u001b[0m\u001b[0m\n\u001b[0;32m      4\u001b[0m \u001b[1;31m# s[tep] :“step into” for tunneling into a function or method\u001b[0m\u001b[1;33m\u001b[0m\u001b[1;33m\u001b[0m\u001b[0m\n\u001b[0;32m      5\u001b[0m \u001b[1;31m# c[ontinue] : execution until another breakpoint is hit\u001b[0m\u001b[1;33m\u001b[0m\u001b[1;33m\u001b[0m\u001b[0m\n",
      "\u001b[1;32m<ipython-input-7-af9796da724f>\u001b[0m in \u001b[0;36madd_list_to_new_list\u001b[1;34m(num)\u001b[0m\n\u001b[0;32m      2\u001b[0m     \u001b[0mnum_list\u001b[0m \u001b[1;33m=\u001b[0m \u001b[1;33m[\u001b[0m\u001b[1;33m]\u001b[0m\u001b[1;33m\u001b[0m\u001b[0m\n\u001b[0;32m      3\u001b[0m     \u001b[1;32mfor\u001b[0m \u001b[0mi\u001b[0m \u001b[1;32min\u001b[0m \u001b[0mnum\u001b[0m\u001b[1;33m:\u001b[0m\u001b[1;33m\u001b[0m\u001b[0m\n\u001b[1;32m----> 4\u001b[1;33m         \u001b[0mnum_list\u001b[0m\u001b[1;33m.\u001b[0m\u001b[0mappend\u001b[0m\u001b[1;33m(\u001b[0m\u001b[0mi\u001b[0m\u001b[1;33m)\u001b[0m\u001b[1;33m+\u001b[0m\u001b[1;36m1\u001b[0m\u001b[1;33m\u001b[0m\u001b[0m\n\u001b[0m\u001b[0;32m      5\u001b[0m     \u001b[1;32mreturn\u001b[0m \u001b[0mnum_list\u001b[0m\u001b[1;33m\u001b[0m\u001b[0m\n",
      "\u001b[1;31mTypeError\u001b[0m: unsupported operand type(s) for +: 'NoneType' and 'int'"
     ]
    }
   ],
   "source": [
    "add_list_to_new_list(a)\n",
    "#ipdb> n,s,c,l,p(pp),a,j\n",
    "# n[ext] line\n",
    "# s[tep] :“step into” for tunneling into a function or method\n",
    "# c[ontinue] : execution until another breakpoint is hit\n",
    "# l[ist] [first[, last]]\n",
    "# pp locals(), pp globals() : quick glance at all the objects your program has access to at that moment.  ### important !!!\n",
    "# a[rgment] : prints out all the arguments the current function received\n",
    "# j[ump] line_number : jump to the given line of code, actually skipping the execution of anything between."
   ]
  },
  {
   "cell_type": "code",
   "execution_count": 29,
   "metadata": {
    "collapsed": false
   },
   "outputs": [
    {
     "ename": "SyntaxError",
     "evalue": "invalid syntax (<ipython-input-29-e06929374e58>, line 2)",
     "output_type": "error",
     "traceback": [
      "\u001b[1;36m  File \u001b[1;32m\"<ipython-input-29-e06929374e58>\"\u001b[1;36m, line \u001b[1;32m2\u001b[0m\n\u001b[1;33m    def get_response_naively(url, params)\u001b[0m\n\u001b[1;37m                                         ^\u001b[0m\n\u001b[1;31mSyntaxError\u001b[0m\u001b[1;31m:\u001b[0m invalid syntax\n"
     ]
    }
   ],
   "source": [
    "import ipdb; ipdb.set_trace()\n",
    "def get_response_naively(url, params)\n",
    "    import ipdb; ipdb.set_trace()  # <--- *BAMF!*\n",
    "    response = requests.get(url, params=params)\n",
    "    if response.status_code != 200:\n",
    "        raise SomeException(\"Failed to reach {} - Status code {}\".format(url, response.status_code))\n",
    "    return response"
   ]
  },
  {
   "cell_type": "code",
   "execution_count": 2,
   "metadata": {
    "collapsed": true
   },
   "outputs": [],
   "source": [
    "class Pizza(object):\n",
    "    def __init__(self, size):\n",
    "        self.size = size\n",
    "    def get_size(self):\n",
    "        return self.size\n"
   ]
  },
  {
   "cell_type": "code",
   "execution_count": 3,
   "metadata": {
    "collapsed": false
   },
   "outputs": [
    {
     "data": {
      "text/plain": [
       "<unbound method Pizza.get_size>"
      ]
     },
     "execution_count": 3,
     "metadata": {},
     "output_type": "execute_result"
    }
   ],
   "source": [
    "Pizza.get_size"
   ]
  },
  {
   "cell_type": "code",
   "execution_count": 4,
   "metadata": {
    "collapsed": false
   },
   "outputs": [
    {
     "ename": "TypeError",
     "evalue": "unbound method get_size() must be called with Pizza instance as first argument (got nothing instead)",
     "output_type": "error",
     "traceback": [
      "\u001b[1;31m---------------------------------------------------------------------------\u001b[0m",
      "\u001b[1;31mTypeError\u001b[0m                                 Traceback (most recent call last)",
      "\u001b[1;32m<ipython-input-4-65dcef60aa06>\u001b[0m in \u001b[0;36m<module>\u001b[1;34m()\u001b[0m\n\u001b[1;32m----> 1\u001b[1;33m \u001b[0mPizza\u001b[0m\u001b[1;33m.\u001b[0m\u001b[0mget_size\u001b[0m\u001b[1;33m(\u001b[0m\u001b[1;33m)\u001b[0m\u001b[1;33m\u001b[0m\u001b[0m\n\u001b[0m",
      "\u001b[1;31mTypeError\u001b[0m: unbound method get_size() must be called with Pizza instance as first argument (got nothing instead)"
     ]
    }
   ],
   "source": [
    "Pizza.get_size()"
   ]
  },
  {
   "cell_type": "code",
   "execution_count": 10,
   "metadata": {
    "collapsed": false
   },
   "outputs": [
    {
     "name": "stdout",
     "output_type": "stream",
     "text": [
      "10\n"
     ]
    }
   ],
   "source": [
    "pz = Pizza(10)    #instance_name = Class(xx)  class declaration\n",
    "print pz.get_size()\n",
    "# print pz"
   ]
  },
  {
   "cell_type": "code",
   "execution_count": 12,
   "metadata": {
    "collapsed": true
   },
   "outputs": [],
   "source": [
    "\n",
    "%quickref"
   ]
  },
  {
   "cell_type": "code",
   "execution_count": 13,
   "metadata": {
    "collapsed": true
   },
   "outputs": [],
   "source": [
    "%magic"
   ]
  },
  {
   "cell_type": "code",
   "execution_count": 14,
   "metadata": {
    "collapsed": true
   },
   "outputs": [],
   "source": [
    "%gui"
   ]
  },
  {
   "cell_type": "code",
   "execution_count": null,
   "metadata": {
    "collapsed": true
   },
   "outputs": [],
   "source": [
    "!cmd"
   ]
  },
  {
   "cell_type": "code",
   "execution_count": null,
   "metadata": {
    "collapsed": true
   },
   "outputs": [],
   "source": [
    "%dirs"
   ]
  },
  {
   "cell_type": "code",
   "execution_count": 7,
   "metadata": {
    "collapsed": false
   },
   "outputs": [
    {
     "name": "stdout",
     "output_type": "stream",
     "text": [
      "[Error 2] The system cannot find the file specified: u'directory'\n",
      "C:\\Users\\Gloria\\ML\\SFrame Numpy Ipython\n"
     ]
    }
   ],
   "source": [
    "%cd directory"
   ]
  },
  {
   "cell_type": "code",
   "execution_count": null,
   "metadata": {
    "collapsed": true
   },
   "outputs": [],
   "source": [
    "#%load filename.py  #load python file:  will be loaded in the next cell\n",
    "#To save the cell content back into a file add the cell-magic %%writefile filename.py at the beginning of the cell and run it. \n",
    "#but same name already exist, just overwrite!(be cautious !!!)  : for append %%writefile -a filename.py"
   ]
  },
  {
   "cell_type": "code",
   "execution_count": 13,
   "metadata": {
    "collapsed": false
   },
   "outputs": [
    {
     "name": "stdout",
     "output_type": "stream",
     "text": [
      "Overwriting test_writefile.py\n"
     ]
    }
   ],
   "source": [
    "%%writefile test_writefile.py   \n",
    "class Calculate(object):\n",
    "    def add(self, x, y):\n",
    "        return x + y\n",
    "if __name__ == '__main__':\n",
    "    calc = Calculate()\n",
    "    result = calc.add(2, 2)\n",
    "    print result"
   ]
  },
  {
   "cell_type": "code",
   "execution_count": null,
   "metadata": {
    "collapsed": true
   },
   "outputs": [],
   "source": [
    "# %run test_writefile.py : not result shown.\n",
    "#!python test_writefile.py : result shown:succeed!!\n",
    "#!python -version : python version check"
   ]
  },
  {
   "cell_type": "raw",
   "metadata": {},
   "source": [
    "%run test_writefile.py  "
   ]
  },
  {
   "cell_type": "code",
   "execution_count": 12,
   "metadata": {
    "collapsed": false
   },
   "outputs": [
    {
     "name": "stdout",
     "output_type": "stream",
     "text": [
      "4\n"
     ]
    }
   ],
   "source": [
    "!python test_writefile.py"
   ]
  },
  {
   "cell_type": "code",
   "execution_count": 16,
   "metadata": {
    "collapsed": false
   },
   "outputs": [],
   "source": [
    "%%writefile?"
   ]
  },
  {
   "cell_type": "code",
   "execution_count": 17,
   "metadata": {
    "collapsed": false
   },
   "outputs": [
    {
     "name": "stdout",
     "output_type": "stream",
     "text": [
      "Overwriting calculate.py\n"
     ]
    }
   ],
   "source": [
    "%%writefile calculate.py\n",
    "class Calculate(object):\n",
    "    def add(self, x, y):\n",
    "        return x + y\n",
    "if __name__ == '__main__':\n",
    "    calc = Calculate()\n",
    "    result = calc.add(2, 2)\n",
    "    print result"
   ]
  },
  {
   "cell_type": "code",
   "execution_count": 22,
   "metadata": {
    "collapsed": false
   },
   "outputs": [
    {
     "name": "stdout",
     "output_type": "stream",
     "text": [
      "Overwriting calculate_test.py\n"
     ]
    }
   ],
   "source": [
    "%%writefile calculate_test.py\n",
    "import unittest\n",
    "from calculate import Calculate\n",
    "\n",
    "class TestCalculate(unittest.TestCase):\n",
    "    def setUp(self):\n",
    "        self.calc = Calculate()\n",
    "    def test_add_method_returns_correct_result(self):\n",
    "        #self.assertEqual(4, self.calc.add(2,2))\n",
    "        self.assertEqual(4, self.calc.add(2,3))\n",
    "if __name__ == '__main__':\n",
    "    unittest.main()   \n",
    "    "
   ]
  },
  {
   "cell_type": "code",
   "execution_count": 23,
   "metadata": {
    "collapsed": false
   },
   "outputs": [
    {
     "name": "stderr",
     "output_type": "stream",
     "text": [
      "F\n",
      "======================================================================\n",
      "FAIL: test_add_method_returns_correct_result (__main__.TestCalculate)\n",
      "----------------------------------------------------------------------\n",
      "Traceback (most recent call last):\n",
      "  File \"calculate_test.py\", line 9, in test_add_method_returns_correct_result\n",
      "    self.assertEqual(4, self.calc.add(2,3))\n",
      "AssertionError: 4 != 5\n",
      "\n",
      "----------------------------------------------------------------------\n",
      "Ran 1 test in 0.000s\n",
      "\n",
      "FAILED (failures=1)\n"
     ]
    }
   ],
   "source": [
    "!python calculate_test.py"
   ]
  },
  {
   "cell_type": "code",
   "execution_count": null,
   "metadata": {
    "collapsed": true
   },
   "outputs": [],
   "source": [
    "#list (which consists of key:value) to dictionary conversion\n",
    "dict = {k:v for k,v in (x.split(':') for x in list) }\n",
    "\n",
    "#If you want the conversion to int, you can replace k:v with int(k):int(v)"
   ]
  }
 ],
 "metadata": {
  "kernelspec": {
   "display_name": "Python 2",
   "language": "python",
   "name": "python2"
  },
  "language_info": {
   "codemirror_mode": {
    "name": "ipython",
    "version": 2
   },
   "file_extension": ".py",
   "mimetype": "text/x-python",
   "name": "python",
   "nbconvert_exporter": "python",
   "pygments_lexer": "ipython2",
   "version": "2.7.10"
  }
 },
 "nbformat": 4,
 "nbformat_minor": 0
}
