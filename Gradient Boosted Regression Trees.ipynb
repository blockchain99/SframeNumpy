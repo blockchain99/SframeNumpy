{
 "cells": [
  {
   "cell_type": "code",
   "execution_count": 34,
   "metadata": {
    "collapsed": false
   },
   "outputs": [
    {
     "data": {
      "text/html": [
       "<pre>Finished parsing file http://s3.amazonaws.com/gl-testdata/xgboost/mushroom.csv</pre>"
      ],
      "text/plain": [
       "Finished parsing file http://s3.amazonaws.com/gl-testdata/xgboost/mushroom.csv"
      ]
     },
     "metadata": {},
     "output_type": "display_data"
    },
    {
     "data": {
      "text/html": [
       "<pre>Parsing completed. Parsed 100 lines in 0.13891 secs.</pre>"
      ],
      "text/plain": [
       "Parsing completed. Parsed 100 lines in 0.13891 secs."
      ]
     },
     "metadata": {},
     "output_type": "display_data"
    },
    {
     "data": {
      "text/html": [
       "<pre>Finished parsing file http://s3.amazonaws.com/gl-testdata/xgboost/mushroom.csv</pre>"
      ],
      "text/plain": [
       "Finished parsing file http://s3.amazonaws.com/gl-testdata/xgboost/mushroom.csv"
      ]
     },
     "metadata": {},
     "output_type": "display_data"
    },
    {
     "data": {
      "text/html": [
       "<pre>Parsing completed. Parsed 8124 lines in 0.08166 secs.</pre>"
      ],
      "text/plain": [
       "Parsing completed. Parsed 8124 lines in 0.08166 secs."
      ]
     },
     "metadata": {},
     "output_type": "display_data"
    },
    {
     "name": "stdout",
     "output_type": "stream",
     "text": [
      "------------------------------------------------------\n",
      "Inferred types from first line of file as \n",
      "column_type_hints=[str,str,str,str,str,str,str,str,str,str,str,str,str,str,str,str,str,str,str,str,str,str,str]\n",
      "If parsing fails due to incorrect types, you can correct\n",
      "the inferred type list above and pass it to read_csv in\n",
      "the column_type_hints argument\n",
      "------------------------------------------------------\n",
      "PROGRESS: Creating a validation set from 5 percent of training data. This may take a while.\n",
      "          You can set ``validation_set=None`` to disable validation tracking.\n"
     ]
    },
    {
     "data": {
      "text/html": [
       "<pre>WARNING: Detected extremely low variance for feature(s) 'veil-type' because all entries are nearly the same.\n",
       "Proceeding with model training using all features. If the model does not provide results of adequate quality, exclude the above mentioned feature(s) from the input dataset.</pre>"
      ],
      "text/plain": [
       "WARNING: Detected extremely low variance for feature(s) 'veil-type' because all entries are nearly the same.\n",
       "Proceeding with model training using all features. If the model does not provide results of adequate quality, exclude the above mentioned feature(s) from the input dataset."
      ]
     },
     "metadata": {},
     "output_type": "display_data"
    },
    {
     "data": {
      "text/html": [
       "<pre>Boosted trees regression:</pre>"
      ],
      "text/plain": [
       "Boosted trees regression:"
      ]
     },
     "metadata": {},
     "output_type": "display_data"
    },
    {
     "data": {
      "text/html": [
       "<pre>--------------------------------------------------------</pre>"
      ],
      "text/plain": [
       "--------------------------------------------------------"
      ]
     },
     "metadata": {},
     "output_type": "display_data"
    },
    {
     "data": {
      "text/html": [
       "<pre>Number of examples          : 6148</pre>"
      ],
      "text/plain": [
       "Number of examples          : 6148"
      ]
     },
     "metadata": {},
     "output_type": "display_data"
    },
    {
     "data": {
      "text/html": [
       "<pre>Number of features          : 22</pre>"
      ],
      "text/plain": [
       "Number of features          : 22"
      ]
     },
     "metadata": {},
     "output_type": "display_data"
    },
    {
     "data": {
      "text/html": [
       "<pre>Number of unpacked features : 22</pre>"
      ],
      "text/plain": [
       "Number of unpacked features : 22"
      ]
     },
     "metadata": {},
     "output_type": "display_data"
    },
    {
     "data": {
      "text/html": [
       "<pre>+-----------+--------------+--------------------+---------------+----------------------+-----------------+</pre>"
      ],
      "text/plain": [
       "+-----------+--------------+--------------------+---------------+----------------------+-----------------+"
      ]
     },
     "metadata": {},
     "output_type": "display_data"
    },
    {
     "data": {
      "text/html": [
       "<pre>| Iteration | Elapsed Time | Training-max_error | Training-rmse | Validation-max_error | Validation-rmse |</pre>"
      ],
      "text/plain": [
       "| Iteration | Elapsed Time | Training-max_error | Training-rmse | Validation-max_error | Validation-rmse |"
      ]
     },
     "metadata": {},
     "output_type": "display_data"
    },
    {
     "data": {
      "text/html": [
       "<pre>+-----------+--------------+--------------------+---------------+----------------------+-----------------+</pre>"
      ],
      "text/plain": [
       "+-----------+--------------+--------------------+---------------+----------------------+-----------------+"
      ]
     },
     "metadata": {},
     "output_type": "display_data"
    },
    {
     "data": {
      "text/html": [
       "<pre>| 1         | 0.064967     | 0.649122           | 0.359702      | 0.643053             | 0.359944        |</pre>"
      ],
      "text/plain": [
       "| 1         | 0.064967     | 0.649122           | 0.359702      | 0.643053             | 0.359944        |"
      ]
     },
     "metadata": {},
     "output_type": "display_data"
    },
    {
     "data": {
      "text/html": [
       "<pre>| 2         | 0.076972     | 0.75274            | 0.267941      | 0.581441             | 0.267385        |</pre>"
      ],
      "text/plain": [
       "| 2         | 0.076972     | 0.75274            | 0.267941      | 0.581441             | 0.267385        |"
      ]
     },
     "metadata": {},
     "output_type": "display_data"
    },
    {
     "data": {
      "text/html": [
       "<pre>+-----------+--------------+--------------------+---------------+----------------------+-----------------+</pre>"
      ],
      "text/plain": [
       "+-----------+--------------+--------------------+---------------+----------------------+-----------------+"
      ]
     },
     "metadata": {},
     "output_type": "display_data"
    },
    {
     "name": "stdout",
     "output_type": "stream",
     "text": [
      "\n"
     ]
    }
   ],
   "source": [
    "import graphlab as gl\n",
    "\n",
    "# Load the data\n",
    "data =  gl.SFrame.read_csv('http://s3.amazonaws.com/gl-testdata/xgboost/mushroom.csv')\n",
    "\n",
    "# Label 'p' is edible\n",
    "data['label'] = data['label'] == 'p'   # if data's column 'label' is 'p' then set this column to 1, else 0\n",
    "\n",
    "# Make a train-test split\n",
    "train_data, validation_data = data.random_split(.8, seed=1)\n",
    "\n",
    "# Create a model.\n",
    "model = gl.boosted_trees_regression.create(train_data, target='label',\n",
    "                                           max_iterations=2,\n",
    "                                           max_depth =  3)\n",
    "\n",
    "# Save predictions to an SArray\n",
    "predictions = model.predict(validation_data)\n",
    "\n",
    "# Evaluate the model and save the results into a dictionary\n",
    "results = model.evaluate(validation_data)"
   ]
  },
  {
   "cell_type": "code",
   "execution_count": 35,
   "metadata": {
    "collapsed": false
   },
   "outputs": [
    {
     "data": {
      "text/html": [
       "<div style=\"max-height:1000px;max-width:1500px;overflow:auto;\"><table frame=\"box\" rules=\"cols\">\n",
       "    <tr>\n",
       "        <th style=\"padding-left: 1em; padding-right: 1em; text-align: center\">label</th>\n",
       "        <th style=\"padding-left: 1em; padding-right: 1em; text-align: center\">cap-shape</th>\n",
       "        <th style=\"padding-left: 1em; padding-right: 1em; text-align: center\">cap-surface</th>\n",
       "        <th style=\"padding-left: 1em; padding-right: 1em; text-align: center\">cap-color</th>\n",
       "        <th style=\"padding-left: 1em; padding-right: 1em; text-align: center\">bruises?</th>\n",
       "        <th style=\"padding-left: 1em; padding-right: 1em; text-align: center\">odor</th>\n",
       "        <th style=\"padding-left: 1em; padding-right: 1em; text-align: center\">gill-attachment</th>\n",
       "        <th style=\"padding-left: 1em; padding-right: 1em; text-align: center\">gill-spacing</th>\n",
       "        <th style=\"padding-left: 1em; padding-right: 1em; text-align: center\">gill-size</th>\n",
       "        <th style=\"padding-left: 1em; padding-right: 1em; text-align: center\">gill-color</th>\n",
       "    </tr>\n",
       "    <tr>\n",
       "        <td style=\"padding-left: 1em; padding-right: 1em; text-align: center; vertical-align: top\">0</td>\n",
       "        <td style=\"padding-left: 1em; padding-right: 1em; text-align: center; vertical-align: top\">x</td>\n",
       "        <td style=\"padding-left: 1em; padding-right: 1em; text-align: center; vertical-align: top\">s</td>\n",
       "        <td style=\"padding-left: 1em; padding-right: 1em; text-align: center; vertical-align: top\">n</td>\n",
       "        <td style=\"padding-left: 1em; padding-right: 1em; text-align: center; vertical-align: top\">t</td>\n",
       "        <td style=\"padding-left: 1em; padding-right: 1em; text-align: center; vertical-align: top\">p</td>\n",
       "        <td style=\"padding-left: 1em; padding-right: 1em; text-align: center; vertical-align: top\">f</td>\n",
       "        <td style=\"padding-left: 1em; padding-right: 1em; text-align: center; vertical-align: top\">c</td>\n",
       "        <td style=\"padding-left: 1em; padding-right: 1em; text-align: center; vertical-align: top\">n</td>\n",
       "        <td style=\"padding-left: 1em; padding-right: 1em; text-align: center; vertical-align: top\">k</td>\n",
       "    </tr>\n",
       "    <tr>\n",
       "        <td style=\"padding-left: 1em; padding-right: 1em; text-align: center; vertical-align: top\">1</td>\n",
       "        <td style=\"padding-left: 1em; padding-right: 1em; text-align: center; vertical-align: top\">x</td>\n",
       "        <td style=\"padding-left: 1em; padding-right: 1em; text-align: center; vertical-align: top\">s</td>\n",
       "        <td style=\"padding-left: 1em; padding-right: 1em; text-align: center; vertical-align: top\">y</td>\n",
       "        <td style=\"padding-left: 1em; padding-right: 1em; text-align: center; vertical-align: top\">t</td>\n",
       "        <td style=\"padding-left: 1em; padding-right: 1em; text-align: center; vertical-align: top\">a</td>\n",
       "        <td style=\"padding-left: 1em; padding-right: 1em; text-align: center; vertical-align: top\">f</td>\n",
       "        <td style=\"padding-left: 1em; padding-right: 1em; text-align: center; vertical-align: top\">c</td>\n",
       "        <td style=\"padding-left: 1em; padding-right: 1em; text-align: center; vertical-align: top\">b</td>\n",
       "        <td style=\"padding-left: 1em; padding-right: 1em; text-align: center; vertical-align: top\">k</td>\n",
       "    </tr>\n",
       "    <tr>\n",
       "        <td style=\"padding-left: 1em; padding-right: 1em; text-align: center; vertical-align: top\">1</td>\n",
       "        <td style=\"padding-left: 1em; padding-right: 1em; text-align: center; vertical-align: top\">b</td>\n",
       "        <td style=\"padding-left: 1em; padding-right: 1em; text-align: center; vertical-align: top\">s</td>\n",
       "        <td style=\"padding-left: 1em; padding-right: 1em; text-align: center; vertical-align: top\">w</td>\n",
       "        <td style=\"padding-left: 1em; padding-right: 1em; text-align: center; vertical-align: top\">t</td>\n",
       "        <td style=\"padding-left: 1em; padding-right: 1em; text-align: center; vertical-align: top\">l</td>\n",
       "        <td style=\"padding-left: 1em; padding-right: 1em; text-align: center; vertical-align: top\">f</td>\n",
       "        <td style=\"padding-left: 1em; padding-right: 1em; text-align: center; vertical-align: top\">c</td>\n",
       "        <td style=\"padding-left: 1em; padding-right: 1em; text-align: center; vertical-align: top\">b</td>\n",
       "        <td style=\"padding-left: 1em; padding-right: 1em; text-align: center; vertical-align: top\">n</td>\n",
       "    </tr>\n",
       "    <tr>\n",
       "        <td style=\"padding-left: 1em; padding-right: 1em; text-align: center; vertical-align: top\">0</td>\n",
       "        <td style=\"padding-left: 1em; padding-right: 1em; text-align: center; vertical-align: top\">x</td>\n",
       "        <td style=\"padding-left: 1em; padding-right: 1em; text-align: center; vertical-align: top\">y</td>\n",
       "        <td style=\"padding-left: 1em; padding-right: 1em; text-align: center; vertical-align: top\">w</td>\n",
       "        <td style=\"padding-left: 1em; padding-right: 1em; text-align: center; vertical-align: top\">t</td>\n",
       "        <td style=\"padding-left: 1em; padding-right: 1em; text-align: center; vertical-align: top\">p</td>\n",
       "        <td style=\"padding-left: 1em; padding-right: 1em; text-align: center; vertical-align: top\">f</td>\n",
       "        <td style=\"padding-left: 1em; padding-right: 1em; text-align: center; vertical-align: top\">c</td>\n",
       "        <td style=\"padding-left: 1em; padding-right: 1em; text-align: center; vertical-align: top\">n</td>\n",
       "        <td style=\"padding-left: 1em; padding-right: 1em; text-align: center; vertical-align: top\">n</td>\n",
       "    </tr>\n",
       "    <tr>\n",
       "        <td style=\"padding-left: 1em; padding-right: 1em; text-align: center; vertical-align: top\">1</td>\n",
       "        <td style=\"padding-left: 1em; padding-right: 1em; text-align: center; vertical-align: top\">x</td>\n",
       "        <td style=\"padding-left: 1em; padding-right: 1em; text-align: center; vertical-align: top\">s</td>\n",
       "        <td style=\"padding-left: 1em; padding-right: 1em; text-align: center; vertical-align: top\">g</td>\n",
       "        <td style=\"padding-left: 1em; padding-right: 1em; text-align: center; vertical-align: top\">f</td>\n",
       "        <td style=\"padding-left: 1em; padding-right: 1em; text-align: center; vertical-align: top\">n</td>\n",
       "        <td style=\"padding-left: 1em; padding-right: 1em; text-align: center; vertical-align: top\">f</td>\n",
       "        <td style=\"padding-left: 1em; padding-right: 1em; text-align: center; vertical-align: top\">w</td>\n",
       "        <td style=\"padding-left: 1em; padding-right: 1em; text-align: center; vertical-align: top\">b</td>\n",
       "        <td style=\"padding-left: 1em; padding-right: 1em; text-align: center; vertical-align: top\">k</td>\n",
       "    </tr>\n",
       "</table>\n",
       "<table frame=\"box\" rules=\"cols\">\n",
       "    <tr>\n",
       "        <th style=\"padding-left: 1em; padding-right: 1em; text-align: center\">stalk-shape</th>\n",
       "        <th style=\"padding-left: 1em; padding-right: 1em; text-align: center\">stalk-root</th>\n",
       "        <th style=\"padding-left: 1em; padding-right: 1em; text-align: center\">stalk-surface-above-ring</th>\n",
       "        <th style=\"padding-left: 1em; padding-right: 1em; text-align: center\">stalk-surface-below-ring</th>\n",
       "        <th style=\"padding-left: 1em; padding-right: 1em; text-align: center\">stalk-color-above-ring</th>\n",
       "        <th style=\"padding-left: 1em; padding-right: 1em; text-align: center\">stalk-color-below-ring</th>\n",
       "    </tr>\n",
       "    <tr>\n",
       "        <td style=\"padding-left: 1em; padding-right: 1em; text-align: center; vertical-align: top\">e</td>\n",
       "        <td style=\"padding-left: 1em; padding-right: 1em; text-align: center; vertical-align: top\">e</td>\n",
       "        <td style=\"padding-left: 1em; padding-right: 1em; text-align: center; vertical-align: top\">s</td>\n",
       "        <td style=\"padding-left: 1em; padding-right: 1em; text-align: center; vertical-align: top\">s</td>\n",
       "        <td style=\"padding-left: 1em; padding-right: 1em; text-align: center; vertical-align: top\">w</td>\n",
       "        <td style=\"padding-left: 1em; padding-right: 1em; text-align: center; vertical-align: top\">w</td>\n",
       "    </tr>\n",
       "    <tr>\n",
       "        <td style=\"padding-left: 1em; padding-right: 1em; text-align: center; vertical-align: top\">e</td>\n",
       "        <td style=\"padding-left: 1em; padding-right: 1em; text-align: center; vertical-align: top\">c</td>\n",
       "        <td style=\"padding-left: 1em; padding-right: 1em; text-align: center; vertical-align: top\">s</td>\n",
       "        <td style=\"padding-left: 1em; padding-right: 1em; text-align: center; vertical-align: top\">s</td>\n",
       "        <td style=\"padding-left: 1em; padding-right: 1em; text-align: center; vertical-align: top\">w</td>\n",
       "        <td style=\"padding-left: 1em; padding-right: 1em; text-align: center; vertical-align: top\">w</td>\n",
       "    </tr>\n",
       "    <tr>\n",
       "        <td style=\"padding-left: 1em; padding-right: 1em; text-align: center; vertical-align: top\">e</td>\n",
       "        <td style=\"padding-left: 1em; padding-right: 1em; text-align: center; vertical-align: top\">c</td>\n",
       "        <td style=\"padding-left: 1em; padding-right: 1em; text-align: center; vertical-align: top\">s</td>\n",
       "        <td style=\"padding-left: 1em; padding-right: 1em; text-align: center; vertical-align: top\">s</td>\n",
       "        <td style=\"padding-left: 1em; padding-right: 1em; text-align: center; vertical-align: top\">w</td>\n",
       "        <td style=\"padding-left: 1em; padding-right: 1em; text-align: center; vertical-align: top\">w</td>\n",
       "    </tr>\n",
       "    <tr>\n",
       "        <td style=\"padding-left: 1em; padding-right: 1em; text-align: center; vertical-align: top\">e</td>\n",
       "        <td style=\"padding-left: 1em; padding-right: 1em; text-align: center; vertical-align: top\">e</td>\n",
       "        <td style=\"padding-left: 1em; padding-right: 1em; text-align: center; vertical-align: top\">s</td>\n",
       "        <td style=\"padding-left: 1em; padding-right: 1em; text-align: center; vertical-align: top\">s</td>\n",
       "        <td style=\"padding-left: 1em; padding-right: 1em; text-align: center; vertical-align: top\">w</td>\n",
       "        <td style=\"padding-left: 1em; padding-right: 1em; text-align: center; vertical-align: top\">w</td>\n",
       "    </tr>\n",
       "    <tr>\n",
       "        <td style=\"padding-left: 1em; padding-right: 1em; text-align: center; vertical-align: top\">t</td>\n",
       "        <td style=\"padding-left: 1em; padding-right: 1em; text-align: center; vertical-align: top\">e</td>\n",
       "        <td style=\"padding-left: 1em; padding-right: 1em; text-align: center; vertical-align: top\">s</td>\n",
       "        <td style=\"padding-left: 1em; padding-right: 1em; text-align: center; vertical-align: top\">s</td>\n",
       "        <td style=\"padding-left: 1em; padding-right: 1em; text-align: center; vertical-align: top\">w</td>\n",
       "        <td style=\"padding-left: 1em; padding-right: 1em; text-align: center; vertical-align: top\">w</td>\n",
       "    </tr>\n",
       "</table>\n",
       "<table frame=\"box\" rules=\"cols\">\n",
       "    <tr>\n",
       "        <th style=\"padding-left: 1em; padding-right: 1em; text-align: center\">veil-color</th>\n",
       "        <th style=\"padding-left: 1em; padding-right: 1em; text-align: center\">ring-number</th>\n",
       "        <th style=\"padding-left: 1em; padding-right: 1em; text-align: center\">ring-type</th>\n",
       "        <th style=\"padding-left: 1em; padding-right: 1em; text-align: center\">spore-print-color</th>\n",
       "        <th style=\"padding-left: 1em; padding-right: 1em; text-align: center\">population</th>\n",
       "        <th style=\"padding-left: 1em; padding-right: 1em; text-align: center\">habitat</th>\n",
       "        <th style=\"padding-left: 1em; padding-right: 1em; text-align: center\">veil-type</th>\n",
       "    </tr>\n",
       "    <tr>\n",
       "        <td style=\"padding-left: 1em; padding-right: 1em; text-align: center; vertical-align: top\">w</td>\n",
       "        <td style=\"padding-left: 1em; padding-right: 1em; text-align: center; vertical-align: top\">o</td>\n",
       "        <td style=\"padding-left: 1em; padding-right: 1em; text-align: center; vertical-align: top\">p</td>\n",
       "        <td style=\"padding-left: 1em; padding-right: 1em; text-align: center; vertical-align: top\">k</td>\n",
       "        <td style=\"padding-left: 1em; padding-right: 1em; text-align: center; vertical-align: top\">s</td>\n",
       "        <td style=\"padding-left: 1em; padding-right: 1em; text-align: center; vertical-align: top\">u</td>\n",
       "        <td style=\"padding-left: 1em; padding-right: 1em; text-align: center; vertical-align: top\">p</td>\n",
       "    </tr>\n",
       "    <tr>\n",
       "        <td style=\"padding-left: 1em; padding-right: 1em; text-align: center; vertical-align: top\">w</td>\n",
       "        <td style=\"padding-left: 1em; padding-right: 1em; text-align: center; vertical-align: top\">o</td>\n",
       "        <td style=\"padding-left: 1em; padding-right: 1em; text-align: center; vertical-align: top\">p</td>\n",
       "        <td style=\"padding-left: 1em; padding-right: 1em; text-align: center; vertical-align: top\">n</td>\n",
       "        <td style=\"padding-left: 1em; padding-right: 1em; text-align: center; vertical-align: top\">n</td>\n",
       "        <td style=\"padding-left: 1em; padding-right: 1em; text-align: center; vertical-align: top\">g</td>\n",
       "        <td style=\"padding-left: 1em; padding-right: 1em; text-align: center; vertical-align: top\">p</td>\n",
       "    </tr>\n",
       "    <tr>\n",
       "        <td style=\"padding-left: 1em; padding-right: 1em; text-align: center; vertical-align: top\">w</td>\n",
       "        <td style=\"padding-left: 1em; padding-right: 1em; text-align: center; vertical-align: top\">o</td>\n",
       "        <td style=\"padding-left: 1em; padding-right: 1em; text-align: center; vertical-align: top\">p</td>\n",
       "        <td style=\"padding-left: 1em; padding-right: 1em; text-align: center; vertical-align: top\">n</td>\n",
       "        <td style=\"padding-left: 1em; padding-right: 1em; text-align: center; vertical-align: top\">n</td>\n",
       "        <td style=\"padding-left: 1em; padding-right: 1em; text-align: center; vertical-align: top\">m</td>\n",
       "        <td style=\"padding-left: 1em; padding-right: 1em; text-align: center; vertical-align: top\">p</td>\n",
       "    </tr>\n",
       "    <tr>\n",
       "        <td style=\"padding-left: 1em; padding-right: 1em; text-align: center; vertical-align: top\">w</td>\n",
       "        <td style=\"padding-left: 1em; padding-right: 1em; text-align: center; vertical-align: top\">o</td>\n",
       "        <td style=\"padding-left: 1em; padding-right: 1em; text-align: center; vertical-align: top\">p</td>\n",
       "        <td style=\"padding-left: 1em; padding-right: 1em; text-align: center; vertical-align: top\">k</td>\n",
       "        <td style=\"padding-left: 1em; padding-right: 1em; text-align: center; vertical-align: top\">s</td>\n",
       "        <td style=\"padding-left: 1em; padding-right: 1em; text-align: center; vertical-align: top\">u</td>\n",
       "        <td style=\"padding-left: 1em; padding-right: 1em; text-align: center; vertical-align: top\">p</td>\n",
       "    </tr>\n",
       "    <tr>\n",
       "        <td style=\"padding-left: 1em; padding-right: 1em; text-align: center; vertical-align: top\">w</td>\n",
       "        <td style=\"padding-left: 1em; padding-right: 1em; text-align: center; vertical-align: top\">o</td>\n",
       "        <td style=\"padding-left: 1em; padding-right: 1em; text-align: center; vertical-align: top\">e</td>\n",
       "        <td style=\"padding-left: 1em; padding-right: 1em; text-align: center; vertical-align: top\">n</td>\n",
       "        <td style=\"padding-left: 1em; padding-right: 1em; text-align: center; vertical-align: top\">a</td>\n",
       "        <td style=\"padding-left: 1em; padding-right: 1em; text-align: center; vertical-align: top\">g</td>\n",
       "        <td style=\"padding-left: 1em; padding-right: 1em; text-align: center; vertical-align: top\">p</td>\n",
       "    </tr>\n",
       "</table>\n",
       "[5 rows x 23 columns]<br/>\n",
       "</div>"
      ],
      "text/plain": [
       "Columns:\n",
       "\tlabel\tint\n",
       "\tcap-shape\tstr\n",
       "\tcap-surface\tstr\n",
       "\tcap-color\tstr\n",
       "\tbruises?\tstr\n",
       "\todor\tstr\n",
       "\tgill-attachment\tstr\n",
       "\tgill-spacing\tstr\n",
       "\tgill-size\tstr\n",
       "\tgill-color\tstr\n",
       "\tstalk-shape\tstr\n",
       "\tstalk-root\tstr\n",
       "\tstalk-surface-above-ring\tstr\n",
       "\tstalk-surface-below-ring\tstr\n",
       "\tstalk-color-above-ring\tstr\n",
       "\tstalk-color-below-ring\tstr\n",
       "\tveil-color\tstr\n",
       "\tring-number\tstr\n",
       "\tring-type\tstr\n",
       "\tspore-print-color\tstr\n",
       "\tpopulation\tstr\n",
       "\thabitat\tstr\n",
       "\tveil-type\tstr\n",
       "\n",
       "Rows: 5\n",
       "\n",
       "Data:\n",
       "+-------+-----------+-------------+-----------+----------+------+-----------------+\n",
       "| label | cap-shape | cap-surface | cap-color | bruises? | odor | gill-attachment |\n",
       "+-------+-----------+-------------+-----------+----------+------+-----------------+\n",
       "|   0   |     x     |      s      |     n     |    t     |  p   |        f        |\n",
       "|   1   |     x     |      s      |     y     |    t     |  a   |        f        |\n",
       "|   1   |     b     |      s      |     w     |    t     |  l   |        f        |\n",
       "|   0   |     x     |      y      |     w     |    t     |  p   |        f        |\n",
       "|   1   |     x     |      s      |     g     |    f     |  n   |        f        |\n",
       "+-------+-----------+-------------+-----------+----------+------+-----------------+\n",
       "+--------------+-----------+------------+-------------+------------+--------------------------+\n",
       "| gill-spacing | gill-size | gill-color | stalk-shape | stalk-root | stalk-surface-above-ring |\n",
       "+--------------+-----------+------------+-------------+------------+--------------------------+\n",
       "|      c       |     n     |     k      |      e      |     e      |            s             |\n",
       "|      c       |     b     |     k      |      e      |     c      |            s             |\n",
       "|      c       |     b     |     n      |      e      |     c      |            s             |\n",
       "|      c       |     n     |     n      |      e      |     e      |            s             |\n",
       "|      w       |     b     |     k      |      t      |     e      |            s             |\n",
       "+--------------+-----------+------------+-------------+------------+--------------------------+\n",
       "+--------------------------+------------------------+------------------------+------------+\n",
       "| stalk-surface-below-ring | stalk-color-above-ring | stalk-color-below-ring | veil-color |\n",
       "+--------------------------+------------------------+------------------------+------------+\n",
       "|            s             |           w            |           w            |     w      |\n",
       "|            s             |           w            |           w            |     w      |\n",
       "|            s             |           w            |           w            |     w      |\n",
       "|            s             |           w            |           w            |     w      |\n",
       "|            s             |           w            |           w            |     w      |\n",
       "+--------------------------+------------------------+------------------------+------------+\n",
       "+-------------+-----------+-------------------+-----+\n",
       "| ring-number | ring-type | spore-print-color | ... |\n",
       "+-------------+-----------+-------------------+-----+\n",
       "|      o      |     p     |         k         | ... |\n",
       "|      o      |     p     |         n         | ... |\n",
       "|      o      |     p     |         n         | ... |\n",
       "|      o      |     p     |         k         | ... |\n",
       "|      o      |     e     |         n         | ... |\n",
       "+-------------+-----------+-------------------+-----+\n",
       "[5 rows x 23 columns]"
      ]
     },
     "execution_count": 35,
     "metadata": {},
     "output_type": "execute_result"
    }
   ],
   "source": [
    "data[:5]"
   ]
  },
  {
   "cell_type": "code",
   "execution_count": 36,
   "metadata": {
    "collapsed": false
   },
   "outputs": [
    {
     "data": {
      "text/plain": [
       "dtype: float\n",
       "Rows: 5\n",
       "[0.41855911910533905, 0.711237296462059, 0.7527396082878113, 0.41855911910533905, 0.711237296462059]"
      ]
     },
     "execution_count": 36,
     "metadata": {},
     "output_type": "execute_result"
    }
   ],
   "source": [
    "predictions[:5]"
   ]
  },
  {
   "cell_type": "code",
   "execution_count": 37,
   "metadata": {
    "collapsed": false
   },
   "outputs": [
    {
     "data": {
      "text/plain": [
       "{'max_error': 0.7527396082878113, 'rmse': 0.2691174023615678}"
      ]
     },
     "execution_count": 37,
     "metadata": {},
     "output_type": "execute_result"
    }
   ],
   "source": [
    "results"
   ]
  },
  {
   "cell_type": "code",
   "execution_count": 38,
   "metadata": {
    "collapsed": true
   },
   "outputs": [],
   "source": [
    "# import matplotlib.pyplot as plt\n",
    "# %matplotlib inline"
   ]
  },
  {
   "cell_type": "code",
   "execution_count": 39,
   "metadata": {
    "collapsed": false
   },
   "outputs": [
    {
     "name": "stdout",
     "output_type": "stream",
     "text": [
      "Canvas is accessible via web browser at the URL: http://localhost:51168/index.html\n",
      "Opening Canvas in default web browser.\n"
     ]
    }
   ],
   "source": [
    "model.show(view=\"Tree\", tree_id=0)"
   ]
  },
  {
   "cell_type": "code",
   "execution_count": 50,
   "metadata": {
    "collapsed": false
   },
   "outputs": [
    {
     "data": {
      "text/html": [
       "<pre>Finished parsing file http://s3.amazonaws.com/dato-datasets/regression/houses.csv</pre>"
      ],
      "text/plain": [
       "Finished parsing file http://s3.amazonaws.com/dato-datasets/regression/houses.csv"
      ]
     },
     "metadata": {},
     "output_type": "display_data"
    },
    {
     "data": {
      "text/html": [
       "<pre>Parsing completed. Parsed 15 lines in 0.034021 secs.</pre>"
      ],
      "text/plain": [
       "Parsing completed. Parsed 15 lines in 0.034021 secs."
      ]
     },
     "metadata": {},
     "output_type": "display_data"
    },
    {
     "data": {
      "text/html": [
       "<pre>Finished parsing file http://s3.amazonaws.com/dato-datasets/regression/houses.csv</pre>"
      ],
      "text/plain": [
       "Finished parsing file http://s3.amazonaws.com/dato-datasets/regression/houses.csv"
      ]
     },
     "metadata": {},
     "output_type": "display_data"
    },
    {
     "data": {
      "text/html": [
       "<pre>Parsing completed. Parsed 15 lines in 0.027773 secs.</pre>"
      ],
      "text/plain": [
       "Parsing completed. Parsed 15 lines in 0.027773 secs."
      ]
     },
     "metadata": {},
     "output_type": "display_data"
    },
    {
     "data": {
      "text/html": [
       "<pre>Random forest classifier:</pre>"
      ],
      "text/plain": [
       "Random forest classifier:"
      ]
     },
     "metadata": {},
     "output_type": "display_data"
    },
    {
     "data": {
      "text/html": [
       "<pre>--------------------------------------------------------</pre>"
      ],
      "text/plain": [
       "--------------------------------------------------------"
      ]
     },
     "metadata": {},
     "output_type": "display_data"
    },
    {
     "data": {
      "text/html": [
       "<pre>Number of examples          : 15</pre>"
      ],
      "text/plain": [
       "Number of examples          : 15"
      ]
     },
     "metadata": {},
     "output_type": "display_data"
    },
    {
     "data": {
      "text/html": [
       "<pre>Number of classes           : 2</pre>"
      ],
      "text/plain": [
       "Number of classes           : 2"
      ]
     },
     "metadata": {},
     "output_type": "display_data"
    },
    {
     "data": {
      "text/html": [
       "<pre>Number of feature columns   : 3</pre>"
      ],
      "text/plain": [
       "Number of feature columns   : 3"
      ]
     },
     "metadata": {},
     "output_type": "display_data"
    },
    {
     "data": {
      "text/html": [
       "<pre>Number of unpacked features : 3</pre>"
      ],
      "text/plain": [
       "Number of unpacked features : 3"
      ]
     },
     "metadata": {},
     "output_type": "display_data"
    },
    {
     "data": {
      "text/html": [
       "<pre>+-----------+--------------+-------------------+</pre>"
      ],
      "text/plain": [
       "+-----------+--------------+-------------------+"
      ]
     },
     "metadata": {},
     "output_type": "display_data"
    },
    {
     "data": {
      "text/html": [
       "<pre>| Iteration | Elapsed Time | Training-accuracy |</pre>"
      ],
      "text/plain": [
       "| Iteration | Elapsed Time | Training-accuracy |"
      ]
     },
     "metadata": {},
     "output_type": "display_data"
    },
    {
     "data": {
      "text/html": [
       "<pre>+-----------+--------------+-------------------+</pre>"
      ],
      "text/plain": [
       "+-----------+--------------+-------------------+"
      ]
     },
     "metadata": {},
     "output_type": "display_data"
    },
    {
     "data": {
      "text/html": [
       "<pre>| 1         | 0.027558     | 0.933333          |</pre>"
      ],
      "text/plain": [
       "| 1         | 0.027558     | 0.933333          |"
      ]
     },
     "metadata": {},
     "output_type": "display_data"
    },
    {
     "data": {
      "text/html": [
       "<pre>| 2         | 0.027558     | 0.933333          |</pre>"
      ],
      "text/plain": [
       "| 2         | 0.027558     | 0.933333          |"
      ]
     },
     "metadata": {},
     "output_type": "display_data"
    },
    {
     "data": {
      "text/html": [
       "<pre>| 3         | 0.028559     | 0.933333          |</pre>"
      ],
      "text/plain": [
       "| 3         | 0.028559     | 0.933333          |"
      ]
     },
     "metadata": {},
     "output_type": "display_data"
    },
    {
     "data": {
      "text/html": [
       "<pre>| 4         | 0.029560     | 0.933333          |</pre>"
      ],
      "text/plain": [
       "| 4         | 0.029560     | 0.933333          |"
      ]
     },
     "metadata": {},
     "output_type": "display_data"
    },
    {
     "data": {
      "text/html": [
       "<pre>| 5         | 0.030560     | 0.933333          |</pre>"
      ],
      "text/plain": [
       "| 5         | 0.030560     | 0.933333          |"
      ]
     },
     "metadata": {},
     "output_type": "display_data"
    },
    {
     "data": {
      "text/html": [
       "<pre>| 6         | 0.030560     | 0.933333          |</pre>"
      ],
      "text/plain": [
       "| 6         | 0.030560     | 0.933333          |"
      ]
     },
     "metadata": {},
     "output_type": "display_data"
    },
    {
     "data": {
      "text/html": [
       "<pre>| 7         | 0.032067     | 0.933333          |</pre>"
      ],
      "text/plain": [
       "| 7         | 0.032067     | 0.933333          |"
      ]
     },
     "metadata": {},
     "output_type": "display_data"
    },
    {
     "data": {
      "text/html": [
       "<pre>| 8         | 0.032567     | 0.933333          |</pre>"
      ],
      "text/plain": [
       "| 8         | 0.032567     | 0.933333          |"
      ]
     },
     "metadata": {},
     "output_type": "display_data"
    },
    {
     "data": {
      "text/html": [
       "<pre>| 9         | 0.033567     | 0.933333          |</pre>"
      ],
      "text/plain": [
       "| 9         | 0.033567     | 0.933333          |"
      ]
     },
     "metadata": {},
     "output_type": "display_data"
    },
    {
     "data": {
      "text/html": [
       "<pre>| 10        | 0.034568     | 0.933333          |</pre>"
      ],
      "text/plain": [
       "| 10        | 0.034568     | 0.933333          |"
      ]
     },
     "metadata": {},
     "output_type": "display_data"
    },
    {
     "data": {
      "text/html": [
       "<pre>+-----------+--------------+-------------------+</pre>"
      ],
      "text/plain": [
       "+-----------+--------------+-------------------+"
      ]
     },
     "metadata": {},
     "output_type": "display_data"
    },
    {
     "name": "stdout",
     "output_type": "stream",
     "text": [
      "------------------------------------------------------\n",
      "Inferred types from first line of file as \n",
      "column_type_hints=[long,long,float,long,long,long]\n",
      "If parsing fails due to incorrect types, you can correct\n",
      "the inferred type list above and pass it to read_csv in\n",
      "the column_type_hints argument\n",
      "------------------------------------------------------\n"
     ]
    }
   ],
   "source": [
    "#random forest \n",
    "data_rand_forest =  gl.SFrame('http://s3.amazonaws.com/dato-datasets/regression/houses.csv')\n",
    "#output is 1 if data_rand_forest['is_expensive'] > 30000, else 0\n",
    "data_rand_forest['is_expensive'] = data_rand_forest['price'].apply(lambda x: 1 if x > 30000 else 0 )  \n",
    "model_rand_forest = gl.random_forest_classifier.create(data_rand_forest,\n",
    "                                                  target='is_expensive',\n",
    "                                                  features=['bath', 'bedroom', 'size'])\n",
    "train_data, validation_data = data_rand_forest.random_split(.8, seed=1)\n",
    "classes = model_rand_forest.classify(data_rand_forest)"
   ]
  },
  {
   "cell_type": "code",
   "execution_count": 51,
   "metadata": {
    "collapsed": false
   },
   "outputs": [
    {
     "data": {
      "text/html": [
       "<div style=\"max-height:1000px;max-width:1500px;overflow:auto;\"><table frame=\"box\" rules=\"cols\">\n",
       "    <tr>\n",
       "        <th style=\"padding-left: 1em; padding-right: 1em; text-align: center\">tax</th>\n",
       "        <th style=\"padding-left: 1em; padding-right: 1em; text-align: center\">bedroom</th>\n",
       "        <th style=\"padding-left: 1em; padding-right: 1em; text-align: center\">bath</th>\n",
       "        <th style=\"padding-left: 1em; padding-right: 1em; text-align: center\">price</th>\n",
       "        <th style=\"padding-left: 1em; padding-right: 1em; text-align: center\">size</th>\n",
       "        <th style=\"padding-left: 1em; padding-right: 1em; text-align: center\">lot</th>\n",
       "        <th style=\"padding-left: 1em; padding-right: 1em; text-align: center\">is_expensive</th>\n",
       "    </tr>\n",
       "    <tr>\n",
       "        <td style=\"padding-left: 1em; padding-right: 1em; text-align: center; vertical-align: top\">590</td>\n",
       "        <td style=\"padding-left: 1em; padding-right: 1em; text-align: center; vertical-align: top\">2</td>\n",
       "        <td style=\"padding-left: 1em; padding-right: 1em; text-align: center; vertical-align: top\">1.0</td>\n",
       "        <td style=\"padding-left: 1em; padding-right: 1em; text-align: center; vertical-align: top\">50000</td>\n",
       "        <td style=\"padding-left: 1em; padding-right: 1em; text-align: center; vertical-align: top\">770</td>\n",
       "        <td style=\"padding-left: 1em; padding-right: 1em; text-align: center; vertical-align: top\">22100</td>\n",
       "        <td style=\"padding-left: 1em; padding-right: 1em; text-align: center; vertical-align: top\">1</td>\n",
       "    </tr>\n",
       "    <tr>\n",
       "        <td style=\"padding-left: 1em; padding-right: 1em; text-align: center; vertical-align: top\">1050</td>\n",
       "        <td style=\"padding-left: 1em; padding-right: 1em; text-align: center; vertical-align: top\">3</td>\n",
       "        <td style=\"padding-left: 1em; padding-right: 1em; text-align: center; vertical-align: top\">2.0</td>\n",
       "        <td style=\"padding-left: 1em; padding-right: 1em; text-align: center; vertical-align: top\">85000</td>\n",
       "        <td style=\"padding-left: 1em; padding-right: 1em; text-align: center; vertical-align: top\">1410</td>\n",
       "        <td style=\"padding-left: 1em; padding-right: 1em; text-align: center; vertical-align: top\">12000</td>\n",
       "        <td style=\"padding-left: 1em; padding-right: 1em; text-align: center; vertical-align: top\">1</td>\n",
       "    </tr>\n",
       "    <tr>\n",
       "        <td style=\"padding-left: 1em; padding-right: 1em; text-align: center; vertical-align: top\">20</td>\n",
       "        <td style=\"padding-left: 1em; padding-right: 1em; text-align: center; vertical-align: top\">3</td>\n",
       "        <td style=\"padding-left: 1em; padding-right: 1em; text-align: center; vertical-align: top\">1.0</td>\n",
       "        <td style=\"padding-left: 1em; padding-right: 1em; text-align: center; vertical-align: top\">22500</td>\n",
       "        <td style=\"padding-left: 1em; padding-right: 1em; text-align: center; vertical-align: top\">1060</td>\n",
       "        <td style=\"padding-left: 1em; padding-right: 1em; text-align: center; vertical-align: top\">3500</td>\n",
       "        <td style=\"padding-left: 1em; padding-right: 1em; text-align: center; vertical-align: top\">0</td>\n",
       "    </tr>\n",
       "    <tr>\n",
       "        <td style=\"padding-left: 1em; padding-right: 1em; text-align: center; vertical-align: top\">870</td>\n",
       "        <td style=\"padding-left: 1em; padding-right: 1em; text-align: center; vertical-align: top\">2</td>\n",
       "        <td style=\"padding-left: 1em; padding-right: 1em; text-align: center; vertical-align: top\">2.0</td>\n",
       "        <td style=\"padding-left: 1em; padding-right: 1em; text-align: center; vertical-align: top\">90000</td>\n",
       "        <td style=\"padding-left: 1em; padding-right: 1em; text-align: center; vertical-align: top\">1300</td>\n",
       "        <td style=\"padding-left: 1em; padding-right: 1em; text-align: center; vertical-align: top\">17500</td>\n",
       "        <td style=\"padding-left: 1em; padding-right: 1em; text-align: center; vertical-align: top\">1</td>\n",
       "    </tr>\n",
       "    <tr>\n",
       "        <td style=\"padding-left: 1em; padding-right: 1em; text-align: center; vertical-align: top\">1320</td>\n",
       "        <td style=\"padding-left: 1em; padding-right: 1em; text-align: center; vertical-align: top\">3</td>\n",
       "        <td style=\"padding-left: 1em; padding-right: 1em; text-align: center; vertical-align: top\">2.0</td>\n",
       "        <td style=\"padding-left: 1em; padding-right: 1em; text-align: center; vertical-align: top\">133000</td>\n",
       "        <td style=\"padding-left: 1em; padding-right: 1em; text-align: center; vertical-align: top\">1500</td>\n",
       "        <td style=\"padding-left: 1em; padding-right: 1em; text-align: center; vertical-align: top\">30000</td>\n",
       "        <td style=\"padding-left: 1em; padding-right: 1em; text-align: center; vertical-align: top\">1</td>\n",
       "    </tr>\n",
       "</table>\n",
       "[5 rows x 7 columns]<br/>\n",
       "</div>"
      ],
      "text/plain": [
       "Columns:\n",
       "\ttax\tint\n",
       "\tbedroom\tint\n",
       "\tbath\tfloat\n",
       "\tprice\tint\n",
       "\tsize\tint\n",
       "\tlot\tint\n",
       "\tis_expensive\tint\n",
       "\n",
       "Rows: 5\n",
       "\n",
       "Data:\n",
       "+------+---------+------+--------+------+-------+--------------+\n",
       "| tax  | bedroom | bath | price  | size |  lot  | is_expensive |\n",
       "+------+---------+------+--------+------+-------+--------------+\n",
       "| 590  |    2    | 1.0  | 50000  | 770  | 22100 |      1       |\n",
       "| 1050 |    3    | 2.0  | 85000  | 1410 | 12000 |      1       |\n",
       "|  20  |    3    | 1.0  | 22500  | 1060 |  3500 |      0       |\n",
       "| 870  |    2    | 2.0  | 90000  | 1300 | 17500 |      1       |\n",
       "| 1320 |    3    | 2.0  | 133000 | 1500 | 30000 |      1       |\n",
       "+------+---------+------+--------+------+-------+--------------+\n",
       "[5 rows x 7 columns]"
      ]
     },
     "execution_count": 51,
     "metadata": {},
     "output_type": "execute_result"
    }
   ],
   "source": [
    "data_rand_forest[:5]"
   ]
  },
  {
   "cell_type": "code",
   "execution_count": 52,
   "metadata": {
    "collapsed": false
   },
   "outputs": [
    {
     "data": {
      "text/plain": [
       "dtype: int\n",
       "Rows: 12\n",
       "[1L, 1L, 1L, 1L, 1L, 1L, 1L, 1L, 1L, 1L, 1L, 1L]"
      ]
     },
     "execution_count": 52,
     "metadata": {},
     "output_type": "execute_result"
    }
   ],
   "source": [
    "# Save predictions to an SArray\n",
    "predictions_rand = model_rand_forest.predict(train_data)\n",
    "predictions_rand"
   ]
  },
  {
   "cell_type": "code",
   "execution_count": 53,
   "metadata": {
    "collapsed": false
   },
   "outputs": [],
   "source": [
    "results =model_rand_forest.evaluate(train_data)"
   ]
  },
  {
   "cell_type": "code",
   "execution_count": 54,
   "metadata": {
    "collapsed": false
   },
   "outputs": [
    {
     "name": "stdout",
     "output_type": "stream",
     "text": [
      "{'f1_score': 0.9565217391304348, 'auc': 1.0, 'recall': 1.0, 'precision': 0.9166666666666666, 'log_loss': 0.32650544507418167, 'roc_curve': Columns:\n",
      "\tthreshold\tfloat\n",
      "\tfpr\tfloat\n",
      "\ttpr\tfloat\n",
      "\tp\tint\n",
      "\tn\tint\n",
      "\n",
      "Rows: 100001\n",
      "\n",
      "Data:\n",
      "+-----------+-----+-----+----+---+\n",
      "| threshold | fpr | tpr | p  | n |\n",
      "+-----------+-----+-----+----+---+\n",
      "|    0.0    | 1.0 | 1.0 | 11 | 1 |\n",
      "|   1e-05   | 1.0 | 1.0 | 11 | 1 |\n",
      "|   2e-05   | 1.0 | 1.0 | 11 | 1 |\n",
      "|   3e-05   | 1.0 | 1.0 | 11 | 1 |\n",
      "|   4e-05   | 1.0 | 1.0 | 11 | 1 |\n",
      "|   5e-05   | 1.0 | 1.0 | 11 | 1 |\n",
      "|   6e-05   | 1.0 | 1.0 | 11 | 1 |\n",
      "|   7e-05   | 1.0 | 1.0 | 11 | 1 |\n",
      "|   8e-05   | 1.0 | 1.0 | 11 | 1 |\n",
      "|   9e-05   | 1.0 | 1.0 | 11 | 1 |\n",
      "+-----------+-----+-----+----+---+\n",
      "[100001 rows x 5 columns]\n",
      "Note: Only the head of the SFrame is printed.\n",
      "You can use print_rows(num_rows=m, num_columns=n) to print more rows and columns., 'confusion_matrix': Columns:\n",
      "\ttarget_label\tint\n",
      "\tpredicted_label\tint\n",
      "\tcount\tint\n",
      "\n",
      "Rows: 2\n",
      "\n",
      "Data:\n",
      "+--------------+-----------------+-------+\n",
      "| target_label | predicted_label | count |\n",
      "+--------------+-----------------+-------+\n",
      "|      1       |        1        |   11  |\n",
      "|      0       |        1        |   1   |\n",
      "+--------------+-----------------+-------+\n",
      "[2 rows x 3 columns]\n",
      ", 'accuracy': 0.9166666666666666}\n"
     ]
    }
   ],
   "source": [
    "print results"
   ]
  },
  {
   "cell_type": "code",
   "execution_count": 55,
   "metadata": {
    "collapsed": false
   },
   "outputs": [
    {
     "name": "stdout",
     "output_type": "stream",
     "text": [
      "+-------+----------------+\n",
      "| class |  probability   |\n",
      "+-------+----------------+\n",
      "|   1   | 0.695071120407 |\n",
      "|   1   | 0.794814103606 |\n",
      "|   1   | 0.578658505762 |\n",
      "|   1   | 0.794814103606 |\n",
      "|   1   | 0.794814103606 |\n",
      "|   1   | 0.695071120407 |\n",
      "|   1   | 0.794814103606 |\n",
      "|   1   | 0.725239517982 |\n",
      "|   1   | 0.794814103606 |\n",
      "|   1   | 0.794814103606 |\n",
      "+-------+----------------+\n",
      "[15 rows x 2 columns]\n",
      "Note: Only the head of the SFrame is printed.\n",
      "You can use print_rows(num_rows=m, num_columns=n) to print more rows and columns.\n"
     ]
    }
   ],
   "source": [
    "print classes"
   ]
  },
  {
   "cell_type": "code",
   "execution_count": 11,
   "metadata": {
    "collapsed": false
   },
   "outputs": [
    {
     "name": "stdout",
     "output_type": "stream",
     "text": [
      "Canvas is accessible via web browser at the URL: http://localhost:51168/index.html\n",
      "Opening Canvas in default web browser.\n"
     ]
    }
   ],
   "source": [
    "#model_rand_forest.show(view=\"Tree\", tree_id=0)   #drawding is just half dot. (not complete)"
   ]
  },
  {
   "cell_type": "code",
   "execution_count": 56,
   "metadata": {
    "collapsed": true
   },
   "outputs": [],
   "source": [
    "\n",
    "def evaluate_predict_correct(model, data):\n",
    "    prediction9 = model.predict(data)\n",
    "    list_val = list(data['is_expensive'])\n",
    "    count9 = 0\n",
    "    for i in range(len(prediction9)):\n",
    "        if prediction9[i] == list_val[i]:\n",
    "            count9 += 1\n",
    "    \n",
    "    return count9/float(len(prediction9))"
   ]
  },
  {
   "cell_type": "code",
   "execution_count": 61,
   "metadata": {
    "collapsed": false
   },
   "outputs": [
    {
     "name": "stdout",
     "output_type": "stream",
     "text": [
      "number of validation_not_exp 0\n",
      "sample_validation_not_exp\n",
      "+-----+---------+------+-------+------+-----+--------------+\n",
      "| tax | bedroom | bath | price | size | lot | is_expensive |\n",
      "+-----+---------+------+-------+------+-----+--------------+\n",
      "+-----+---------+------+-------+------+-----+--------------+\n",
      "[0 rows x 7 columns]\n",
      "\n",
      "sample_validation_exp\n",
      "+------+---------+------+--------+------+-------+--------------+\n",
      "| tax  | bedroom | bath | price  | size |  lot  | is_expensive |\n",
      "+------+---------+------+--------+------+-------+--------------+\n",
      "| 1840 |    3    | 2.0  | 160000 | 1500 | 19000 |      1       |\n",
      "| 3680 |    4    | 2.0  | 240000 | 2790 | 20000 |      1       |\n",
      "+------+---------+------+--------+------+-------+--------------+\n",
      "[2 rows x 7 columns]\n",
      "\n"
     ]
    },
    {
     "data": {
      "text/html": [
       "<div style=\"max-height:1000px;max-width:1500px;overflow:auto;\"><table frame=\"box\" rules=\"cols\">\n",
       "    <tr>\n",
       "        <th style=\"padding-left: 1em; padding-right: 1em; text-align: center\">tax</th>\n",
       "        <th style=\"padding-left: 1em; padding-right: 1em; text-align: center\">bedroom</th>\n",
       "        <th style=\"padding-left: 1em; padding-right: 1em; text-align: center\">bath</th>\n",
       "        <th style=\"padding-left: 1em; padding-right: 1em; text-align: center\">price</th>\n",
       "        <th style=\"padding-left: 1em; padding-right: 1em; text-align: center\">size</th>\n",
       "        <th style=\"padding-left: 1em; padding-right: 1em; text-align: center\">lot</th>\n",
       "        <th style=\"padding-left: 1em; padding-right: 1em; text-align: center\">is_expensive</th>\n",
       "    </tr>\n",
       "    <tr>\n",
       "        <td style=\"padding-left: 1em; padding-right: 1em; text-align: center; vertical-align: top\">1840</td>\n",
       "        <td style=\"padding-left: 1em; padding-right: 1em; text-align: center; vertical-align: top\">3</td>\n",
       "        <td style=\"padding-left: 1em; padding-right: 1em; text-align: center; vertical-align: top\">2.0</td>\n",
       "        <td style=\"padding-left: 1em; padding-right: 1em; text-align: center; vertical-align: top\">160000</td>\n",
       "        <td style=\"padding-left: 1em; padding-right: 1em; text-align: center; vertical-align: top\">1500</td>\n",
       "        <td style=\"padding-left: 1em; padding-right: 1em; text-align: center; vertical-align: top\">19000</td>\n",
       "        <td style=\"padding-left: 1em; padding-right: 1em; text-align: center; vertical-align: top\">1</td>\n",
       "    </tr>\n",
       "    <tr>\n",
       "        <td style=\"padding-left: 1em; padding-right: 1em; text-align: center; vertical-align: top\">3680</td>\n",
       "        <td style=\"padding-left: 1em; padding-right: 1em; text-align: center; vertical-align: top\">4</td>\n",
       "        <td style=\"padding-left: 1em; padding-right: 1em; text-align: center; vertical-align: top\">2.0</td>\n",
       "        <td style=\"padding-left: 1em; padding-right: 1em; text-align: center; vertical-align: top\">240000</td>\n",
       "        <td style=\"padding-left: 1em; padding-right: 1em; text-align: center; vertical-align: top\">2790</td>\n",
       "        <td style=\"padding-left: 1em; padding-right: 1em; text-align: center; vertical-align: top\">20000</td>\n",
       "        <td style=\"padding-left: 1em; padding-right: 1em; text-align: center; vertical-align: top\">1</td>\n",
       "    </tr>\n",
       "</table>\n",
       "[2 rows x 7 columns]<br/>\n",
       "</div>"
      ],
      "text/plain": [
       "Columns:\n",
       "\ttax\tint\n",
       "\tbedroom\tint\n",
       "\tbath\tfloat\n",
       "\tprice\tint\n",
       "\tsize\tint\n",
       "\tlot\tint\n",
       "\tis_expensive\tint\n",
       "\n",
       "Rows: 2\n",
       "\n",
       "Data:\n",
       "+------+---------+------+--------+------+-------+--------------+\n",
       "| tax  | bedroom | bath | price  | size |  lot  | is_expensive |\n",
       "+------+---------+------+--------+------+-------+--------------+\n",
       "| 1840 |    3    | 2.0  | 160000 | 1500 | 19000 |      1       |\n",
       "| 3680 |    4    | 2.0  | 240000 | 2790 | 20000 |      1       |\n",
       "+------+---------+------+--------+------+-------+--------------+\n",
       "[2 rows x 7 columns]"
      ]
     },
     "execution_count": 61,
     "metadata": {},
     "output_type": "execute_result"
    }
   ],
   "source": [
    "target = 'is_expensive'\n",
    "# Select all positive and negative examples.\n",
    "validation_exp = validation_data[validation_data[target] == 1]\n",
    "validation_not_exp = validation_data[validation_data[target] == 0]\n",
    "print \"number of validation_not_exp\",len(validation_not_exp)  #number wrong.!!\n",
    "# Select 2 examples from the validation set for positive & negative loans\n",
    "sample_validation_not_exp = validation_not_exp[0:2]\n",
    "sample_validation_exp = validation_exp[0:2]\n",
    "print \"sample_validation_not_exp\\n\",sample_validation_not_exp\n",
    "print \"sample_validation_exp\\n\",sample_validation_exp\n",
    "# Append the 4 examples into a single dataset\n",
    "sample_validation_data = sample_validation_exp.append(sample_validation_not_exp)\n",
    "sample_validation_data"
   ]
  },
  {
   "cell_type": "code",
   "execution_count": 58,
   "metadata": {
    "collapsed": false
   },
   "outputs": [
    {
     "name": "stdout",
     "output_type": "stream",
     "text": [
      "2\n",
      "y: [1L, 1L]\n",
      "y hat:"
     ]
    },
    {
     "ename": "NameError",
     "evalue": "name 'model_5' is not defined",
     "output_type": "error",
     "traceback": [
      "\u001b[1;31m---------------------------------------------------------------------------\u001b[0m",
      "\u001b[1;31mNameError\u001b[0m                                 Traceback (most recent call last)",
      "\u001b[1;32m<ipython-input-58-9c7093f1ad41>\u001b[0m in \u001b[0;36m<module>\u001b[1;34m()\u001b[0m\n\u001b[0;32m      2\u001b[0m \u001b[1;32mprint\u001b[0m \u001b[0mlen\u001b[0m\u001b[1;33m(\u001b[0m\u001b[0msample_validation_data\u001b[0m\u001b[1;33m)\u001b[0m\u001b[1;33m\u001b[0m\u001b[0m\n\u001b[0;32m      3\u001b[0m \u001b[1;32mprint\u001b[0m \u001b[1;34m\"y:\"\u001b[0m\u001b[1;33m,\u001b[0m\u001b[0msample_validation_data\u001b[0m\u001b[1;33m[\u001b[0m\u001b[0mtarget\u001b[0m\u001b[1;33m]\u001b[0m\u001b[1;33m\u001b[0m\u001b[0m\n\u001b[1;32m----> 4\u001b[1;33m \u001b[1;32mprint\u001b[0m \u001b[1;34m\"y hat:\"\u001b[0m\u001b[1;33m,\u001b[0m\u001b[0mmodel_5\u001b[0m\u001b[1;33m.\u001b[0m\u001b[0mpredict\u001b[0m\u001b[1;33m(\u001b[0m\u001b[0msample_validation_data\u001b[0m\u001b[1;33m)\u001b[0m\u001b[1;33m\u001b[0m\u001b[0m\n\u001b[0m\u001b[0;32m      5\u001b[0m \u001b[1;33m\u001b[0m\u001b[0m\n\u001b[0;32m      6\u001b[0m \u001b[0mresult_pred_correct\u001b[0m\u001b[1;33m=\u001b[0m\u001b[0mevaluate_predict_correct\u001b[0m\u001b[1;33m(\u001b[0m\u001b[0mmodel_5\u001b[0m\u001b[1;33m,\u001b[0m\u001b[0msample_validation_data\u001b[0m\u001b[1;33m)\u001b[0m\u001b[1;33m\u001b[0m\u001b[0m\n",
      "\u001b[1;31mNameError\u001b[0m: name 'model_5' is not defined"
     ]
    }
   ],
   "source": [
    "\n",
    "print len(sample_validation_data)\n",
    "print \"y:\",sample_validation_data[target]\n",
    "print \"y hat:\",model_5.predict(sample_validation_data)\n",
    "\n",
    "result_pred_correct=evaluate_predict_correct(model_5,sample_validation_data)\n",
    "print result_pred_correct"
   ]
  },
  {
   "cell_type": "code",
   "execution_count": null,
   "metadata": {
    "collapsed": true
   },
   "outputs": [],
   "source": []
  }
 ],
 "metadata": {
  "kernelspec": {
   "display_name": "Python 2",
   "language": "python",
   "name": "python2"
  },
  "language_info": {
   "codemirror_mode": {
    "name": "ipython",
    "version": 2
   },
   "file_extension": ".py",
   "mimetype": "text/x-python",
   "name": "python",
   "nbconvert_exporter": "python",
   "pygments_lexer": "ipython2",
   "version": "2.7.10"
  }
 },
 "nbformat": 4,
 "nbformat_minor": 0
}
