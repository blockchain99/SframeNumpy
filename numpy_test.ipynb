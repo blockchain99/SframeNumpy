{
 "cells": [
  {
   "cell_type": "code",
   "execution_count": 14,
   "metadata": {
    "collapsed": false
   },
   "outputs": [],
   "source": [
    "# The usual preamble\n",
    "%matplotlib inline\n",
    "\n",
    "import pandas as pd\n",
    "from scipy import special, optimize\n",
    "import numpy as np\n",
    "import matplotlib.pyplot as plt\n",
    "\n",
    "# Make the graphs a bit prettier, and bigger\n",
    "pd.set_option('display.mpl_style', 'default')\n",
    "plt.rcParams['figure.figsize'] = (15, 5)\n",
    "plt.rcParams['font.family'] = 'sans-serif'\n",
    "\n",
    "# This is necessary to show lots of columns in pandas 0.12. \n",
    "# Not necessary in pandas 0.13.\n",
    "pd.set_option('display.width', 5000) \n",
    "pd.set_option('display.max_columns', 60)"
   ]
  },
  {
   "cell_type": "code",
   "execution_count": 15,
   "metadata": {
    "collapsed": false
   },
   "outputs": [
    {
     "name": "stdout",
     "output_type": "stream",
     "text": [
      "np.linspace(0, 1000, 5) : [    0.   250.   500.   750.  1000.]\n",
      "np.arange(0, 5, 0.1): [ 0.   0.1  0.2  0.3  0.4  0.5  0.6  0.7  0.8  0.9  1.   1.1  1.2  1.3  1.4\n",
      "  1.5  1.6  1.7  1.8  1.9  2.   2.1  2.2  2.3  2.4  2.5  2.6  2.7  2.8  2.9\n",
      "  3.   3.1  3.2  3.3  3.4  3.5  3.6  3.7  3.8  3.9  4.   4.1  4.2  4.3  4.4\n",
      "  4.5  4.6  4.7  4.8  4.9]\n",
      "np.arange(0, 5): [0 1 2 3 4]\n",
      "[ 0.          0.09983342  0.19866933  0.29552021  0.38941834  0.47942554\n",
      "  0.56464247  0.64421769  0.71735609  0.78332691  0.84147098  0.89120736\n",
      "  0.93203909  0.96355819  0.98544973  0.99749499  0.9995736   0.99166481\n",
      "  0.97384763  0.94630009  0.90929743  0.86320937  0.8084964   0.74570521\n",
      "  0.67546318  0.59847214  0.51550137  0.42737988  0.33498815  0.23924933\n",
      "  0.14112001  0.04158066 -0.05837414 -0.15774569 -0.2555411  -0.35078323\n",
      " -0.44252044 -0.52983614 -0.61185789 -0.68776616 -0.7568025  -0.81827711\n",
      " -0.87157577 -0.91616594 -0.95160207 -0.97753012 -0.993691   -0.99992326\n",
      " -0.99616461 -0.98245261]\n",
      "[<matplotlib.lines.Line2D object at 0x000000000D15E780>]\n",
      "[ 0.          0.84147098  0.90929743  0.14112001 -0.7568025 ]\n",
      "[<matplotlib.lines.Line2D object at 0x000000000D5FF710>]\n"
     ]
    },
    {
     "data": {
      "image/png": "[encoded data removed]",
      "text/plain": [
       "<matplotlib.figure.Figure at 0xd4976d8>"
      ]
     },
     "metadata": {},
     "output_type": "display_data"
    }
   ],
   "source": [
    "x1 = np.linspace(0, 1000, 5)  #np.linspace(start, end, number_of_element)\n",
    "print \"np.linspace(0, 1000, 5) :\",x1\n",
    "x2 = np.arange(0, 5, 0.1)  # np.arange(start, end, increment)\n",
    "print \"np.arange(0, 5, 0.1):\",x2     #x is from 0 less than 5 incremental:0.1 , so more smoother line than below.\n",
    "x3 = np.arange(0, 5)  # np.arange(start, end, increment)\n",
    "print \"np.arange(0, 5):\",x3   # x is five elements(0,1,2,3,4)\n",
    "y1 = np.sin(x1)\n",
    "y2 = np.sin(x2)\n",
    "y3 = np.sin(x3)\n",
    "print y2\n",
    "print plt.plot(x2, y2)\n",
    "print y3\n",
    "print plt.plot(x3, y3)"
   ]
  },
  {
   "cell_type": "code",
   "execution_count": 16,
   "metadata": {
    "collapsed": false
   },
   "outputs": [
    {
     "name": "stdout",
     "output_type": "stream",
     "text": [
      "['1.0' 'is' 'True']\n",
      "changed different type to all numpy.ndarray type :  <type 'numpy.ndarray'>\n",
      "--------------------------------\n",
      "python_list + python_list :  [1, 2, 3, 1, 2, 3]\n",
      "numpy_array + numpy_array :  [2 4 6]\n"
     ]
    }
   ],
   "source": [
    "# numpy arrays : contain only one type -> converted all string\n",
    "arr1 = np.array([1.0, \"is\", True])\n",
    "print arr1\n",
    "print \"changed different type to all numpy.ndarray type : \",type(arr1)\n",
    "print \"--------------------------------\"\n",
    "python_list = [1,2,3]\n",
    "numpy_array = np.array([1,2,3])\n",
    "print \"python_list + python_list : \",python_list + python_list   #list + list : list concatnation\n",
    "print \"numpy_array + numpy_array : \", numpy_array + numpy_array   #two np.array add-> add of each elements in np.array"
   ]
  },
  {
   "cell_type": "code",
   "execution_count": 17,
   "metadata": {
    "collapsed": false
   },
   "outputs": [
    {
     "name": "stdout",
     "output_type": "stream",
     "text": [
      "9\n",
      "* print y>5 : [False  True  True False False]\n",
      "y[y>5] :  [9 6]\n"
     ]
    }
   ],
   "source": [
    "x = [4 , 9 , 6, 3, 1]\n",
    "print x[1]\n",
    "y = np.array(x)\n",
    "print \"* print y>5 :\",y>5 \n",
    "print \"y[y>5] : \",y[y>5]"
   ]
  },
  {
   "cell_type": "code",
   "execution_count": 18,
   "metadata": {
    "collapsed": false
   },
   "outputs": [
    {
     "name": "stdout",
     "output_type": "stream",
     "text": [
      "[4 5 2]\n",
      "[4 5 2]\n"
     ]
    }
   ],
   "source": [
    "print np.array([True, 1, 2]) + np.array([3, 4, False])  #True : 1, False : 0\n",
    "print np.array([1,1,2]) + np.array([3,4,0])\n"
   ]
  },
  {
   "cell_type": "code",
   "execution_count": 19,
   "metadata": {
    "collapsed": false
   },
   "outputs": [
    {
     "name": "stdout",
     "output_type": "stream",
     "text": [
      "* np_height : [ 1.73  1.68  1.71  1.89  1.79]\n",
      "* np_weight : [ 65.4  59.2  63.6  88.4  68.7]\n",
      "bmi using numpy is : [ 21.85171573  20.97505669  21.75028214  24.7473475   21.44127836]\n",
      "(5L,)\n",
      "* height[1:] :  [1.68, 1.71, 1.89, 1.79]\n",
      "- np_height[1:] : [ 1.68  1.71  1.89  1.79]\n",
      "20.9750566893\n",
      "**bmi_np > 23 : [False False False  True False]\n",
      "bmi_np[bmi_np > 23] : [ 24.7473475]\n"
     ]
    }
   ],
   "source": [
    "height =[1.73,1.68,1.71,1.89,1.79]\n",
    "np_height=np.array(height)\n",
    "print \"* np_height :\",np_height\n",
    "weight = [65.4, 59.2, 63.6, 88.4,68.7 ]\n",
    "np_weight = np.array(weight)\n",
    "print \"* np_weight :\",np_weight\n",
    "#bmi = weight/height**2\n",
    "bmi_np = np_weight/np_height **2\n",
    "#print \"bmi : \", bmi    #TypeError: unsupported operand type(s) for ** or pow(): 'list' and 'int'\n",
    "print \"bmi using numpy is :\", bmi_np\n",
    "print np_height.shape                    #.shape .dtype, which has no () \n",
    "print \"* height[1:] : \", height[1:]    #5 row, 0 column: [1:]is row from 1 to end.    #confusing..!!\n",
    "print \"- np_height[1:] :\",np_height[1:]\n",
    "\n",
    "print bmi_np[1]\n",
    "print \"**bmi_np > 23 :\", bmi_np > 23\n",
    "print \"bmi_np[bmi_np > 23] :\",bmi_np[bmi_np > 23]\n"
   ]
  },
  {
   "cell_type": "code",
   "execution_count": 20,
   "metadata": {
    "collapsed": false
   },
   "outputs": [
    {
     "name": "stdout",
     "output_type": "stream",
     "text": [
      "<type 'numpy.ndarray'>\n",
      "int32\n",
      "(8L,)\n"
     ]
    }
   ],
   "source": [
    "# Create list baseball\n",
    "baseball = [180, 215, 210, 210, 188, 176, 209, 200]\n",
    "# Create a Numpy array from baseball: np_baseball\n",
    "np_baseball = np.array(baseball)\n",
    "# Print out type of np_baseball\n",
    "print(type(np_baseball))\n",
    "print np_baseball.dtype\n",
    "print np_baseball.shape"
   ]
  },
  {
   "cell_type": "code",
   "execution_count": 21,
   "metadata": {
    "collapsed": false
   },
   "outputs": [
    {
     "name": "stdout",
     "output_type": "stream",
     "text": [
      "bmi2 :  [ 15363.26405875  14746.91226026  15291.94924605  17399.09301044\n",
      "  15074.69826837]\n",
      "bmi2[1:5] : [ 14746.91226026  15291.94924605  17399.09301044  15074.69826837]\n",
      "[False False False  True False]\n",
      "[ 17399.09301044]\n"
     ]
    }
   ],
   "source": [
    "# Calculate the BMI: bmi\n",
    "np_height_m = np.array(height) * 0.0254\n",
    "np_weight_kg = np.array(weight) * 0.453592\n",
    "bmi2 = np_weight_kg / np_height_m ** 2\n",
    "print \"bmi2 : \", bmi2\n",
    "print \"bmi2[1:5] :\", bmi2[1:5]   #from bmi2[1] to bmi2[4]  end:5 not included\n",
    "# Create the light array\n",
    "light = bmi2 > 16555\n",
    "# Print out light\n",
    "print(light)\n",
    "# Print out BMIs of all baseball players whose BMI is below 21\n",
    "print(bmi2[light])"
   ]
  },
  {
   "cell_type": "code",
   "execution_count": 22,
   "metadata": {
    "collapsed": false
   },
   "outputs": [
    {
     "ename": "ImportError",
     "evalue": "No module named cycler",
     "output_type": "error",
     "traceback": [
      "\u001b[1;31m---------------------------------------------------------------------------\u001b[0m",
      "\u001b[1;31mImportError\u001b[0m                               Traceback (most recent call last)",
      "\u001b[1;32m<ipython-input-22-2bdf49321466>\u001b[0m in \u001b[0;36m<module>\u001b[1;34m()\u001b[0m\n\u001b[1;32m----> 1\u001b[1;33m \u001b[1;32mfrom\u001b[0m \u001b[0mcycler\u001b[0m \u001b[1;32mimport\u001b[0m \u001b[0mcycler\u001b[0m   \u001b[1;31m#error\u001b[0m\u001b[1;33m\u001b[0m\u001b[0m\n\u001b[0m\u001b[0;32m      2\u001b[0m \u001b[0mx\u001b[0m \u001b[1;33m=\u001b[0m \u001b[0mnp\u001b[0m\u001b[1;33m.\u001b[0m\u001b[0mlinspace\u001b[0m\u001b[1;33m(\u001b[0m\u001b[1;36m0\u001b[0m\u001b[1;33m,\u001b[0m \u001b[1;36m2\u001b[0m \u001b[1;33m*\u001b[0m \u001b[0mnp\u001b[0m\u001b[1;33m.\u001b[0m\u001b[0mpi\u001b[0m\u001b[1;33m)\u001b[0m\u001b[1;33m\u001b[0m\u001b[0m\n\u001b[0;32m      3\u001b[0m \u001b[0moffsets\u001b[0m \u001b[1;33m=\u001b[0m \u001b[0mnp\u001b[0m\u001b[1;33m.\u001b[0m\u001b[0mlinspace\u001b[0m\u001b[1;33m(\u001b[0m\u001b[1;36m0\u001b[0m\u001b[1;33m,\u001b[0m \u001b[1;36m2\u001b[0m\u001b[1;33m*\u001b[0m\u001b[0mnp\u001b[0m\u001b[1;33m.\u001b[0m\u001b[0mpi\u001b[0m\u001b[1;33m,\u001b[0m \u001b[1;36m4\u001b[0m\u001b[1;33m,\u001b[0m \u001b[0mendpoint\u001b[0m\u001b[1;33m=\u001b[0m\u001b[0mFalse\u001b[0m\u001b[1;33m)\u001b[0m\u001b[1;33m\u001b[0m\u001b[0m\n\u001b[0;32m      4\u001b[0m \u001b[1;31m# Create array with shifted-sine curve along each column\u001b[0m\u001b[1;33m\u001b[0m\u001b[1;33m\u001b[0m\u001b[0m\n\u001b[0;32m      5\u001b[0m \u001b[0myy\u001b[0m \u001b[1;33m=\u001b[0m \u001b[0mnp\u001b[0m\u001b[1;33m.\u001b[0m\u001b[0mtranspose\u001b[0m\u001b[1;33m(\u001b[0m\u001b[1;33m[\u001b[0m\u001b[0mnp\u001b[0m\u001b[1;33m.\u001b[0m\u001b[0msin\u001b[0m\u001b[1;33m(\u001b[0m\u001b[0mx\u001b[0m \u001b[1;33m+\u001b[0m \u001b[0mphi\u001b[0m\u001b[1;33m)\u001b[0m \u001b[1;32mfor\u001b[0m \u001b[0mphi\u001b[0m \u001b[1;32min\u001b[0m \u001b[0moffsets\u001b[0m\u001b[1;33m]\u001b[0m\u001b[1;33m)\u001b[0m\u001b[1;33m\u001b[0m\u001b[0m\n",
      "\u001b[1;31mImportError\u001b[0m: No module named cycler"
     ]
    }
   ],
   "source": [
    "from cycler import cycler   #error\n",
    "x = np.linspace(0, 2 * np.pi)\n",
    "offsets = np.linspace(0, 2*np.pi, 4, endpoint=False)\n",
    "# Create array with shifted-sine curve along each column\n",
    "yy = np.transpose([np.sin(x + phi) for phi in offsets])\n",
    "\n",
    "plt.rc('lines', linewidth=4)\n",
    "plt.rc('axes', prop_cycle=(cycler('color', ['r', 'g', 'b', 'y']) +\n",
    "                           cycler('linestyle', ['-', '--', ':', '-.'])))\n",
    "fig, (ax0, ax1) = plt.subplots(nrows=2)\n",
    "ax0.plot(yy)\n",
    "ax0.set_title('Set default color cycle to rgby')\n",
    "\n",
    "ax1.set_prop_cycle(cycler('color', ['c', 'm', 'y', 'k']) +\n",
    "                   cycler('lw', [1, 2, 3, 4]))\n",
    "ax1.plot(yy)\n",
    "ax1.set_title('Set axes color cycle to cmyk')\n",
    "\n",
    "# Tweak spacing between subplots to prevent labels from overlapping\n",
    "plt.subplots_adjust(hspace=0.3)\n",
    "plt.show()"
   ]
  },
  {
   "cell_type": "code",
   "execution_count": null,
   "metadata": {
    "collapsed": false
   },
   "outputs": [],
   "source": [
    "#2by5 array\n",
    "np_2d = np.array([[1.73, 1.68, 1.71, 1.89, 1.79],   #row 0  for height\n",
    "                  [65.4, 59.2, 63.6 ,88.4, 68.7]])  #row 1  for weight\n",
    "#column              0     1     2     3     4\n",
    "print np_2d\n",
    "print np_2d.shape\n",
    "print \"np_2d[0] : \",np_2d[0]   #row 0\n",
    "print \"np_2d[0,:] : \",np_2d[0,:]  #row 0\n",
    "print \"np_2d[0][2] : \",np_2d[0][2]\n",
    "print \"np_2d[0,2] : \", np_2d[0,2]\n",
    "print np_2d[:,1:3]\n",
    "print \"np_2d[1,:] : \",np_2d[1,:]  #row 1\n",
    "print \"np_2d[:,0] : \",np_2d[:,0]  #column 0\n",
    "# shaped_np_2d = np_2d.reshape(5,2)\n",
    "# print shaped_np_2d\n"
   ]
  },
  {
   "cell_type": "code",
   "execution_count": 23,
   "metadata": {
    "collapsed": false
   },
   "outputs": [
    {
     "name": "stdout",
     "output_type": "stream",
     "text": [
      "[x[0][0], x[1][0]] : ['a', 'c']\n",
      "* ['a' 'c']\n",
      "&&& np_mat : \n",
      "[[ 2  4]\n",
      " [ 6  8]\n",
      " [10 12]]\n",
      "%%%%%%%%\n",
      "[[ 2  4]\n",
      " [ 6  8]\n",
      " [10 12]]\n",
      "$$$$$$$$\n",
      "np_mat + np.array([10, 10]) :\n",
      "[[11 12]\n",
      " [13 14]\n",
      " [15 16]]\n"
     ]
    }
   ],
   "source": [
    "# regular list of lists\n",
    "x = [[\"a\", \"b\"], [\"c\", \"d\"]]\n",
    "print \"[x[0][0], x[1][0]] :\",[x[0][0], x[1][0]]\n",
    "\n",
    "# numpy\n",
    "import numpy as np\n",
    "np_x = np.array(x)\n",
    "print \"*\",np_x[:,0]   #column 0\n",
    "print(\"&&& np_mat : \")\n",
    "np_mat = np.array([[1, 2],\n",
    "                   [3, 4],\n",
    "                   [5, 6]])\n",
    "print np_mat * 2\n",
    "print(\"%%%%%%%%\")\n",
    "print (np_mat + np_mat)\n",
    "print(\"$$$$$$$$\")\n",
    "print \"np_mat + np.array([10, 10]) :\\n\",np_mat + np.array([10, 10])"
   ]
  },
  {
   "cell_type": "code",
   "execution_count": 24,
   "metadata": {
    "collapsed": false
   },
   "outputs": [
    {
     "name": "stdout",
     "output_type": "stream",
     "text": [
      "[[ 180.    78.4]\n",
      " [ 215.   102.7]\n",
      " [ 210.    98.5]\n",
      " [ 188.    75.2]]\n",
      "<type 'numpy.ndarray'>\n",
      "np_baseball.shape. :  (4L, 2L)\n",
      "rp_baseball.reshape(2,4) : \n",
      "[[ 180.    78.4  215.   102.7]\n",
      " [ 210.    98.5  188.    75.2]]\n"
     ]
    }
   ],
   "source": [
    "# Create baseball, a list of lists\n",
    "baseball = [[180, 78.4],\n",
    "            [215, 102.7],\n",
    "            [210, 98.5],\n",
    "            [188, 75.2]]\n",
    "# Create a 2D Numpy array from baseball: np_baseball\n",
    "np_baseball = np.array(baseball)\n",
    "print np_baseball\n",
    "# Print out the type of np_baseball\n",
    "print type(np_baseball)\n",
    "# Print out the shape of np_baseball\n",
    "print\"np_baseball.shape. : \",np_baseball.shape\n",
    "print \"rp_baseball.reshape(2,4) : \\n\" , np_baseball.reshape(2,4)\n"
   ]
  },
  {
   "cell_type": "code",
   "execution_count": 25,
   "metadata": {
    "collapsed": false
   },
   "outputs": [
    {
     "name": "stdout",
     "output_type": "stream",
     "text": [
      "*** np_city : \n",
      "[[  1.881  56.189  57.516]\n",
      " [  1.727  88.644  44.765]\n",
      " [  1.722  89.333  36.598]\n",
      " ..., \n",
      " [  1.899  54.094  27.868]\n",
      " [  2.069  58.816  52.219]\n",
      " [  2.054  57.89   52.356]]\n"
     ]
    }
   ],
   "source": [
    "height=np.round(np.random.normal(1.75, 0.20, 5000),3) #x=np.round(np.random.normal(mean,std,size)) :mean * std * size samples are drawn\n",
    "weight=np.round(np.random.normal(60.32, 15, 5000),3)  #np.round(x,3): Round an array(x) to the given number(3) of decimals=> 3 element\n",
    "age=np.round(np.random.normal(40,10,5000),3)\n",
    "np_city = np.column_stack((height,weight,age))      #np.column_stack(x,y,z) : stack elements in x, e in y , e in z at each order.\n",
    "print \"*** np_city : \"\n",
    "print(np_city)"
   ]
  },
  {
   "cell_type": "code",
   "execution_count": 26,
   "metadata": {
    "collapsed": false
   },
   "outputs": [
    {
     "name": "stdout",
     "output_type": "stream",
     "text": [
      "1.7521732\n",
      "60.7073502\n",
      "40.0010944\n",
      "********************\n",
      "0.201488518784\n",
      "14.9892632\n",
      "10.1152067033\n"
     ]
    }
   ],
   "source": [
    "np_height = np_city[:,0]   #column 0\n",
    "np_weight= np_city[:,1]    #column 1\n",
    "np_age=np_city[:,2]        #column 2\n",
    "print(np.mean(np_height))\n",
    "print(np.mean(np_weight))\n",
    "print(np.mean(np_age))\n",
    "print \"*\"*20\n",
    "print(np.std(np_height))\n",
    "print(np.std(np_weight))\n",
    "print(np.std(np_age))"
   ]
  },
  {
   "cell_type": "markdown",
   "metadata": {},
   "source": [
    "# pandas "
   ]
  },
  {
   "cell_type": "code",
   "execution_count": 27,
   "metadata": {
    "collapsed": false
   },
   "outputs": [
    {
     "name": "stdout",
     "output_type": "stream",
     "text": [
      "**************pandas***************\n",
      "cars_0[:3] :\n",
      "         cars_per_cap right_left code\n",
      "country                              \n",
      "KOREA             0.9      right  KOR\n",
      "UK                1.1       left   UK\n",
      "USA               1.3      right  USA\n",
      "cars_0[2:] :\n",
      "           cars_per_cap right_left code\n",
      "country                                \n",
      "USA                1.30      right  USA\n",
      "JAPAN              1.40       left  JPN\n",
      "SINGAPORE          1.00      right  SIN\n",
      "CHINA              0.40      right  CHN\n",
      "CANADA             1.10      right  CND\n",
      "MALAYSIA           0.50      right  MYL\n",
      "PERU               0.10      right  PRU\n",
      "THAILAND           0.50      right  THI\n",
      "INDIA              0.09       left  IND\n",
      "Import the cars.csv data:  pd.read_csv('cars.csv')\n",
      "cars_1 :\n",
      "  country  cars_per_cap right_left code\n",
      "0   KOREA           0.9      right  KOR\n",
      "1      UK           1.1       left   UK\n",
      "2     USA           1.3      right  USA\n",
      "cars_1['cars_per_cap'] :\n",
      "0     0.90\n",
      "1     1.10\n",
      "2     1.30\n",
      "3     1.40\n",
      "4     1.00\n",
      "5     0.40\n",
      "6     1.10\n",
      "7     0.50\n",
      "8     0.10\n",
      "9     0.50\n",
      "10    0.09\n",
      "Name: cars_per_cap, dtype: float64\n",
      "\n",
      "-----------------------------------\n",
      "***Fix import by including index_col :pd.read_csv('cars.csv', index_col = 0)\n",
      "           cars_per_cap right_left code\n",
      "country                                \n",
      "KOREA              0.90      right  KOR\n",
      "UK                 1.10       left   UK\n",
      "USA                1.30      right  USA\n",
      "JAPAN              1.40       left  JPN\n",
      "SINGAPORE          1.00      right  SIN\n",
      "CHINA              0.40      right  CHN\n",
      "CANADA             1.10      right  CND\n",
      "MALAYSIA           0.50      right  MYL\n",
      "PERU               0.10      right  PRU\n",
      "THAILAND           0.50      right  THI\n",
      "INDIA              0.09       left  IND\n",
      "cars['cars_per_cap'] :\n",
      "country\n",
      "KOREA        0.90\n",
      "UK           1.10\n",
      "USA          1.30\n",
      "JAPAN        1.40\n",
      "SINGAPORE    1.00\n",
      "CHINA        0.40\n",
      "CANADA       1.10\n",
      "MALAYSIA     0.50\n",
      "PERU         0.10\n",
      "THAILAND     0.50\n",
      "INDIA        0.09\n",
      "Name: cars_per_cap, dtype: float64\n",
      "^ cars['right_left'] : \n",
      "country\n",
      "KOREA        right\n",
      "UK            left\n",
      "USA          right\n",
      "JAPAN         left\n",
      "SINGAPORE    right\n",
      "CHINA        right\n",
      "CANADA       right\n",
      "MALAYSIA     right\n",
      "PERU         right\n",
      "THAILAND     right\n",
      "INDIA         left\n",
      "Name: right_left, dtype: object\n",
      "* cars[['right_left']] :\n",
      "          right_left\n",
      "country             \n",
      "KOREA          right\n",
      "UK              left\n",
      "USA            right\n",
      "JAPAN           left\n",
      "SINGAPORE      right\n",
      "CHINA          right\n",
      "CANADA         right\n",
      "MALAYSIA       right\n",
      "PERU           right\n",
      "THAILAND       right\n",
      "INDIA           left\n",
      " ** cars.loc['JAPAN'] : select the observation corresponding JAPAN as a Series \n",
      "cars_per_cap     1.4\n",
      "right_left      left\n",
      "code             JPN\n",
      "Name: JAPAN, dtype: object\n",
      "-- cars.loc[['JAPAN']] : select the observation corresponding JAPAN as a DataFrame\n",
      "         cars_per_cap right_left code\n",
      "country                              \n",
      "JAPAN             1.4       left  JPN\n",
      "* cars.loc[['JAPAN','KOREA']] :\n",
      "         cars_per_cap right_left code\n",
      "country                              \n",
      "JAPAN             1.4       left  JPN\n",
      "KOREA             0.9      right  KOR\n",
      "* cars.loc['INDIA','cars_per_cap'] : \n",
      "0.09\n",
      "** cars.loc[['INDIA','USA'], 'cars_per_cap'] : \n",
      "country\n",
      "INDIA    0.09\n",
      "USA      1.30\n",
      "Name: cars_per_cap, dtype: float64\n",
      "--cars.loc[['INDIA', 'USA'], ['cars_per_cap', 'right_left']] : \n",
      "         cars_per_cap right_left\n",
      "country                         \n",
      "INDIA            0.09       left\n",
      "USA              1.30      right\n"
     ]
    }
   ],
   "source": [
    "print \"**************pandas***************\"\n",
    "cars_0 = pd.read_csv('cars.csv',index_col='country')   #country is index_col\n",
    "print \"cars_0[:3] :\\n\",cars_0[:3]   #just print from 0 to 2 : 3rows with all column(since there is no comment for column)\n",
    "print \"cars_0[2:] :\\n\",cars_0[2:]   #row from 2 to the end .\n",
    "print \"Import the cars.csv data:  pd.read_csv('cars.csv')\"  \n",
    "cars_1 = pd.read_csv('cars.csv')    #If there is no index_column : default 0,1,2.. is shown as index\n",
    "print \"cars_1 :\\n\",cars_1[:3]\n",
    "print \"cars_1['cars_per_cap'] :\\n\", cars_1['cars_per_cap']\n",
    "print\"\"\n",
    "print \"-\"*35\n",
    "print \"***Fix import by including index_col :pd.read_csv('cars.csv', index_col = 0)\"\n",
    "cars = pd.read_csv('cars.csv', index_col = 0)  #index_col=0 means no index column\n",
    "# Print out cars\n",
    "print(cars)\n",
    "print \"cars['cars_per_cap'] :\\n\", cars['cars_per_cap']\n",
    "print \"^ cars['right_left'] : \\n\", cars['right_left']     #Series ->   df['column_name']\n",
    "print \"* cars[['right_left']] :\\n\", cars[['right_left']]  #DataFrame-> df[['column_name']]       #important !!\n",
    "#use cars.loc['JAPAN'] to select observations\n",
    "print\" ** cars.loc['JAPAN'] : select the observation corresponding JAPAN as a Series \\n\", cars.loc['JAPAN']\n",
    "print \"-- cars.loc[['JAPAN']] : select the observation corresponding JAPAN as a DataFrame\\n\",cars.loc[['JAPAN']]\n",
    "print \"* cars.loc[['JAPAN','KOREA']] :\\n\", cars.loc[['JAPAN','KOREA']]\n",
    "#loc also allows you to select both rows and columns from a DataFrame\n",
    "print \"* cars.loc['INDIA','cars_per_cap'] : \\n\",cars.loc['INDIA','cars_per_cap']\n",
    "print \"** cars.loc[['INDIA','USA'], 'cars_per_cap'] : \\n\",cars.loc[['INDIA','USA'], 'cars_per_cap']\n",
    "print \"--cars.loc[['INDIA', 'USA'], ['cars_per_cap', 'right_left']] : \\n\",cars.loc[['INDIA', 'USA'], ['cars_per_cap', 'right_left']]\n"
   ]
  },
  {
   "cell_type": "code",
   "execution_count": 53,
   "metadata": {
    "collapsed": false
   },
   "outputs": [
    {
     "data": {
      "text/plain": [
       "country\n",
       "KOREA        right\n",
       "UK            left\n",
       "USA          right\n",
       "JAPAN         left\n",
       "SINGAPORE    right\n",
       "CHINA        right\n",
       "CANADA       right\n",
       "MALAYSIA     right\n",
       "PERU         right\n",
       "THAILAND     right\n",
       "INDIA         left\n",
       "Name: right_left, dtype: object"
      ]
     },
     "execution_count": 53,
     "metadata": {},
     "output_type": "execute_result"
    }
   ],
   "source": [
    "cars['right_left']   #Series :[]"
   ]
  },
  {
   "cell_type": "code",
   "execution_count": 54,
   "metadata": {
    "collapsed": false
   },
   "outputs": [
    {
     "data": {
      "text/html": [
       "<div>\n",
       "<table border=\"1\" class=\"dataframe\">\n",
       "  <thead>\n",
       "    <tr style=\"text-align: right;\">\n",
       "      <th></th>\n",
       "      <th>right_left</th>\n",
       "    </tr>\n",
       "    <tr>\n",
       "      <th>country</th>\n",
       "      <th></th>\n",
       "    </tr>\n",
       "  </thead>\n",
       "  <tbody>\n",
       "    <tr>\n",
       "      <th>KOREA</th>\n",
       "      <td>right</td>\n",
       "    </tr>\n",
       "    <tr>\n",
       "      <th>UK</th>\n",
       "      <td>left</td>\n",
       "    </tr>\n",
       "    <tr>\n",
       "      <th>USA</th>\n",
       "      <td>right</td>\n",
       "    </tr>\n",
       "    <tr>\n",
       "      <th>JAPAN</th>\n",
       "      <td>left</td>\n",
       "    </tr>\n",
       "    <tr>\n",
       "      <th>SINGAPORE</th>\n",
       "      <td>right</td>\n",
       "    </tr>\n",
       "    <tr>\n",
       "      <th>CHINA</th>\n",
       "      <td>right</td>\n",
       "    </tr>\n",
       "    <tr>\n",
       "      <th>CANADA</th>\n",
       "      <td>right</td>\n",
       "    </tr>\n",
       "    <tr>\n",
       "      <th>MALAYSIA</th>\n",
       "      <td>right</td>\n",
       "    </tr>\n",
       "    <tr>\n",
       "      <th>PERU</th>\n",
       "      <td>right</td>\n",
       "    </tr>\n",
       "    <tr>\n",
       "      <th>THAILAND</th>\n",
       "      <td>right</td>\n",
       "    </tr>\n",
       "    <tr>\n",
       "      <th>INDIA</th>\n",
       "      <td>left</td>\n",
       "    </tr>\n",
       "  </tbody>\n",
       "</table>\n",
       "</div>"
      ],
      "text/plain": [
       "          right_left\n",
       "country             \n",
       "KOREA          right\n",
       "UK              left\n",
       "USA            right\n",
       "JAPAN           left\n",
       "SINGAPORE      right\n",
       "CHINA          right\n",
       "CANADA         right\n",
       "MALAYSIA       right\n",
       "PERU           right\n",
       "THAILAND       right\n",
       "INDIA           left"
      ]
     },
     "execution_count": 54,
     "metadata": {},
     "output_type": "execute_result"
    }
   ],
   "source": [
    "cars[['right_left']]   #DataFrame :[[]]"
   ]
  },
  {
   "cell_type": "code",
   "execution_count": 55,
   "metadata": {
    "collapsed": false
   },
   "outputs": [
    {
     "data": {
      "text/plain": [
       "0     right\n",
       "1      left\n",
       "2     right\n",
       "3      left\n",
       "4     right\n",
       "5     right\n",
       "6     right\n",
       "7     right\n",
       "8     right\n",
       "9     right\n",
       "10     left\n",
       "Name: right_left, dtype: object"
      ]
     },
     "execution_count": 55,
     "metadata": {},
     "output_type": "execute_result"
    }
   ],
   "source": [
    "cars_1['right_left']"
   ]
  },
  {
   "cell_type": "code",
   "execution_count": 56,
   "metadata": {
    "collapsed": false
   },
   "outputs": [
    {
     "data": {
      "text/html": [
       "<div>\n",
       "<table border=\"1\" class=\"dataframe\">\n",
       "  <thead>\n",
       "    <tr style=\"text-align: right;\">\n",
       "      <th></th>\n",
       "      <th>right_left</th>\n",
       "    </tr>\n",
       "  </thead>\n",
       "  <tbody>\n",
       "    <tr>\n",
       "      <th>0</th>\n",
       "      <td>right</td>\n",
       "    </tr>\n",
       "    <tr>\n",
       "      <th>1</th>\n",
       "      <td>left</td>\n",
       "    </tr>\n",
       "    <tr>\n",
       "      <th>2</th>\n",
       "      <td>right</td>\n",
       "    </tr>\n",
       "    <tr>\n",
       "      <th>3</th>\n",
       "      <td>left</td>\n",
       "    </tr>\n",
       "    <tr>\n",
       "      <th>4</th>\n",
       "      <td>right</td>\n",
       "    </tr>\n",
       "    <tr>\n",
       "      <th>5</th>\n",
       "      <td>right</td>\n",
       "    </tr>\n",
       "    <tr>\n",
       "      <th>6</th>\n",
       "      <td>right</td>\n",
       "    </tr>\n",
       "    <tr>\n",
       "      <th>7</th>\n",
       "      <td>right</td>\n",
       "    </tr>\n",
       "    <tr>\n",
       "      <th>8</th>\n",
       "      <td>right</td>\n",
       "    </tr>\n",
       "    <tr>\n",
       "      <th>9</th>\n",
       "      <td>right</td>\n",
       "    </tr>\n",
       "    <tr>\n",
       "      <th>10</th>\n",
       "      <td>left</td>\n",
       "    </tr>\n",
       "  </tbody>\n",
       "</table>\n",
       "</div>"
      ],
      "text/plain": [
       "   right_left\n",
       "0       right\n",
       "1        left\n",
       "2       right\n",
       "3        left\n",
       "4       right\n",
       "5       right\n",
       "6       right\n",
       "7       right\n",
       "8       right\n",
       "9       right\n",
       "10       left"
      ]
     },
     "execution_count": 56,
     "metadata": {},
     "output_type": "execute_result"
    }
   ],
   "source": [
    "cars_1[['right_left']]"
   ]
  },
  {
   "cell_type": "code",
   "execution_count": 1,
   "metadata": {
    "collapsed": false
   },
   "outputs": [
    {
     "name": "stdout",
     "output_type": "stream",
     "text": [
      "[[ -4.94163880e-01   4.52605345e-01  -1.31459941e-01 ...,   2.03914545e+00\n",
      "    7.26304011e-01   2.00883741e+00]\n",
      " [  1.51407567e+00  -9.86789156e-01   9.83821043e-01 ...,  -8.78190377e-01\n",
      "   -9.47355573e-01  -6.83662553e-01]\n",
      " [  2.20467970e+00  -5.55275642e-01   1.64984337e+00 ...,   1.34430894e-01\n",
      "    1.11847543e-03  -8.13083860e-01]\n",
      " ..., \n",
      " [  7.63576326e-02  -2.00882940e+00   2.86257011e-01 ...,  -7.66420143e-01\n",
      "   -5.90917096e-01  -7.73233316e-01]\n",
      " [  5.21842255e-01  -9.64767427e-01   2.46638327e-01 ...,   3.70459372e-01\n",
      "   -3.20483666e-01   3.62171418e-01]\n",
      " [ -4.99951745e-02  -8.65465780e-01  -1.36937842e+00 ...,  -5.19412078e-01\n",
      "    3.42663265e+00   9.03507293e-02]]\n"
     ]
    }
   ],
   "source": [
    "import numpy as np\n",
    "a = np.random.randn(100, 100)\n",
    "print a"
   ]
  },
  {
   "cell_type": "code",
   "execution_count": 2,
   "metadata": {
    "collapsed": false
   },
   "outputs": [
    {
     "name": "stdout",
     "output_type": "stream",
     "text": [
      "The slowest run took 5818.61 times longer than the fastest. This could mean that an intermediate result is being cached \n",
      "1 loops, best of 3: 119 µs per loop\n"
     ]
    }
   ],
   "source": [
    "%timeit np.dot(a, a)"
   ]
  },
  {
   "cell_type": "code",
   "execution_count": null,
   "metadata": {
    "collapsed": true
   },
   "outputs": [],
   "source": []
  }
 ],
 "metadata": {
  "kernelspec": {
   "display_name": "Python 2",
   "language": "python",
   "name": "python2"
  },
  "language_info": {
   "codemirror_mode": {
    "name": "ipython",
    "version": 2
   },
   "file_extension": ".py",
   "mimetype": "text/x-python",
   "name": "python",
   "nbconvert_exporter": "python",
   "pygments_lexer": "ipython2",
   "version": "2.7.12"
  }
 },
 "nbformat": 4,
 "nbformat_minor": 0
}
